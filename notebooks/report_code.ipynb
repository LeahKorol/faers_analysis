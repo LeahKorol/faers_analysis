{
 "cells": [
  {
   "cell_type": "code",
   "execution_count": 6,
   "metadata": {
    "ExecuteTime": {
     "end_time": "2018-06-17T13:46:48.599803Z",
     "start_time": "2018-06-17T13:46:48.593178Z"
    }
   },
   "outputs": [],
   "source": [
    "import pandas as pd\n",
    "import os\n",
    "from glob import glob\n",
    "from matplotlib import pylab as plt\n",
    "import seaborn.apionly as sns\n",
    "%matplotlib inline\n",
    "import json\n",
    "from collections import Counter\n",
    "import sys\n",
    "sys.path.append('../')\n",
    "import src.utils as utils\n",
    "import tqdm\n",
    "import numpy as np"
   ]
  },
  {
   "cell_type": "code",
   "execution_count": 7,
   "metadata": {
    "ExecuteTime": {
     "end_time": "2018-06-17T13:46:50.170325Z",
     "start_time": "2018-06-17T13:46:50.166692Z"
    }
   },
   "outputs": [],
   "source": [
    "fn_config = '../config/belviq.json'\n",
    "config = json.load(open(fn_config))\n",
    "for key, values in config.items():\n",
    "    values = {v.upper() for v in values}\n",
    "    config[key] = values"
   ]
  },
  {
   "cell_type": "code",
   "execution_count": 8,
   "metadata": {
    "ExecuteTime": {
     "end_time": "2018-06-17T13:46:50.821793Z",
     "start_time": "2018-06-17T13:46:50.818855Z"
    }
   },
   "outputs": [],
   "source": [
    "config_name = 'belviq'\n",
    "fn_in = '/Users/boris/devel/faers/data/interim/contingency/belviq.csv'\n",
    "dir_out = '/Users/boris/devel/faers/data/processed/reports/belviq'\n",
    "alpha = 0.95"
   ]
  },
  {
   "cell_type": "code",
   "execution_count": 9,
   "metadata": {
    "ExecuteTime": {
     "end_time": "2018-06-17T13:46:51.808278Z",
     "start_time": "2018-06-17T13:46:51.643485Z"
    }
   },
   "outputs": [
    {
     "name": "stderr",
     "output_type": "stream",
     "text": [
      "../src/utils.py:120: RuntimeWarning: invalid value encountered in long_scalars\n",
      "  ror = (a * d) / (b * c)\n",
      "../src/utils.py:123: RuntimeWarning: divide by zero encountered in log\n",
      "  ln_ror = np.log(ror)\n",
      "../src/utils.py:126: RuntimeWarning: invalid value encountered in add\n",
      "  ci_ln_ror = ln_ror + interval\n"
     ]
    },
    {
     "data": {
      "text/html": [
       "<div>\n",
       "<style scoped>\n",
       "    .dataframe tbody tr th:only-of-type {\n",
       "        vertical-align: middle;\n",
       "    }\n",
       "\n",
       "    .dataframe tbody tr th {\n",
       "        vertical-align: top;\n",
       "    }\n",
       "\n",
       "    .dataframe thead th {\n",
       "        text-align: right;\n",
       "    }\n",
       "</style>\n",
       "<table border=\"1\" class=\"dataframe\">\n",
       "  <thead>\n",
       "    <tr style=\"text-align: right;\">\n",
       "      <th></th>\n",
       "      <th>False_False</th>\n",
       "      <th>False_True</th>\n",
       "      <th>ROR</th>\n",
       "      <th>ROR_lower</th>\n",
       "      <th>ROR_upper</th>\n",
       "      <th>True_False</th>\n",
       "      <th>True_True</th>\n",
       "      <th>q</th>\n",
       "    </tr>\n",
       "  </thead>\n",
       "  <tbody>\n",
       "    <tr>\n",
       "      <th>0</th>\n",
       "      <td>215931</td>\n",
       "      <td>7247</td>\n",
       "      <td>NaN</td>\n",
       "      <td>NaN</td>\n",
       "      <td>NaN</td>\n",
       "      <td>0</td>\n",
       "      <td>0</td>\n",
       "      <td>2013q1</td>\n",
       "    </tr>\n",
       "    <tr>\n",
       "      <th>1</th>\n",
       "      <td>380873</td>\n",
       "      <td>13652</td>\n",
       "      <td>NaN</td>\n",
       "      <td>NaN</td>\n",
       "      <td>NaN</td>\n",
       "      <td>0</td>\n",
       "      <td>0</td>\n",
       "      <td>2013q2</td>\n",
       "    </tr>\n",
       "    <tr>\n",
       "      <th>2</th>\n",
       "      <td>559401</td>\n",
       "      <td>20647</td>\n",
       "      <td>0.000000</td>\n",
       "      <td>0.000000</td>\n",
       "      <td>NaN</td>\n",
       "      <td>2</td>\n",
       "      <td>0</td>\n",
       "      <td>2013q3</td>\n",
       "    </tr>\n",
       "    <tr>\n",
       "      <th>3</th>\n",
       "      <td>785528</td>\n",
       "      <td>26568</td>\n",
       "      <td>0.000000</td>\n",
       "      <td>0.000000</td>\n",
       "      <td>NaN</td>\n",
       "      <td>30</td>\n",
       "      <td>0</td>\n",
       "      <td>2013q4</td>\n",
       "    </tr>\n",
       "    <tr>\n",
       "      <th>4</th>\n",
       "      <td>1036300</td>\n",
       "      <td>33997</td>\n",
       "      <td>0.000000</td>\n",
       "      <td>0.000000</td>\n",
       "      <td>NaN</td>\n",
       "      <td>67</td>\n",
       "      <td>0</td>\n",
       "      <td>2014q1</td>\n",
       "    </tr>\n",
       "    <tr>\n",
       "      <th>5</th>\n",
       "      <td>1232260</td>\n",
       "      <td>58739</td>\n",
       "      <td>0.000000</td>\n",
       "      <td>0.000000</td>\n",
       "      <td>NaN</td>\n",
       "      <td>141</td>\n",
       "      <td>0</td>\n",
       "      <td>2014q2</td>\n",
       "    </tr>\n",
       "    <tr>\n",
       "      <th>6</th>\n",
       "      <td>1427060</td>\n",
       "      <td>69225</td>\n",
       "      <td>0.047830</td>\n",
       "      <td>0.006722</td>\n",
       "      <td>0.340327</td>\n",
       "      <td>431</td>\n",
       "      <td>1</td>\n",
       "      <td>2014q3</td>\n",
       "    </tr>\n",
       "    <tr>\n",
       "      <th>7</th>\n",
       "      <td>1618671</td>\n",
       "      <td>77702</td>\n",
       "      <td>0.062809</td>\n",
       "      <td>0.020222</td>\n",
       "      <td>0.195082</td>\n",
       "      <td>995</td>\n",
       "      <td>3</td>\n",
       "      <td>2014q4</td>\n",
       "    </tr>\n",
       "    <tr>\n",
       "      <th>8</th>\n",
       "      <td>1888779</td>\n",
       "      <td>93574</td>\n",
       "      <td>0.092946</td>\n",
       "      <td>0.041679</td>\n",
       "      <td>0.207274</td>\n",
       "      <td>1303</td>\n",
       "      <td>6</td>\n",
       "      <td>2015q1</td>\n",
       "    </tr>\n",
       "    <tr>\n",
       "      <th>9</th>\n",
       "      <td>2160120</td>\n",
       "      <td>100189</td>\n",
       "      <td>0.137503</td>\n",
       "      <td>0.073836</td>\n",
       "      <td>0.256069</td>\n",
       "      <td>1568</td>\n",
       "      <td>10</td>\n",
       "      <td>2015q2</td>\n",
       "    </tr>\n",
       "    <tr>\n",
       "      <th>10</th>\n",
       "      <td>2509929</td>\n",
       "      <td>106752</td>\n",
       "      <td>0.149518</td>\n",
       "      <td>0.084758</td>\n",
       "      <td>0.263761</td>\n",
       "      <td>1887</td>\n",
       "      <td>12</td>\n",
       "      <td>2015q3</td>\n",
       "    </tr>\n",
       "    <tr>\n",
       "      <th>11</th>\n",
       "      <td>2798242</td>\n",
       "      <td>113209</td>\n",
       "      <td>0.199234</td>\n",
       "      <td>0.121813</td>\n",
       "      <td>0.325863</td>\n",
       "      <td>1985</td>\n",
       "      <td>16</td>\n",
       "      <td>2015q4</td>\n",
       "    </tr>\n",
       "    <tr>\n",
       "      <th>12</th>\n",
       "      <td>3134951</td>\n",
       "      <td>120717</td>\n",
       "      <td>0.235298</td>\n",
       "      <td>0.149775</td>\n",
       "      <td>0.369654</td>\n",
       "      <td>2097</td>\n",
       "      <td>19</td>\n",
       "      <td>2016q1</td>\n",
       "    </tr>\n",
       "    <tr>\n",
       "      <th>13</th>\n",
       "      <td>3421245</td>\n",
       "      <td>127425</td>\n",
       "      <td>0.283530</td>\n",
       "      <td>0.188001</td>\n",
       "      <td>0.427601</td>\n",
       "      <td>2178</td>\n",
       "      <td>23</td>\n",
       "      <td>2016q2</td>\n",
       "    </tr>\n",
       "    <tr>\n",
       "      <th>14</th>\n",
       "      <td>3696173</td>\n",
       "      <td>133571</td>\n",
       "      <td>0.308014</td>\n",
       "      <td>0.207668</td>\n",
       "      <td>0.456848</td>\n",
       "      <td>2246</td>\n",
       "      <td>25</td>\n",
       "      <td>2016q3</td>\n",
       "    </tr>\n",
       "    <tr>\n",
       "      <th>15</th>\n",
       "      <td>3965182</td>\n",
       "      <td>139479</td>\n",
       "      <td>0.370163</td>\n",
       "      <td>0.258202</td>\n",
       "      <td>0.530672</td>\n",
       "      <td>2304</td>\n",
       "      <td>30</td>\n",
       "      <td>2016q4</td>\n",
       "    </tr>\n",
       "    <tr>\n",
       "      <th>16</th>\n",
       "      <td>4275304</td>\n",
       "      <td>146528</td>\n",
       "      <td>0.397478</td>\n",
       "      <td>0.280416</td>\n",
       "      <td>0.563410</td>\n",
       "      <td>2349</td>\n",
       "      <td>32</td>\n",
       "      <td>2017q1</td>\n",
       "    </tr>\n",
       "    <tr>\n",
       "      <th>17</th>\n",
       "      <td>4567379</td>\n",
       "      <td>152557</td>\n",
       "      <td>0.451528</td>\n",
       "      <td>0.324889</td>\n",
       "      <td>0.627531</td>\n",
       "      <td>2387</td>\n",
       "      <td>36</td>\n",
       "      <td>2017q2</td>\n",
       "    </tr>\n",
       "    <tr>\n",
       "      <th>18</th>\n",
       "      <td>4882922</td>\n",
       "      <td>158643</td>\n",
       "      <td>0.492772</td>\n",
       "      <td>0.359121</td>\n",
       "      <td>0.676163</td>\n",
       "      <td>2436</td>\n",
       "      <td>39</td>\n",
       "      <td>2017q3</td>\n",
       "    </tr>\n",
       "  </tbody>\n",
       "</table>\n",
       "</div>"
      ],
      "text/plain": [
       "    False_False  False_True       ROR  ROR_lower  ROR_upper  True_False  \\\n",
       "0        215931        7247       NaN        NaN        NaN           0   \n",
       "1        380873       13652       NaN        NaN        NaN           0   \n",
       "2        559401       20647  0.000000   0.000000        NaN           2   \n",
       "3        785528       26568  0.000000   0.000000        NaN          30   \n",
       "4       1036300       33997  0.000000   0.000000        NaN          67   \n",
       "5       1232260       58739  0.000000   0.000000        NaN         141   \n",
       "6       1427060       69225  0.047830   0.006722   0.340327         431   \n",
       "7       1618671       77702  0.062809   0.020222   0.195082         995   \n",
       "8       1888779       93574  0.092946   0.041679   0.207274        1303   \n",
       "9       2160120      100189  0.137503   0.073836   0.256069        1568   \n",
       "10      2509929      106752  0.149518   0.084758   0.263761        1887   \n",
       "11      2798242      113209  0.199234   0.121813   0.325863        1985   \n",
       "12      3134951      120717  0.235298   0.149775   0.369654        2097   \n",
       "13      3421245      127425  0.283530   0.188001   0.427601        2178   \n",
       "14      3696173      133571  0.308014   0.207668   0.456848        2246   \n",
       "15      3965182      139479  0.370163   0.258202   0.530672        2304   \n",
       "16      4275304      146528  0.397478   0.280416   0.563410        2349   \n",
       "17      4567379      152557  0.451528   0.324889   0.627531        2387   \n",
       "18      4882922      158643  0.492772   0.359121   0.676163        2436   \n",
       "\n",
       "    True_True       q  \n",
       "0           0  2013q1  \n",
       "1           0  2013q2  \n",
       "2           0  2013q3  \n",
       "3           0  2013q4  \n",
       "4           0  2014q1  \n",
       "5           0  2014q2  \n",
       "6           1  2014q3  \n",
       "7           3  2014q4  \n",
       "8           6  2015q1  \n",
       "9          10  2015q2  \n",
       "10         12  2015q3  \n",
       "11         16  2015q4  \n",
       "12         19  2016q1  \n",
       "13         23  2016q2  \n",
       "14         25  2016q3  \n",
       "15         30  2016q4  \n",
       "16         32  2017q1  \n",
       "17         36  2017q2  \n",
       "18         39  2017q3  "
      ]
     },
     "execution_count": 9,
     "metadata": {},
     "output_type": "execute_result"
    }
   ],
   "source": [
    "%run -i ../src/utils.py\n",
    "contingency_matrices = pd.read_csv(fn_in)\n",
    "gr = contingency_matrices.groupby('q')\n",
    "tbl_report = []\n",
    "for q, t in gr:\n",
    "    matrix = ContingencyMatrix(t)\n",
    "    ror = matrix.ror(alpha=alpha)\n",
    "    curr = {\n",
    "        'q': q,\n",
    "        'ROR': ror[0],\n",
    "        'ROR_lower': ror[1][0],\n",
    "        'ROR_upper': ror[1][1]\n",
    "    }\n",
    "    for n, label in zip(matrix.ror_components(), ['True_True', 'True_False', 'False_True', 'False_False']):\n",
    "        curr[label] = n\n",
    "    tbl_report.append(curr)\n",
    "tbl_report = pd.DataFrame.from_records(tbl_report)\n",
    "tbl_report"
   ]
  },
  {
   "cell_type": "code",
   "execution_count": 10,
   "metadata": {
    "ExecuteTime": {
     "end_time": "2018-06-17T13:46:54.311401Z",
     "start_time": "2018-06-17T13:46:54.307310Z"
    }
   },
   "outputs": [],
   "source": [
    "tbl_report.sort_values('q', inplace=True)"
   ]
  },
  {
   "cell_type": "code",
   "execution_count": 11,
   "metadata": {
    "ExecuteTime": {
     "end_time": "2018-06-17T13:46:55.076345Z",
     "start_time": "2018-06-17T13:46:55.071123Z"
    }
   },
   "outputs": [
    {
     "name": "stderr",
     "output_type": "stream",
     "text": [
      "../src/utils.py:1: RuntimeWarning: divide by zero encountered in log10\n",
      "  import json\n",
      "../src/utils.py:3: RuntimeWarning: divide by zero encountered in log10\n",
      "  import os\n"
     ]
    }
   ],
   "source": [
    "tbl_report['l10_ROR'] = np.log10(tbl_report.ROR)\n",
    "tbl_report['l10_ROR_upper'] = np.log10(tbl_report.ROR_upper)\n",
    "tbl_report['l10_ROR_lower'] = np.log10(tbl_report.ROR_lower)"
   ]
  },
  {
   "cell_type": "code",
   "execution_count": 30,
   "metadata": {
    "ExecuteTime": {
     "end_time": "2018-06-17T14:02:52.425534Z",
     "start_time": "2018-06-17T14:02:52.421661Z"
    }
   },
   "outputs": [
    {
     "data": {
      "text/plain": [
       "0.5625"
      ]
     },
     "execution_count": 30,
     "metadata": {},
     "output_type": "execute_result"
    }
   ],
   "source": [
    "4.5/8"
   ]
  },
  {
   "cell_type": "code",
   "execution_count": 31,
   "metadata": {
    "ExecuteTime": {
     "end_time": "2018-06-17T14:03:27.825089Z",
     "start_time": "2018-06-17T14:03:27.814950Z"
    }
   },
   "outputs": [],
   "source": [
    "figsize = (8, 4.5); dpi = 300\n",
    "def plot_ror(tbl_report, ax_ror=None, xticklabels=True, figwidth=8, dpi=300):\n",
    "    figsize=(figwidth, figwidth / 1.618)\n",
    "    if ax_ror is None:\n",
    "        fig_ror, ax_ror = plt.subplots(figsize=figsize, dpi=dpi)\n",
    "\n",
    "    q_first = tbl_report.q.min()\n",
    "    q_last = tbl_report.q.max()\n",
    "    quarters = list(sorted(tbl_report.q.unique())) # we assume no Q is missing\n",
    "    quarters\n",
    "    x = list(range(len(quarters)))\n",
    "\n",
    "    ax_ror.plot(x, tbl_report.l10_ROR, '-o', color='C0', zorder=99)\n",
    "    ax_ror.fill_between(x, tbl_report.l10_ROR_lower, tbl_report.l10_ROR_upper, color='C0', alpha=0.3)\n",
    "    ax_ror.set_ylim(-2.1, 2.1)\n",
    "    tkx = [-1, 0, 1]\n",
    "    ax_ror.set_yticks(tkx)\n",
    "    ax_ror.set_yticklabels([f'$\\\\times {10**t}$' for t in tkx])\n",
    "    sns.despine(ax=ax_ror)\n",
    "    ax_ror.spines['bottom'].set_position('zero')\n",
    "    tkx = []\n",
    "    lbls = []\n",
    "    for i, q in enumerate(quarters):\n",
    "        if q.endswith('1'):\n",
    "            tkx.append(i)\n",
    "            lbls.append(q.split('q')[0])\n",
    "\n",
    "    ax_ror.set_xticks(tkx)\n",
    "    if xticklabels:\n",
    "        ax_ror.set_xticklabels(lbls)\n",
    "    else:\n",
    "        ax_ror.set_xticklabels([])\n",
    "    ax_ror.text(\n",
    "        x=max(x) + 0.15,\n",
    "        y=tbl_report.l10_ROR.iloc[-1],\n",
    "        s=f'${tbl_report.ROR.iloc[-1]:.2f}$', \n",
    "        ha='left', va='center', color='gray'\n",
    "    )\n",
    "\n",
    "    ax_ror.text(\n",
    "        x=max(x) + 0.1,\n",
    "        y=tbl_report.l10_ROR_lower.iloc[-1],\n",
    "        s=f'${tbl_report.ROR_lower.iloc[-1]:.2f}$', \n",
    "        ha='left', va='top', size='small', color='gray'\n",
    "    )\n",
    "\n",
    "    ax_ror.text(\n",
    "        x=max(x) + 0.1,\n",
    "        y=tbl_report.l10_ROR_upper.iloc[-1],\n",
    "        s=f'${tbl_report.ROR_upper.iloc[-1]:.2f}$', \n",
    "        ha='left', va='bottom', size='small', color='gray'\n",
    "    )\n",
    "    ax_ror.set_ylabel('ROR', rotation=0, ha='right', y=0.9)\n",
    "    return ax_ror\n",
    "\n"
   ]
  },
  {
   "cell_type": "markdown",
   "metadata": {
    "ExecuteTime": {
     "end_time": "2018-06-17T14:05:32.885980Z",
     "start_time": "2018-06-17T14:05:32.882206Z"
    }
   },
   "source": [
    "# 16/9\n"
   ]
  },
  {
   "cell_type": "code",
   "execution_count": 38,
   "metadata": {
    "ExecuteTime": {
     "end_time": "2018-06-17T14:05:40.760869Z",
     "start_time": "2018-06-17T14:05:40.754702Z"
    }
   },
   "outputs": [],
   "source": [
    "def plot_incidence(tbl_report, ax=None, figwidth=8, dpi=300):\n",
    "    if ax is None:\n",
    "        figsize=(figwidth, figwidth / 1.618)\n",
    "        fig, ax = plt.subplots(figsize=figsize, dpi=dpi)\n",
    "    q_first = tbl_report.q.min()\n",
    "    q_last = tbl_report.q.max()\n",
    "    quarters = list(sorted(tbl_report.q.unique())) # we assume no Q is missing\n",
    "    quarters\n",
    "    x = list(range(len(quarters)))\n",
    "\n",
    "    x = list(range(len(quarters)))\n",
    "    reports = tbl_report.True_True + tbl_report.True_False\n",
    "    reports = reports.diff()\n",
    "    tbl_report['reports'] = reports\n",
    "    ax.plot(x, reports, 'o-')\n",
    "\n",
    "    tkx = []\n",
    "    lbls = []\n",
    "    for i, q in enumerate(quarters):\n",
    "        if q.endswith('1'):\n",
    "            tkx.append(i)\n",
    "            lbls.append(q.split('q')[0])\n",
    "\n",
    "    ax.set_xticks(tkx)\n",
    "    ax.set_xticklabels(lbls)\n",
    "    sns.despine(ax=ax)\n",
    "    ax.set_ylabel('Reported events', rotation=0, ha='right', y=0.9)\n",
    "    ax.set_yticks([0, 250, 500])\n",
    "    return ax"
   ]
  },
  {
   "cell_type": "code",
   "execution_count": 48,
   "metadata": {
    "ExecuteTime": {
     "end_time": "2018-06-17T14:11:24.330131Z",
     "start_time": "2018-06-17T14:11:23.817133Z"
    }
   },
   "outputs": [
    {
     "data": {
      "text/plain": [
       "<matplotlib.axes._subplots.AxesSubplot at 0x10c5edf60>"
      ]
     },
     "execution_count": 48,
     "metadata": {},
     "output_type": "execute_result"
    },
    {
     "data": {
      "image/png": "[encoded data removed]",
      "text/plain": [
       "<Figure size 2400x1600 with 2 Axes>"
      ]
     },
     "metadata": {},
     "output_type": "display_data"
    }
   ],
   "source": [
    "fig, axes = plt.subplots(nrows=2, ncols=1, figsize=(8, 8 / 3 * 2), dpi=300)\n",
    "plot_ror(tbl_report, axes[0], xticklabels=False)\n",
    "plot_incidence(tbl_report, ax=axes[1])"
   ]
  },
  {
   "cell_type": "code",
   "execution_count": 50,
   "metadata": {
    "ExecuteTime": {
     "end_time": "2018-06-17T14:16:37.503974Z",
     "start_time": "2018-06-17T14:16:37.484371Z"
    }
   },
   "outputs": [
    {
     "data": {
      "text/html": [
       "<div>\n",
       "<style scoped>\n",
       "    .dataframe tbody tr th:only-of-type {\n",
       "        vertical-align: middle;\n",
       "    }\n",
       "\n",
       "    .dataframe tbody tr th {\n",
       "        vertical-align: top;\n",
       "    }\n",
       "\n",
       "    .dataframe thead th {\n",
       "        text-align: right;\n",
       "    }\n",
       "</style>\n",
       "<table border=\"1\" class=\"dataframe\">\n",
       "  <thead>\n",
       "    <tr style=\"text-align: right;\">\n",
       "      <th></th>\n",
       "      <th>False_False</th>\n",
       "      <th>False_True</th>\n",
       "      <th>ROR</th>\n",
       "      <th>ROR_lower</th>\n",
       "      <th>ROR_upper</th>\n",
       "      <th>True_False</th>\n",
       "      <th>True_True</th>\n",
       "      <th>q</th>\n",
       "      <th>l10_ROR</th>\n",
       "      <th>l10_ROR_upper</th>\n",
       "      <th>l10_ROR_lower</th>\n",
       "      <th>reports</th>\n",
       "    </tr>\n",
       "  </thead>\n",
       "  <tbody>\n",
       "    <tr>\n",
       "      <th>0</th>\n",
       "      <td>215931</td>\n",
       "      <td>7247</td>\n",
       "      <td>NaN</td>\n",
       "      <td>NaN</td>\n",
       "      <td>NaN</td>\n",
       "      <td>0</td>\n",
       "      <td>0</td>\n",
       "      <td>2013q1</td>\n",
       "      <td>NaN</td>\n",
       "      <td>NaN</td>\n",
       "      <td>NaN</td>\n",
       "      <td>NaN</td>\n",
       "    </tr>\n",
       "    <tr>\n",
       "      <th>1</th>\n",
       "      <td>380873</td>\n",
       "      <td>13652</td>\n",
       "      <td>NaN</td>\n",
       "      <td>NaN</td>\n",
       "      <td>NaN</td>\n",
       "      <td>0</td>\n",
       "      <td>0</td>\n",
       "      <td>2013q2</td>\n",
       "      <td>NaN</td>\n",
       "      <td>NaN</td>\n",
       "      <td>NaN</td>\n",
       "      <td>0.0</td>\n",
       "    </tr>\n",
       "    <tr>\n",
       "      <th>2</th>\n",
       "      <td>559401</td>\n",
       "      <td>20647</td>\n",
       "      <td>0.000000</td>\n",
       "      <td>0.000000</td>\n",
       "      <td>NaN</td>\n",
       "      <td>2</td>\n",
       "      <td>0</td>\n",
       "      <td>2013q3</td>\n",
       "      <td>-inf</td>\n",
       "      <td>NaN</td>\n",
       "      <td>-inf</td>\n",
       "      <td>2.0</td>\n",
       "    </tr>\n",
       "    <tr>\n",
       "      <th>3</th>\n",
       "      <td>785528</td>\n",
       "      <td>26568</td>\n",
       "      <td>0.000000</td>\n",
       "      <td>0.000000</td>\n",
       "      <td>NaN</td>\n",
       "      <td>30</td>\n",
       "      <td>0</td>\n",
       "      <td>2013q4</td>\n",
       "      <td>-inf</td>\n",
       "      <td>NaN</td>\n",
       "      <td>-inf</td>\n",
       "      <td>28.0</td>\n",
       "    </tr>\n",
       "    <tr>\n",
       "      <th>4</th>\n",
       "      <td>1036300</td>\n",
       "      <td>33997</td>\n",
       "      <td>0.000000</td>\n",
       "      <td>0.000000</td>\n",
       "      <td>NaN</td>\n",
       "      <td>67</td>\n",
       "      <td>0</td>\n",
       "      <td>2014q1</td>\n",
       "      <td>-inf</td>\n",
       "      <td>NaN</td>\n",
       "      <td>-inf</td>\n",
       "      <td>37.0</td>\n",
       "    </tr>\n",
       "    <tr>\n",
       "      <th>5</th>\n",
       "      <td>1232260</td>\n",
       "      <td>58739</td>\n",
       "      <td>0.000000</td>\n",
       "      <td>0.000000</td>\n",
       "      <td>NaN</td>\n",
       "      <td>141</td>\n",
       "      <td>0</td>\n",
       "      <td>2014q2</td>\n",
       "      <td>-inf</td>\n",
       "      <td>NaN</td>\n",
       "      <td>-inf</td>\n",
       "      <td>74.0</td>\n",
       "    </tr>\n",
       "    <tr>\n",
       "      <th>6</th>\n",
       "      <td>1427060</td>\n",
       "      <td>69225</td>\n",
       "      <td>0.047830</td>\n",
       "      <td>0.006722</td>\n",
       "      <td>0.340327</td>\n",
       "      <td>431</td>\n",
       "      <td>1</td>\n",
       "      <td>2014q3</td>\n",
       "      <td>-1.320298</td>\n",
       "      <td>-0.468103</td>\n",
       "      <td>-2.172493</td>\n",
       "      <td>291.0</td>\n",
       "    </tr>\n",
       "    <tr>\n",
       "      <th>7</th>\n",
       "      <td>1618671</td>\n",
       "      <td>77702</td>\n",
       "      <td>0.062809</td>\n",
       "      <td>0.020222</td>\n",
       "      <td>0.195082</td>\n",
       "      <td>995</td>\n",
       "      <td>3</td>\n",
       "      <td>2014q4</td>\n",
       "      <td>-1.201975</td>\n",
       "      <td>-0.709784</td>\n",
       "      <td>-1.694167</td>\n",
       "      <td>566.0</td>\n",
       "    </tr>\n",
       "    <tr>\n",
       "      <th>8</th>\n",
       "      <td>1888779</td>\n",
       "      <td>93574</td>\n",
       "      <td>0.092946</td>\n",
       "      <td>0.041679</td>\n",
       "      <td>0.207274</td>\n",
       "      <td>1303</td>\n",
       "      <td>6</td>\n",
       "      <td>2015q1</td>\n",
       "      <td>-1.031767</td>\n",
       "      <td>-0.683455</td>\n",
       "      <td>-1.380080</td>\n",
       "      <td>311.0</td>\n",
       "    </tr>\n",
       "    <tr>\n",
       "      <th>9</th>\n",
       "      <td>2160120</td>\n",
       "      <td>100189</td>\n",
       "      <td>0.137503</td>\n",
       "      <td>0.073836</td>\n",
       "      <td>0.256069</td>\n",
       "      <td>1568</td>\n",
       "      <td>10</td>\n",
       "      <td>2015q2</td>\n",
       "      <td>-0.861688</td>\n",
       "      <td>-0.591644</td>\n",
       "      <td>-1.131733</td>\n",
       "      <td>269.0</td>\n",
       "    </tr>\n",
       "    <tr>\n",
       "      <th>10</th>\n",
       "      <td>2509929</td>\n",
       "      <td>106752</td>\n",
       "      <td>0.149518</td>\n",
       "      <td>0.084758</td>\n",
       "      <td>0.263761</td>\n",
       "      <td>1887</td>\n",
       "      <td>12</td>\n",
       "      <td>2015q3</td>\n",
       "      <td>-0.825305</td>\n",
       "      <td>-0.578790</td>\n",
       "      <td>-1.071820</td>\n",
       "      <td>321.0</td>\n",
       "    </tr>\n",
       "    <tr>\n",
       "      <th>11</th>\n",
       "      <td>2798242</td>\n",
       "      <td>113209</td>\n",
       "      <td>0.199234</td>\n",
       "      <td>0.121813</td>\n",
       "      <td>0.325863</td>\n",
       "      <td>1985</td>\n",
       "      <td>16</td>\n",
       "      <td>2015q4</td>\n",
       "      <td>-0.700636</td>\n",
       "      <td>-0.486964</td>\n",
       "      <td>-0.914308</td>\n",
       "      <td>102.0</td>\n",
       "    </tr>\n",
       "    <tr>\n",
       "      <th>12</th>\n",
       "      <td>3134951</td>\n",
       "      <td>120717</td>\n",
       "      <td>0.235298</td>\n",
       "      <td>0.149775</td>\n",
       "      <td>0.369654</td>\n",
       "      <td>2097</td>\n",
       "      <td>19</td>\n",
       "      <td>2016q1</td>\n",
       "      <td>-0.628383</td>\n",
       "      <td>-0.432205</td>\n",
       "      <td>-0.824560</td>\n",
       "      <td>115.0</td>\n",
       "    </tr>\n",
       "    <tr>\n",
       "      <th>13</th>\n",
       "      <td>3421245</td>\n",
       "      <td>127425</td>\n",
       "      <td>0.283530</td>\n",
       "      <td>0.188001</td>\n",
       "      <td>0.427601</td>\n",
       "      <td>2178</td>\n",
       "      <td>23</td>\n",
       "      <td>2016q2</td>\n",
       "      <td>-0.547401</td>\n",
       "      <td>-0.368962</td>\n",
       "      <td>-0.725840</td>\n",
       "      <td>85.0</td>\n",
       "    </tr>\n",
       "    <tr>\n",
       "      <th>14</th>\n",
       "      <td>3696173</td>\n",
       "      <td>133571</td>\n",
       "      <td>0.308014</td>\n",
       "      <td>0.207668</td>\n",
       "      <td>0.456848</td>\n",
       "      <td>2246</td>\n",
       "      <td>25</td>\n",
       "      <td>2016q3</td>\n",
       "      <td>-0.511430</td>\n",
       "      <td>-0.340228</td>\n",
       "      <td>-0.682631</td>\n",
       "      <td>70.0</td>\n",
       "    </tr>\n",
       "    <tr>\n",
       "      <th>15</th>\n",
       "      <td>3965182</td>\n",
       "      <td>139479</td>\n",
       "      <td>0.370163</td>\n",
       "      <td>0.258202</td>\n",
       "      <td>0.530672</td>\n",
       "      <td>2304</td>\n",
       "      <td>30</td>\n",
       "      <td>2016q4</td>\n",
       "      <td>-0.431607</td>\n",
       "      <td>-0.275174</td>\n",
       "      <td>-0.588040</td>\n",
       "      <td>63.0</td>\n",
       "    </tr>\n",
       "    <tr>\n",
       "      <th>16</th>\n",
       "      <td>4275304</td>\n",
       "      <td>146528</td>\n",
       "      <td>0.397478</td>\n",
       "      <td>0.280416</td>\n",
       "      <td>0.563410</td>\n",
       "      <td>2349</td>\n",
       "      <td>32</td>\n",
       "      <td>2017q1</td>\n",
       "      <td>-0.400687</td>\n",
       "      <td>-0.249176</td>\n",
       "      <td>-0.552198</td>\n",
       "      <td>47.0</td>\n",
       "    </tr>\n",
       "    <tr>\n",
       "      <th>17</th>\n",
       "      <td>4567379</td>\n",
       "      <td>152557</td>\n",
       "      <td>0.451528</td>\n",
       "      <td>0.324889</td>\n",
       "      <td>0.627531</td>\n",
       "      <td>2387</td>\n",
       "      <td>36</td>\n",
       "      <td>2017q2</td>\n",
       "      <td>-0.345315</td>\n",
       "      <td>-0.202365</td>\n",
       "      <td>-0.488265</td>\n",
       "      <td>42.0</td>\n",
       "    </tr>\n",
       "    <tr>\n",
       "      <th>18</th>\n",
       "      <td>4882922</td>\n",
       "      <td>158643</td>\n",
       "      <td>0.492772</td>\n",
       "      <td>0.359121</td>\n",
       "      <td>0.676163</td>\n",
       "      <td>2436</td>\n",
       "      <td>39</td>\n",
       "      <td>2017q3</td>\n",
       "      <td>-0.307354</td>\n",
       "      <td>-0.169949</td>\n",
       "      <td>-0.444759</td>\n",
       "      <td>52.0</td>\n",
       "    </tr>\n",
       "  </tbody>\n",
       "</table>\n",
       "</div>"
      ],
      "text/plain": [
       "    False_False  False_True       ROR  ROR_lower  ROR_upper  True_False  \\\n",
       "0        215931        7247       NaN        NaN        NaN           0   \n",
       "1        380873       13652       NaN        NaN        NaN           0   \n",
       "2        559401       20647  0.000000   0.000000        NaN           2   \n",
       "3        785528       26568  0.000000   0.000000        NaN          30   \n",
       "4       1036300       33997  0.000000   0.000000        NaN          67   \n",
       "5       1232260       58739  0.000000   0.000000        NaN         141   \n",
       "6       1427060       69225  0.047830   0.006722   0.340327         431   \n",
       "7       1618671       77702  0.062809   0.020222   0.195082         995   \n",
       "8       1888779       93574  0.092946   0.041679   0.207274        1303   \n",
       "9       2160120      100189  0.137503   0.073836   0.256069        1568   \n",
       "10      2509929      106752  0.149518   0.084758   0.263761        1887   \n",
       "11      2798242      113209  0.199234   0.121813   0.325863        1985   \n",
       "12      3134951      120717  0.235298   0.149775   0.369654        2097   \n",
       "13      3421245      127425  0.283530   0.188001   0.427601        2178   \n",
       "14      3696173      133571  0.308014   0.207668   0.456848        2246   \n",
       "15      3965182      139479  0.370163   0.258202   0.530672        2304   \n",
       "16      4275304      146528  0.397478   0.280416   0.563410        2349   \n",
       "17      4567379      152557  0.451528   0.324889   0.627531        2387   \n",
       "18      4882922      158643  0.492772   0.359121   0.676163        2436   \n",
       "\n",
       "    True_True       q   l10_ROR  l10_ROR_upper  l10_ROR_lower  reports  \n",
       "0           0  2013q1       NaN            NaN            NaN      NaN  \n",
       "1           0  2013q2       NaN            NaN            NaN      0.0  \n",
       "2           0  2013q3      -inf            NaN           -inf      2.0  \n",
       "3           0  2013q4      -inf            NaN           -inf     28.0  \n",
       "4           0  2014q1      -inf            NaN           -inf     37.0  \n",
       "5           0  2014q2      -inf            NaN           -inf     74.0  \n",
       "6           1  2014q3 -1.320298      -0.468103      -2.172493    291.0  \n",
       "7           3  2014q4 -1.201975      -0.709784      -1.694167    566.0  \n",
       "8           6  2015q1 -1.031767      -0.683455      -1.380080    311.0  \n",
       "9          10  2015q2 -0.861688      -0.591644      -1.131733    269.0  \n",
       "10         12  2015q3 -0.825305      -0.578790      -1.071820    321.0  \n",
       "11         16  2015q4 -0.700636      -0.486964      -0.914308    102.0  \n",
       "12         19  2016q1 -0.628383      -0.432205      -0.824560    115.0  \n",
       "13         23  2016q2 -0.547401      -0.368962      -0.725840     85.0  \n",
       "14         25  2016q3 -0.511430      -0.340228      -0.682631     70.0  \n",
       "15         30  2016q4 -0.431607      -0.275174      -0.588040     63.0  \n",
       "16         32  2017q1 -0.400687      -0.249176      -0.552198     47.0  \n",
       "17         36  2017q2 -0.345315      -0.202365      -0.488265     42.0  \n",
       "18         39  2017q3 -0.307354      -0.169949      -0.444759     52.0  "
      ]
     },
     "execution_count": 50,
     "metadata": {},
     "output_type": "execute_result"
    }
   ],
   "source": [
    "tbl_report"
   ]
  },
  {
   "cell_type": "code",
   "execution_count": 44,
   "metadata": {
    "ExecuteTime": {
     "end_time": "2018-06-17T14:10:31.714496Z",
     "start_time": "2018-06-17T14:10:31.222638Z"
    }
   },
   "outputs": [
    {
     "data": {
      "text/plain": [
       "<matplotlib.axes._subplots.AxesSubplot at 0x1a341a6438>"
      ]
     },
     "execution_count": 44,
     "metadata": {},
     "output_type": "execute_result"
    },
    {
     "data": {
      "image/png": "[encoded data removed]",
      "text/plain": [
       "<Figure size 2400x1600 with 2 Axes>"
      ]
     },
     "metadata": {},
     "output_type": "display_data"
    }
   ],
   "source": [
    "fig, axes = plt.subplots(nrows=2, ncols=1, figsize=(8, 8 / 3 * 2), dpi=300)\n",
    "plot_ror(tbl_report, axes[0], xticklabels=False)\n",
    "plot_incidence(tbl_report, ax=axes[1])\n"
   ]
  },
  {
   "cell_type": "code",
   "execution_count": 52,
   "metadata": {
    "ExecuteTime": {
     "end_time": "2018-06-17T14:29:43.919861Z",
     "start_time": "2018-06-17T14:29:43.837330Z"
    }
   },
   "outputs": [
    {
     "data": {
      "text/plain": [
       "[<matplotlib.axis.YTick at 0x1135cccf8>,\n",
       " <matplotlib.axis.YTick at 0x1135cc630>,\n",
       " <matplotlib.axis.YTick at 0x1135ca3c8>]"
      ]
     },
     "execution_count": 52,
     "metadata": {},
     "output_type": "execute_result"
    },
    {
     "data": {
      "image/png": "[encoded data removed]",
      "text/plain": [
       "<Figure size 432x288 with 1 Axes>"
      ]
     },
     "metadata": {},
     "output_type": "display_data"
    }
   ],
   "source": [
    "x = np.linspace(0, 10, 100)\n",
    "y = np.sin(x)\n",
    "fig, ax = plt.subplots()\n",
    "ax.plot(x, y, '-')\n",
    "yticks = ax.get_yticks()\n",
    "lix_middle = int(len(yticks) / 2)\n",
    "yticks = [yticks[0], yticks[lix_middle], yticks[-1]]\n",
    "ax.set_yticks(yticks)"
   ]
  },
  {
   "cell_type": "code",
   "execution_count": null,
   "metadata": {},
   "outputs": [],
   "source": [
    "fig, "
   ]
  },
  {
   "cell_type": "code",
   "execution_count": 66,
   "metadata": {
    "ExecuteTime": {
     "end_time": "2018-06-10T18:31:40.729079Z",
     "start_time": "2018-06-10T18:31:40.711172Z"
    }
   },
   "outputs": [
    {
     "data": {
      "text/html": [
       "<div>\n",
       "<style scoped>\n",
       "    .dataframe tbody tr th:only-of-type {\n",
       "        vertical-align: middle;\n",
       "    }\n",
       "\n",
       "    .dataframe tbody tr th {\n",
       "        vertical-align: top;\n",
       "    }\n",
       "\n",
       "    .dataframe thead th {\n",
       "        text-align: right;\n",
       "    }\n",
       "</style>\n",
       "<table border=\"1\" class=\"dataframe\">\n",
       "  <thead>\n",
       "    <tr style=\"text-align: right;\">\n",
       "      <th></th>\n",
       "      <th>ROR</th>\n",
       "      <th>ROR_lower</th>\n",
       "      <th>ROR_upper</th>\n",
       "      <th>q</th>\n",
       "      <th>l10_ROR</th>\n",
       "      <th>l10_ROR_upper</th>\n",
       "      <th>l10_ROR_lower</th>\n",
       "    </tr>\n",
       "  </thead>\n",
       "  <tbody>\n",
       "    <tr>\n",
       "      <th>0</th>\n",
       "      <td>NaN</td>\n",
       "      <td>NaN</td>\n",
       "      <td>NaN</td>\n",
       "      <td>2013q1</td>\n",
       "      <td>NaN</td>\n",
       "      <td>NaN</td>\n",
       "      <td>NaN</td>\n",
       "    </tr>\n",
       "    <tr>\n",
       "      <th>1</th>\n",
       "      <td>NaN</td>\n",
       "      <td>NaN</td>\n",
       "      <td>NaN</td>\n",
       "      <td>2013q2</td>\n",
       "      <td>NaN</td>\n",
       "      <td>NaN</td>\n",
       "      <td>NaN</td>\n",
       "    </tr>\n",
       "    <tr>\n",
       "      <th>2</th>\n",
       "      <td>0.000000</td>\n",
       "      <td>0.000000</td>\n",
       "      <td>NaN</td>\n",
       "      <td>2013q3</td>\n",
       "      <td>-inf</td>\n",
       "      <td>NaN</td>\n",
       "      <td>-inf</td>\n",
       "    </tr>\n",
       "    <tr>\n",
       "      <th>3</th>\n",
       "      <td>0.000000</td>\n",
       "      <td>0.000000</td>\n",
       "      <td>NaN</td>\n",
       "      <td>2013q4</td>\n",
       "      <td>-inf</td>\n",
       "      <td>NaN</td>\n",
       "      <td>-inf</td>\n",
       "    </tr>\n",
       "    <tr>\n",
       "      <th>4</th>\n",
       "      <td>0.000000</td>\n",
       "      <td>0.000000</td>\n",
       "      <td>NaN</td>\n",
       "      <td>2014q1</td>\n",
       "      <td>-inf</td>\n",
       "      <td>NaN</td>\n",
       "      <td>-inf</td>\n",
       "    </tr>\n",
       "    <tr>\n",
       "      <th>5</th>\n",
       "      <td>0.000000</td>\n",
       "      <td>0.000000</td>\n",
       "      <td>NaN</td>\n",
       "      <td>2014q2</td>\n",
       "      <td>-inf</td>\n",
       "      <td>NaN</td>\n",
       "      <td>-inf</td>\n",
       "    </tr>\n",
       "    <tr>\n",
       "      <th>6</th>\n",
       "      <td>0.047830</td>\n",
       "      <td>0.006722</td>\n",
       "      <td>0.340327</td>\n",
       "      <td>2014q3</td>\n",
       "      <td>-1.320298</td>\n",
       "      <td>-0.468103</td>\n",
       "      <td>-2.172493</td>\n",
       "    </tr>\n",
       "    <tr>\n",
       "      <th>7</th>\n",
       "      <td>0.062809</td>\n",
       "      <td>0.020222</td>\n",
       "      <td>0.195082</td>\n",
       "      <td>2014q4</td>\n",
       "      <td>-1.201975</td>\n",
       "      <td>-0.709784</td>\n",
       "      <td>-1.694167</td>\n",
       "    </tr>\n",
       "    <tr>\n",
       "      <th>8</th>\n",
       "      <td>0.092946</td>\n",
       "      <td>0.041679</td>\n",
       "      <td>0.207274</td>\n",
       "      <td>2015q1</td>\n",
       "      <td>-1.031767</td>\n",
       "      <td>-0.683455</td>\n",
       "      <td>-1.380080</td>\n",
       "    </tr>\n",
       "    <tr>\n",
       "      <th>9</th>\n",
       "      <td>0.137503</td>\n",
       "      <td>0.073836</td>\n",
       "      <td>0.256069</td>\n",
       "      <td>2015q2</td>\n",
       "      <td>-0.861688</td>\n",
       "      <td>-0.591644</td>\n",
       "      <td>-1.131733</td>\n",
       "    </tr>\n",
       "    <tr>\n",
       "      <th>10</th>\n",
       "      <td>0.149518</td>\n",
       "      <td>0.084758</td>\n",
       "      <td>0.263761</td>\n",
       "      <td>2015q3</td>\n",
       "      <td>-0.825305</td>\n",
       "      <td>-0.578790</td>\n",
       "      <td>-1.071820</td>\n",
       "    </tr>\n",
       "    <tr>\n",
       "      <th>11</th>\n",
       "      <td>0.199234</td>\n",
       "      <td>0.121813</td>\n",
       "      <td>0.325863</td>\n",
       "      <td>2015q4</td>\n",
       "      <td>-0.700636</td>\n",
       "      <td>-0.486964</td>\n",
       "      <td>-0.914308</td>\n",
       "    </tr>\n",
       "    <tr>\n",
       "      <th>12</th>\n",
       "      <td>0.235298</td>\n",
       "      <td>0.149775</td>\n",
       "      <td>0.369654</td>\n",
       "      <td>2016q1</td>\n",
       "      <td>-0.628383</td>\n",
       "      <td>-0.432205</td>\n",
       "      <td>-0.824560</td>\n",
       "    </tr>\n",
       "    <tr>\n",
       "      <th>13</th>\n",
       "      <td>0.283530</td>\n",
       "      <td>0.188001</td>\n",
       "      <td>0.427601</td>\n",
       "      <td>2016q2</td>\n",
       "      <td>-0.547401</td>\n",
       "      <td>-0.368962</td>\n",
       "      <td>-0.725840</td>\n",
       "    </tr>\n",
       "    <tr>\n",
       "      <th>14</th>\n",
       "      <td>0.308014</td>\n",
       "      <td>0.207668</td>\n",
       "      <td>0.456848</td>\n",
       "      <td>2016q3</td>\n",
       "      <td>-0.511430</td>\n",
       "      <td>-0.340228</td>\n",
       "      <td>-0.682631</td>\n",
       "    </tr>\n",
       "    <tr>\n",
       "      <th>15</th>\n",
       "      <td>0.370163</td>\n",
       "      <td>0.258202</td>\n",
       "      <td>0.530672</td>\n",
       "      <td>2016q4</td>\n",
       "      <td>-0.431607</td>\n",
       "      <td>-0.275174</td>\n",
       "      <td>-0.588040</td>\n",
       "    </tr>\n",
       "    <tr>\n",
       "      <th>16</th>\n",
       "      <td>0.397478</td>\n",
       "      <td>0.280416</td>\n",
       "      <td>0.563410</td>\n",
       "      <td>2017q1</td>\n",
       "      <td>-0.400687</td>\n",
       "      <td>-0.249176</td>\n",
       "      <td>-0.552198</td>\n",
       "    </tr>\n",
       "    <tr>\n",
       "      <th>17</th>\n",
       "      <td>0.451528</td>\n",
       "      <td>0.324889</td>\n",
       "      <td>0.627531</td>\n",
       "      <td>2017q2</td>\n",
       "      <td>-0.345315</td>\n",
       "      <td>-0.202365</td>\n",
       "      <td>-0.488265</td>\n",
       "    </tr>\n",
       "    <tr>\n",
       "      <th>18</th>\n",
       "      <td>0.492772</td>\n",
       "      <td>0.359121</td>\n",
       "      <td>0.676163</td>\n",
       "      <td>2017q3</td>\n",
       "      <td>-0.307354</td>\n",
       "      <td>-0.169949</td>\n",
       "      <td>-0.444759</td>\n",
       "    </tr>\n",
       "  </tbody>\n",
       "</table>\n",
       "</div>"
      ],
      "text/plain": [
       "         ROR  ROR_lower  ROR_upper       q   l10_ROR  l10_ROR_upper  \\\n",
       "0        NaN        NaN        NaN  2013q1       NaN            NaN   \n",
       "1        NaN        NaN        NaN  2013q2       NaN            NaN   \n",
       "2   0.000000   0.000000        NaN  2013q3      -inf            NaN   \n",
       "3   0.000000   0.000000        NaN  2013q4      -inf            NaN   \n",
       "4   0.000000   0.000000        NaN  2014q1      -inf            NaN   \n",
       "5   0.000000   0.000000        NaN  2014q2      -inf            NaN   \n",
       "6   0.047830   0.006722   0.340327  2014q3 -1.320298      -0.468103   \n",
       "7   0.062809   0.020222   0.195082  2014q4 -1.201975      -0.709784   \n",
       "8   0.092946   0.041679   0.207274  2015q1 -1.031767      -0.683455   \n",
       "9   0.137503   0.073836   0.256069  2015q2 -0.861688      -0.591644   \n",
       "10  0.149518   0.084758   0.263761  2015q3 -0.825305      -0.578790   \n",
       "11  0.199234   0.121813   0.325863  2015q4 -0.700636      -0.486964   \n",
       "12  0.235298   0.149775   0.369654  2016q1 -0.628383      -0.432205   \n",
       "13  0.283530   0.188001   0.427601  2016q2 -0.547401      -0.368962   \n",
       "14  0.308014   0.207668   0.456848  2016q3 -0.511430      -0.340228   \n",
       "15  0.370163   0.258202   0.530672  2016q4 -0.431607      -0.275174   \n",
       "16  0.397478   0.280416   0.563410  2017q1 -0.400687      -0.249176   \n",
       "17  0.451528   0.324889   0.627531  2017q2 -0.345315      -0.202365   \n",
       "18  0.492772   0.359121   0.676163  2017q3 -0.307354      -0.169949   \n",
       "\n",
       "    l10_ROR_lower  \n",
       "0             NaN  \n",
       "1             NaN  \n",
       "2            -inf  \n",
       "3            -inf  \n",
       "4            -inf  \n",
       "5            -inf  \n",
       "6       -2.172493  \n",
       "7       -1.694167  \n",
       "8       -1.380080  \n",
       "9       -1.131733  \n",
       "10      -1.071820  \n",
       "11      -0.914308  \n",
       "12      -0.824560  \n",
       "13      -0.725840  \n",
       "14      -0.682631  \n",
       "15      -0.588040  \n",
       "16      -0.552198  \n",
       "17      -0.488265  \n",
       "18      -0.444759  "
      ]
     },
     "execution_count": 66,
     "metadata": {},
     "output_type": "execute_result"
    }
   ],
   "source": [
    "tbl_report"
   ]
  },
  {
   "cell_type": "code",
   "execution_count": null,
   "metadata": {},
   "outputs": [],
   "source": []
  },
  {
   "cell_type": "code",
   "execution_count": null,
   "metadata": {},
   "outputs": [],
   "source": []
  },
  {
   "cell_type": "code",
   "execution_count": null,
   "metadata": {},
   "outputs": [],
   "source": []
  },
  {
   "cell_type": "code",
   "execution_count": null,
   "metadata": {},
   "outputs": [],
   "source": []
  },
  {
   "cell_type": "code",
   "execution_count": 31,
   "metadata": {
    "ExecuteTime": {
     "end_time": "2018-06-07T13:06:36.539815Z",
     "start_time": "2018-06-07T13:05:56.451571Z"
    },
    "scrolled": false
   },
   "outputs": [
    {
     "data": {
      "application/vnd.jupyter.widget-view+json": {
       "model_id": "42e33b567e2d4cf4b798b3e087852d9e",
       "version_major": 2,
       "version_minor": 0
      },
      "text/html": [
       "<p>Failed to display Jupyter Widget of type <code>HBox</code>.</p>\n",
       "<p>\n",
       "  If you're reading this message in the Jupyter Notebook or JupyterLab Notebook, it may mean\n",
       "  that the widgets JavaScript is still loading. If this message persists, it\n",
       "  likely means that the widgets JavaScript library is either not installed or\n",
       "  not enabled. See the <a href=\"https://ipywidgets.readthedocs.io/en/stable/user_install.html\">Jupyter\n",
       "  Widgets Documentation</a> for setup instructions.\n",
       "</p>\n",
       "<p>\n",
       "  If you're reading this message in another frontend (for example, a static\n",
       "  rendering on GitHub or <a href=\"https://nbviewer.jupyter.org/\">NBViewer</a>),\n",
       "  it may mean that your frontend doesn't currently support widgets.\n",
       "</p>\n"
      ],
      "text/plain": [
       "HBox(children=(IntProgress(value=0, max=5), HTML(value='')))"
      ]
     },
     "metadata": {},
     "output_type": "display_data"
    },
    {
     "name": "stdout",
     "output_type": "stream",
     "text": [
      "\n",
      "Analyzing 13,770,113 rows\n"
     ]
    }
   ],
   "source": [
    "quarter_first = utils.Quarter('2013q1')\n",
    "quarter_last = utils.Quarter('2014q2')\n",
    "caseids_merged = set()\n",
    "caseids_drug = set()\n",
    "caseids_reac = set()\n",
    "data = []\n",
    "total_rows = 0\n",
    "n_quarters = len(list(utils.generate_quarters(quarter_first, quarter_last)))\n",
    "for q in tqdm.tqdm_notebook(utils.generate_quarters(quarter_first, quarter_last), total=n_quarters):\n",
    "    fn_drug = f'../data/interim/deduplicated/drug{q}.csv.zip'\n",
    "    fn_reaction = f'../data/interim/deduplicated/reac{q}.csv.zip'\n",
    "    df_drug = pd.read_csv(\n",
    "        fn_drug, dtype=str\n",
    "    )[\n",
    "        ['primaryid', 'caseid', 'drugname']\n",
    "    ].dropna(\n",
    "    ).drop_duplicates(subset=['primaryid', 'drugname'])\n",
    "    df_reac = pd.read_csv(\n",
    "        fn_reaction, dtype=str\n",
    "    )[\n",
    "        ['primaryid', 'caseid', 'pt']\n",
    "    ].dropna(\n",
    "    ).drop_duplicates(\n",
    "    )\n",
    "    df_merged = df_drug.merge(df_reac, on='caseid')\n",
    "    df_merged['q'] = str(q)\n",
    "    df_merged['pt'] = df_merged.pt.str.upper()\n",
    "    data.append(df_merged)\n",
    "    total_rows += len(df_merged)\n",
    "\n",
    "data = pd.concat(data).set_index('caseid', drop=False)\n",
    "print(f'Analyzing {len(data):,d} rows')"
   ]
  },
  {
   "cell_type": "code",
   "execution_count": 32,
   "metadata": {
    "ExecuteTime": {
     "end_time": "2018-06-07T13:06:36.547060Z",
     "start_time": "2018-06-07T13:06:36.542255Z"
    }
   },
   "outputs": [],
   "source": [
    "def classify_case(df_case):\n",
    "    return {\n",
    "        'is_drug': df_case.drugname.isin(config['drug']).any(),\n",
    "        'is_reaction': df_case.pt.isin(config['reaction']).any(),\n",
    "        'q': df_case['q'].iloc[0]\n",
    "    }"
   ]
  },
  {
   "cell_type": "code",
   "execution_count": 33,
   "metadata": {
    "ExecuteTime": {
     "end_time": "2018-06-07T13:06:36.555820Z",
     "start_time": "2018-06-07T13:06:36.549385Z"
    }
   },
   "outputs": [],
   "source": [
    "from multiprocessing import Pool, cpu_count\n",
    "import time"
   ]
  },
  {
   "cell_type": "code",
   "execution_count": 34,
   "metadata": {
    "ExecuteTime": {
     "end_time": "2018-06-07T13:06:51.201417Z",
     "start_time": "2018-06-07T13:06:36.557971Z"
    }
   },
   "outputs": [
    {
     "name": "stdout",
     "output_type": "stream",
     "text": [
      "Will analyze 1,070,364 groups\n"
     ]
    }
   ],
   "source": [
    "gr = data.groupby(\n",
    "    data.index\n",
    ")\n",
    "n_groups = len(gr)\n",
    "print(f'Will analyze {n_groups:,d} groups')"
   ]
  },
  {
   "cell_type": "code",
   "execution_count": 50,
   "metadata": {
    "ExecuteTime": {
     "end_time": "2018-06-10T08:11:33.383824Z",
     "start_time": "2018-06-10T08:11:33.318541Z"
    }
   },
   "outputs": [
    {
     "data": {
      "text/html": [
       "<div>\n",
       "<style scoped>\n",
       "    .dataframe tbody tr th:only-of-type {\n",
       "        vertical-align: middle;\n",
       "    }\n",
       "\n",
       "    .dataframe tbody tr th {\n",
       "        vertical-align: top;\n",
       "    }\n",
       "\n",
       "    .dataframe thead th {\n",
       "        text-align: right;\n",
       "    }\n",
       "</style>\n",
       "<table border=\"1\" class=\"dataframe\">\n",
       "  <thead>\n",
       "    <tr style=\"text-align: right;\">\n",
       "      <th></th>\n",
       "      <th>primaryid_x</th>\n",
       "      <th>caseid</th>\n",
       "      <th>drugname</th>\n",
       "      <th>primaryid_y</th>\n",
       "      <th>pt</th>\n",
       "      <th>q</th>\n",
       "    </tr>\n",
       "    <tr>\n",
       "      <th>caseid</th>\n",
       "      <th></th>\n",
       "      <th></th>\n",
       "      <th></th>\n",
       "      <th></th>\n",
       "      <th></th>\n",
       "      <th></th>\n",
       "    </tr>\n",
       "  </thead>\n",
       "  <tbody>\n",
       "    <tr>\n",
       "      <th>3037529</th>\n",
       "      <td>30375293</td>\n",
       "      <td>3037529</td>\n",
       "      <td>AVONEX</td>\n",
       "      <td>30375293</td>\n",
       "      <td>AMENORRHOEA</td>\n",
       "      <td>2013q1</td>\n",
       "    </tr>\n",
       "    <tr>\n",
       "      <th>3037529</th>\n",
       "      <td>30375293</td>\n",
       "      <td>3037529</td>\n",
       "      <td>AVONEX</td>\n",
       "      <td>30375293</td>\n",
       "      <td>ASTHENIA</td>\n",
       "      <td>2013q1</td>\n",
       "    </tr>\n",
       "    <tr>\n",
       "      <th>3037529</th>\n",
       "      <td>30375293</td>\n",
       "      <td>3037529</td>\n",
       "      <td>AVONEX</td>\n",
       "      <td>30375293</td>\n",
       "      <td>BLADDER DISORDER</td>\n",
       "      <td>2013q1</td>\n",
       "    </tr>\n",
       "    <tr>\n",
       "      <th>3037529</th>\n",
       "      <td>30375293</td>\n",
       "      <td>3037529</td>\n",
       "      <td>AVONEX</td>\n",
       "      <td>30375293</td>\n",
       "      <td>BLOOD PRESSURE INCREASED</td>\n",
       "      <td>2013q1</td>\n",
       "    </tr>\n",
       "    <tr>\n",
       "      <th>3037529</th>\n",
       "      <td>30375293</td>\n",
       "      <td>3037529</td>\n",
       "      <td>AVONEX</td>\n",
       "      <td>30375293</td>\n",
       "      <td>DEHYDRATION</td>\n",
       "      <td>2013q1</td>\n",
       "    </tr>\n",
       "  </tbody>\n",
       "</table>\n",
       "</div>"
      ],
      "text/plain": [
       "        primaryid_x   caseid drugname primaryid_y                        pt  \\\n",
       "caseid                                                                        \n",
       "3037529    30375293  3037529   AVONEX    30375293               AMENORRHOEA   \n",
       "3037529    30375293  3037529   AVONEX    30375293                  ASTHENIA   \n",
       "3037529    30375293  3037529   AVONEX    30375293          BLADDER DISORDER   \n",
       "3037529    30375293  3037529   AVONEX    30375293  BLOOD PRESSURE INCREASED   \n",
       "3037529    30375293  3037529   AVONEX    30375293               DEHYDRATION   \n",
       "\n",
       "              q  \n",
       "caseid           \n",
       "3037529  2013q1  \n",
       "3037529  2013q1  \n",
       "3037529  2013q1  \n",
       "3037529  2013q1  \n",
       "3037529  2013q1  "
      ]
     },
     "execution_count": 50,
     "metadata": {},
     "output_type": "execute_result"
    }
   ],
   "source": [
    "data.head()"
   ]
  },
  {
   "cell_type": "code",
   "execution_count": 56,
   "metadata": {
    "ExecuteTime": {
     "end_time": "2018-06-10T08:39:22.402731Z",
     "start_time": "2018-06-10T08:39:22.389204Z"
    }
   },
   "outputs": [
    {
     "data": {
      "text/plain": [
       "array([{'LORCASERIN', 'BELVIQ XR', 'BELVIQ'},\n",
       "       {'LORCASERIN', 'BELVIQ XR', 'BELVIQ'},\n",
       "       {'LORCASERIN', 'BELVIQ XR', 'BELVIQ'}], dtype=object)"
      ]
     },
     "execution_count": 56,
     "metadata": {},
     "output_type": "execute_result"
    }
   ],
   "source": [
    "np.repeat(config['drug'], 3)"
   ]
  },
  {
   "cell_type": "code",
   "execution_count": 66,
   "metadata": {
    "ExecuteTime": {
     "end_time": "2018-06-10T08:42:15.582568Z",
     "start_time": "2018-06-10T08:42:15.572601Z"
    }
   },
   "outputs": [],
   "source": [
    "config['drug'].add('AVONEX')"
   ]
  },
  {
   "cell_type": "code",
   "execution_count": 71,
   "metadata": {
    "ExecuteTime": {
     "end_time": "2018-06-10T09:29:41.715322Z",
     "start_time": "2018-06-10T09:29:41.704212Z"
    }
   },
   "outputs": [
    {
     "data": {
      "text/plain": [
       "'4.19.8'"
      ]
     },
     "execution_count": 71,
     "metadata": {},
     "output_type": "execute_result"
    }
   ],
   "source": [
    "tqdm.__version__"
   ]
  },
  {
   "cell_type": "code",
   "execution_count": 73,
   "metadata": {
    "ExecuteTime": {
     "end_time": "2018-06-10T09:30:59.249907Z",
     "start_time": "2018-06-10T09:30:59.090675Z"
    }
   },
   "outputs": [],
   "source": [
    "tqdm.tqdm.pandas?"
   ]
  },
  {
   "cell_type": "code",
   "execution_count": 68,
   "metadata": {
    "ExecuteTime": {
     "end_time": "2018-06-10T08:42:18.261369Z",
     "start_time": "2018-06-10T08:42:17.878802Z"
    }
   },
   "outputs": [
    {
     "data": {
      "text/plain": [
       "0"
      ]
     },
     "execution_count": 68,
     "metadata": {},
     "output_type": "execute_result"
    }
   ],
   "source": [
    "data.drugname.isin(data.config_drug).sum()"
   ]
  },
  {
   "cell_type": "code",
   "execution_count": 70,
   "metadata": {
    "ExecuteTime": {
     "end_time": "2018-06-10T08:42:55.875445Z",
     "start_time": "2018-06-10T08:42:55.726512Z"
    }
   },
   "outputs": [
    {
     "ename": "AttributeError",
     "evalue": "'str' object has no attribute 'isin'",
     "output_type": "error",
     "traceback": [
      "\u001b[0;31m---------------------------------------------------------------------------\u001b[0m",
      "\u001b[0;31mAttributeError\u001b[0m                            Traceback (most recent call last)",
      "\u001b[0;32m~/devel/faers/src/utils.py\u001b[0m in \u001b[0;36m<module>\u001b[0;34m()\u001b[0m\n\u001b[1;32m      1\u001b[0m \u001b[0mr\u001b[0m \u001b[0;34m=\u001b[0m \u001b[0mdata\u001b[0m\u001b[0;34m.\u001b[0m\u001b[0miloc\u001b[0m\u001b[0;34m[\u001b[0m\u001b[0;36m0\u001b[0m\u001b[0;34m]\u001b[0m\u001b[0;34m\u001b[0m\u001b[0m\n\u001b[0;32m----> 2\u001b[0;31m \u001b[0mr\u001b[0m\u001b[0;34m.\u001b[0m\u001b[0mdrugname\u001b[0m\u001b[0;34m.\u001b[0m\u001b[0misin\u001b[0m\u001b[0;34m(\u001b[0m\u001b[0mr\u001b[0m\u001b[0;34m.\u001b[0m\u001b[0mcongi_drug\u001b[0m\u001b[0;34m)\u001b[0m\u001b[0;34m\u001b[0m\u001b[0m\n\u001b[0m",
      "\u001b[0;31mAttributeError\u001b[0m: 'str' object has no attribute 'isin'"
     ]
    }
   ],
   "source": [
    "r = data.iloc[0]\n",
    "r.drugname.isin(r.congi_drug)"
   ]
  },
  {
   "cell_type": "code",
   "execution_count": 84,
   "metadata": {
    "ExecuteTime": {
     "end_time": "2018-06-10T09:51:51.653937Z",
     "start_time": "2018-06-10T09:51:51.626665Z"
    }
   },
   "outputs": [
    {
     "data": {
      "text/html": [
       "<div>\n",
       "<style scoped>\n",
       "    .dataframe tbody tr th:only-of-type {\n",
       "        vertical-align: middle;\n",
       "    }\n",
       "\n",
       "    .dataframe tbody tr th {\n",
       "        vertical-align: top;\n",
       "    }\n",
       "\n",
       "    .dataframe thead th {\n",
       "        text-align: right;\n",
       "    }\n",
       "</style>\n",
       "<table border=\"1\" class=\"dataframe\">\n",
       "  <thead>\n",
       "    <tr style=\"text-align: right;\">\n",
       "      <th></th>\n",
       "      <th>primaryid_x</th>\n",
       "      <th>caseid</th>\n",
       "      <th>drugname</th>\n",
       "      <th>primaryid_y</th>\n",
       "      <th>pt</th>\n",
       "      <th>q</th>\n",
       "      <th>config_drug</th>\n",
       "      <th>config_reaction</th>\n",
       "    </tr>\n",
       "    <tr>\n",
       "      <th>caseid</th>\n",
       "      <th></th>\n",
       "      <th></th>\n",
       "      <th></th>\n",
       "      <th></th>\n",
       "      <th></th>\n",
       "      <th></th>\n",
       "      <th></th>\n",
       "      <th></th>\n",
       "    </tr>\n",
       "  </thead>\n",
       "  <tbody>\n",
       "    <tr>\n",
       "      <th>3037529</th>\n",
       "      <td>30375293</td>\n",
       "      <td>3037529</td>\n",
       "      <td>AVONEX</td>\n",
       "      <td>30375293</td>\n",
       "      <td>AMENORRHOEA</td>\n",
       "      <td>2013q1</td>\n",
       "      <td>(LORCASERIN, BELVIQ XR, AVONEX, BELVIQ)</td>\n",
       "      <td>(MITRAL VALVE INCOMPETENCE, AORTIC VALVE REPLA...</td>\n",
       "    </tr>\n",
       "    <tr>\n",
       "      <th>3037529</th>\n",
       "      <td>30375293</td>\n",
       "      <td>3037529</td>\n",
       "      <td>AVONEX</td>\n",
       "      <td>30375293</td>\n",
       "      <td>ASTHENIA</td>\n",
       "      <td>2013q1</td>\n",
       "      <td>(LORCASERIN, BELVIQ XR, AVONEX, BELVIQ)</td>\n",
       "      <td>(MITRAL VALVE INCOMPETENCE, AORTIC VALVE REPLA...</td>\n",
       "    </tr>\n",
       "    <tr>\n",
       "      <th>3037529</th>\n",
       "      <td>30375293</td>\n",
       "      <td>3037529</td>\n",
       "      <td>AVONEX</td>\n",
       "      <td>30375293</td>\n",
       "      <td>BLADDER DISORDER</td>\n",
       "      <td>2013q1</td>\n",
       "      <td>(LORCASERIN, BELVIQ XR, AVONEX, BELVIQ)</td>\n",
       "      <td>(MITRAL VALVE INCOMPETENCE, AORTIC VALVE REPLA...</td>\n",
       "    </tr>\n",
       "    <tr>\n",
       "      <th>3037529</th>\n",
       "      <td>30375293</td>\n",
       "      <td>3037529</td>\n",
       "      <td>AVONEX</td>\n",
       "      <td>30375293</td>\n",
       "      <td>BLOOD PRESSURE INCREASED</td>\n",
       "      <td>2013q1</td>\n",
       "      <td>(LORCASERIN, BELVIQ XR, AVONEX, BELVIQ)</td>\n",
       "      <td>(MITRAL VALVE INCOMPETENCE, AORTIC VALVE REPLA...</td>\n",
       "    </tr>\n",
       "    <tr>\n",
       "      <th>3037529</th>\n",
       "      <td>30375293</td>\n",
       "      <td>3037529</td>\n",
       "      <td>AVONEX</td>\n",
       "      <td>30375293</td>\n",
       "      <td>DEHYDRATION</td>\n",
       "      <td>2013q1</td>\n",
       "      <td>(LORCASERIN, BELVIQ XR, AVONEX, BELVIQ)</td>\n",
       "      <td>(MITRAL VALVE INCOMPETENCE, AORTIC VALVE REPLA...</td>\n",
       "    </tr>\n",
       "  </tbody>\n",
       "</table>\n",
       "</div>"
      ],
      "text/plain": [
       "        primaryid_x   caseid drugname primaryid_y                        pt  \\\n",
       "caseid                                                                        \n",
       "3037529    30375293  3037529   AVONEX    30375293               AMENORRHOEA   \n",
       "3037529    30375293  3037529   AVONEX    30375293                  ASTHENIA   \n",
       "3037529    30375293  3037529   AVONEX    30375293          BLADDER DISORDER   \n",
       "3037529    30375293  3037529   AVONEX    30375293  BLOOD PRESSURE INCREASED   \n",
       "3037529    30375293  3037529   AVONEX    30375293               DEHYDRATION   \n",
       "\n",
       "              q                              config_drug  \\\n",
       "caseid                                                     \n",
       "3037529  2013q1  (LORCASERIN, BELVIQ XR, AVONEX, BELVIQ)   \n",
       "3037529  2013q1  (LORCASERIN, BELVIQ XR, AVONEX, BELVIQ)   \n",
       "3037529  2013q1  (LORCASERIN, BELVIQ XR, AVONEX, BELVIQ)   \n",
       "3037529  2013q1  (LORCASERIN, BELVIQ XR, AVONEX, BELVIQ)   \n",
       "3037529  2013q1  (LORCASERIN, BELVIQ XR, AVONEX, BELVIQ)   \n",
       "\n",
       "                                           config_reaction  \n",
       "caseid                                                      \n",
       "3037529  (MITRAL VALVE INCOMPETENCE, AORTIC VALVE REPLA...  \n",
       "3037529  (MITRAL VALVE INCOMPETENCE, AORTIC VALVE REPLA...  \n",
       "3037529  (MITRAL VALVE INCOMPETENCE, AORTIC VALVE REPLA...  \n",
       "3037529  (MITRAL VALVE INCOMPETENCE, AORTIC VALVE REPLA...  \n",
       "3037529  (MITRAL VALVE INCOMPETENCE, AORTIC VALVE REPLA...  "
      ]
     },
     "execution_count": 84,
     "metadata": {},
     "output_type": "execute_result"
    }
   ],
   "source": [
    "data.head()"
   ]
  },
  {
   "cell_type": "code",
   "execution_count": 94,
   "metadata": {
    "ExecuteTime": {
     "end_time": "2018-06-10T09:53:23.417495Z",
     "start_time": "2018-06-10T09:53:23.410837Z"
    }
   },
   "outputs": [
    {
     "data": {
      "text/plain": [
       "7898893825901659290"
      ]
     },
     "execution_count": 94,
     "metadata": {},
     "output_type": "execute_result"
    }
   ],
   "source": [
    "hash('s9778234')"
   ]
  },
  {
   "cell_type": "code",
   "execution_count": null,
   "metadata": {},
   "outputs": [],
   "source": []
  },
  {
   "cell_type": "code",
   "execution_count": null,
   "metadata": {},
   "outputs": [],
   "source": []
  },
  {
   "cell_type": "code",
   "execution_count": null,
   "metadata": {},
   "outputs": [],
   "source": []
  },
  {
   "cell_type": "code",
   "execution_count": 102,
   "metadata": {
    "ExecuteTime": {
     "end_time": "2018-06-10T09:55:14.684737Z",
     "start_time": "2018-06-10T09:55:08.907757Z"
    }
   },
   "outputs": [],
   "source": [
    "hashes = data.caseid.apply(lambda s: int( s) % 10)"
   ]
  },
  {
   "cell_type": "code",
   "execution_count": 105,
   "metadata": {
    "ExecuteTime": {
     "end_time": "2018-06-10T09:55:39.900071Z",
     "start_time": "2018-06-10T09:55:39.779424Z"
    }
   },
   "outputs": [
    {
     "data": {
      "text/plain": [
       "4    1406453\n",
       "0    1403206\n",
       "6    1385046\n",
       "5    1380016\n",
       "9    1369911\n",
       "3    1369108\n",
       "7    1368907\n",
       "1    1363825\n",
       "8    1362722\n",
       "2    1360919\n",
       "Name: caseid, dtype: int64"
      ]
     },
     "execution_count": 105,
     "metadata": {},
     "output_type": "execute_result"
    }
   ],
   "source": [
    "np.round(pd.value_counts(hashes, sort=True, normalize=False), 1)"
   ]
  },
  {
   "cell_type": "code",
   "execution_count": 108,
   "metadata": {
    "ExecuteTime": {
     "end_time": "2018-06-10T10:08:15.526433Z",
     "start_time": "2018-06-10T10:08:15.521784Z"
    }
   },
   "outputs": [
    {
     "data": {
      "text/plain": [
       "dict_keys(['drug', 'reaction'])"
      ]
     },
     "execution_count": 108,
     "metadata": {},
     "output_type": "execute_result"
    }
   ],
   "source": [
    "config.keys()"
   ]
  },
  {
   "cell_type": "code",
   "execution_count": 110,
   "metadata": {
    "ExecuteTime": {
     "end_time": "2018-06-10T10:09:03.818438Z",
     "start_time": "2018-06-10T10:09:03.762104Z"
    }
   },
   "outputs": [
    {
     "data": {
      "application/vnd.jupyter.widget-view+json": {
       "model_id": "297835f73f404800b423f926198d6f63",
       "version_major": 2,
       "version_minor": 0
      },
      "text/html": [
       "<p>Failed to display Jupyter Widget of type <code>HBox</code>.</p>\n",
       "<p>\n",
       "  If you're reading this message in the Jupyter Notebook or JupyterLab Notebook, it may mean\n",
       "  that the widgets JavaScript is still loading. If this message persists, it\n",
       "  likely means that the widgets JavaScript library is either not installed or\n",
       "  not enabled. See the <a href=\"https://ipywidgets.readthedocs.io/en/stable/user_install.html\">Jupyter\n",
       "  Widgets Documentation</a> for setup instructions.\n",
       "</p>\n",
       "<p>\n",
       "  If you're reading this message in another frontend (for example, a static\n",
       "  rendering on GitHub or <a href=\"https://nbviewer.jupyter.org/\">NBViewer</a>),\n",
       "  it may mean that your frontend doesn't currently support widgets.\n",
       "</p>\n"
      ],
      "text/plain": [
       "HBox(children=(IntProgress(value=0, max=31), HTML(value='')))"
      ]
     },
     "metadata": {},
     "output_type": "display_data"
    }
   ],
   "source": [
    "gr = data.head(1000).groupby(\n",
    "        data.head(1000).index\n",
    "    )\n",
    "res = []\n",
    "bar = tqdm.tqdm_notebook(total=len(gr))\n",
    "for group, tbl in gr:\n",
    "    res.append(classify_case(tbl))\n",
    "    bar.update(len(res))\n",
    "# res = gr.progress_apply(lambda t: classify_case(t, config.drugs, config.reactions))\n",
    "# res = pd.DataFrame.from_records(res, index=res.index).head()\n",
    "# return res\n"
   ]
  },
  {
   "cell_type": "code",
   "execution_count": 113,
   "metadata": {
    "ExecuteTime": {
     "end_time": "2018-06-10T11:12:30.685209Z",
     "start_time": "2018-06-10T11:12:30.628583Z"
    }
   },
   "outputs": [
    {
     "data": {
      "text/html": [
       "<div>\n",
       "<style scoped>\n",
       "    .dataframe tbody tr th:only-of-type {\n",
       "        vertical-align: middle;\n",
       "    }\n",
       "\n",
       "    .dataframe tbody tr th {\n",
       "        vertical-align: top;\n",
       "    }\n",
       "\n",
       "    .dataframe thead th {\n",
       "        text-align: right;\n",
       "    }\n",
       "</style>\n",
       "<table border=\"1\" class=\"dataframe\">\n",
       "  <thead>\n",
       "    <tr style=\"text-align: right;\">\n",
       "      <th></th>\n",
       "      <th>primaryid_x</th>\n",
       "      <th>caseid</th>\n",
       "      <th>drugname</th>\n",
       "      <th>primaryid_y</th>\n",
       "      <th>pt</th>\n",
       "      <th>q</th>\n",
       "      <th>config_drug</th>\n",
       "      <th>config_reaction</th>\n",
       "    </tr>\n",
       "    <tr>\n",
       "      <th>caseid</th>\n",
       "      <th></th>\n",
       "      <th></th>\n",
       "      <th></th>\n",
       "      <th></th>\n",
       "      <th></th>\n",
       "      <th></th>\n",
       "      <th></th>\n",
       "      <th></th>\n",
       "    </tr>\n",
       "  </thead>\n",
       "  <tbody>\n",
       "    <tr>\n",
       "      <th>3037529</th>\n",
       "      <td>30375293</td>\n",
       "      <td>3037529</td>\n",
       "      <td>AVONEX</td>\n",
       "      <td>30375293</td>\n",
       "      <td>AMENORRHOEA</td>\n",
       "      <td>2013q1</td>\n",
       "      <td>(LORCASERIN, BELVIQ XR, AVONEX, BELVIQ)</td>\n",
       "      <td>(MITRAL VALVE INCOMPETENCE, AORTIC VALVE REPLA...</td>\n",
       "    </tr>\n",
       "    <tr>\n",
       "      <th>3037529</th>\n",
       "      <td>30375293</td>\n",
       "      <td>3037529</td>\n",
       "      <td>AVONEX</td>\n",
       "      <td>30375293</td>\n",
       "      <td>ASTHENIA</td>\n",
       "      <td>2013q1</td>\n",
       "      <td>(LORCASERIN, BELVIQ XR, AVONEX, BELVIQ)</td>\n",
       "      <td>(MITRAL VALVE INCOMPETENCE, AORTIC VALVE REPLA...</td>\n",
       "    </tr>\n",
       "    <tr>\n",
       "      <th>3037529</th>\n",
       "      <td>30375293</td>\n",
       "      <td>3037529</td>\n",
       "      <td>AVONEX</td>\n",
       "      <td>30375293</td>\n",
       "      <td>BLADDER DISORDER</td>\n",
       "      <td>2013q1</td>\n",
       "      <td>(LORCASERIN, BELVIQ XR, AVONEX, BELVIQ)</td>\n",
       "      <td>(MITRAL VALVE INCOMPETENCE, AORTIC VALVE REPLA...</td>\n",
       "    </tr>\n",
       "    <tr>\n",
       "      <th>3037529</th>\n",
       "      <td>30375293</td>\n",
       "      <td>3037529</td>\n",
       "      <td>AVONEX</td>\n",
       "      <td>30375293</td>\n",
       "      <td>BLOOD PRESSURE INCREASED</td>\n",
       "      <td>2013q1</td>\n",
       "      <td>(LORCASERIN, BELVIQ XR, AVONEX, BELVIQ)</td>\n",
       "      <td>(MITRAL VALVE INCOMPETENCE, AORTIC VALVE REPLA...</td>\n",
       "    </tr>\n",
       "    <tr>\n",
       "      <th>3037529</th>\n",
       "      <td>30375293</td>\n",
       "      <td>3037529</td>\n",
       "      <td>AVONEX</td>\n",
       "      <td>30375293</td>\n",
       "      <td>DEHYDRATION</td>\n",
       "      <td>2013q1</td>\n",
       "      <td>(LORCASERIN, BELVIQ XR, AVONEX, BELVIQ)</td>\n",
       "      <td>(MITRAL VALVE INCOMPETENCE, AORTIC VALVE REPLA...</td>\n",
       "    </tr>\n",
       "  </tbody>\n",
       "</table>\n",
       "</div>"
      ],
      "text/plain": [
       "        primaryid_x   caseid drugname primaryid_y                        pt  \\\n",
       "caseid                                                                        \n",
       "3037529    30375293  3037529   AVONEX    30375293               AMENORRHOEA   \n",
       "3037529    30375293  3037529   AVONEX    30375293                  ASTHENIA   \n",
       "3037529    30375293  3037529   AVONEX    30375293          BLADDER DISORDER   \n",
       "3037529    30375293  3037529   AVONEX    30375293  BLOOD PRESSURE INCREASED   \n",
       "3037529    30375293  3037529   AVONEX    30375293               DEHYDRATION   \n",
       "\n",
       "              q                              config_drug  \\\n",
       "caseid                                                     \n",
       "3037529  2013q1  (LORCASERIN, BELVIQ XR, AVONEX, BELVIQ)   \n",
       "3037529  2013q1  (LORCASERIN, BELVIQ XR, AVONEX, BELVIQ)   \n",
       "3037529  2013q1  (LORCASERIN, BELVIQ XR, AVONEX, BELVIQ)   \n",
       "3037529  2013q1  (LORCASERIN, BELVIQ XR, AVONEX, BELVIQ)   \n",
       "3037529  2013q1  (LORCASERIN, BELVIQ XR, AVONEX, BELVIQ)   \n",
       "\n",
       "                                           config_reaction  \n",
       "caseid                                                      \n",
       "3037529  (MITRAL VALVE INCOMPETENCE, AORTIC VALVE REPLA...  \n",
       "3037529  (MITRAL VALVE INCOMPETENCE, AORTIC VALVE REPLA...  \n",
       "3037529  (MITRAL VALVE INCOMPETENCE, AORTIC VALVE REPLA...  \n",
       "3037529  (MITRAL VALVE INCOMPETENCE, AORTIC VALVE REPLA...  \n",
       "3037529  (MITRAL VALVE INCOMPETENCE, AORTIC VALVE REPLA...  "
      ]
     },
     "execution_count": 113,
     "metadata": {},
     "output_type": "execute_result"
    }
   ],
   "source": [
    "data.head()"
   ]
  },
  {
   "cell_type": "code",
   "execution_count": null,
   "metadata": {},
   "outputs": [],
   "source": []
  },
  {
   "cell_type": "code",
   "execution_count": null,
   "metadata": {},
   "outputs": [],
   "source": []
  },
  {
   "cell_type": "code",
   "execution_count": 65,
   "metadata": {
    "ExecuteTime": {
     "end_time": "2018-06-10T08:41:55.837635Z",
     "start_time": "2018-06-10T08:41:55.121389Z"
    }
   },
   "outputs": [
    {
     "data": {
      "text/plain": [
       "0"
      ]
     },
     "execution_count": 65,
     "metadata": {},
     "output_type": "execute_result"
    }
   ],
   "source": [
    "data.pt.isin(data.config_reaction).sum()"
   ]
  },
  {
   "cell_type": "code",
   "execution_count": null,
   "metadata": {},
   "outputs": [],
   "source": []
  },
  {
   "cell_type": "code",
   "execution_count": null,
   "metadata": {},
   "outputs": [],
   "source": []
  },
  {
   "cell_type": "code",
   "execution_count": 49,
   "metadata": {
    "ExecuteTime": {
     "end_time": "2018-06-07T14:05:26.696037Z",
     "start_time": "2018-06-07T13:58:30.221795Z"
    }
   },
   "outputs": [
    {
     "data": {
      "application/vnd.jupyter.widget-view+json": {
       "model_id": "895ef5f31395486583e21984f27fff15",
       "version_major": 2,
       "version_minor": 0
      },
      "text/html": [
       "<p>Failed to display Jupyter Widget of type <code>HBox</code>.</p>\n",
       "<p>\n",
       "  If you're reading this message in the Jupyter Notebook or JupyterLab Notebook, it may mean\n",
       "  that the widgets JavaScript is still loading. If this message persists, it\n",
       "  likely means that the widgets JavaScript library is either not installed or\n",
       "  not enabled. See the <a href=\"https://ipywidgets.readthedocs.io/en/stable/user_install.html\">Jupyter\n",
       "  Widgets Documentation</a> for setup instructions.\n",
       "</p>\n",
       "<p>\n",
       "  If you're reading this message in another frontend (for example, a static\n",
       "  rendering on GitHub or <a href=\"https://nbviewer.jupyter.org/\">NBViewer</a>),\n",
       "  it may mean that your frontend doesn't currently support widgets.\n",
       "</p>\n"
      ],
      "text/plain": [
       "HBox(children=(IntProgress(value=0, max=1070364), HTML(value='')))"
      ]
     },
     "metadata": {},
     "output_type": "display_data"
    }
   ],
   "source": [
    "res = []\n",
    "def f(tup):\n",
    "    return classify_case(tup[1])\n",
    "ts = time.time()\n",
    "with tqdm.tqdm_notebook(total=n_groups, mininterval=1) as bar:\n",
    "    with Pool(cpu_count()) as p:\n",
    "        r = list(p.imap(f, gr))\n",
    "        res.extend(r)\n",
    "        bar.set_description(f'Done {len(res)} rows')\n",
    "dt_apply = time.time() - ts\n",
    "ts = time.time()\n",
    "res = pd.DataFrame.from_records(res)\n",
    "dt_dataframe = time.time() - ts"
   ]
  },
  {
   "cell_type": "code",
   "execution_count": 40,
   "metadata": {
    "ExecuteTime": {
     "end_time": "2018-06-07T13:14:25.760304Z",
     "start_time": "2018-06-07T13:14:25.755530Z"
    }
   },
   "outputs": [
    {
     "name": "stdout",
     "output_type": "stream",
     "text": [
      "Apply: 7.3 minutes. DataFrame: 1.8 seconds\n"
     ]
    }
   ],
   "source": [
    "print(f'Apply: {dt_apply/60:.1f} minutes. DataFrame: {dt_dataframe:.1f} seconds')"
   ]
  },
  {
   "cell_type": "code",
   "execution_count": 41,
   "metadata": {
    "ExecuteTime": {
     "end_time": "2018-06-07T13:14:29.124586Z",
     "start_time": "2018-06-07T13:14:29.118894Z"
    }
   },
   "outputs": [
    {
     "data": {
      "text/plain": [
       "1070.364"
      ]
     },
     "execution_count": 41,
     "metadata": {},
     "output_type": "execute_result"
    }
   ],
   "source": [
    "len(res) / 1e3"
   ]
  },
  {
   "cell_type": "code",
   "execution_count": 42,
   "metadata": {
    "ExecuteTime": {
     "end_time": "2018-06-07T13:14:30.983400Z",
     "start_time": "2018-06-07T13:14:30.973369Z"
    }
   },
   "outputs": [
    {
     "data": {
      "text/html": [
       "<div>\n",
       "<style scoped>\n",
       "    .dataframe tbody tr th:only-of-type {\n",
       "        vertical-align: middle;\n",
       "    }\n",
       "\n",
       "    .dataframe tbody tr th {\n",
       "        vertical-align: top;\n",
       "    }\n",
       "\n",
       "    .dataframe thead th {\n",
       "        text-align: right;\n",
       "    }\n",
       "</style>\n",
       "<table border=\"1\" class=\"dataframe\">\n",
       "  <thead>\n",
       "    <tr style=\"text-align: right;\">\n",
       "      <th></th>\n",
       "      <th>is_drug</th>\n",
       "      <th>is_reaction</th>\n",
       "      <th>q</th>\n",
       "    </tr>\n",
       "  </thead>\n",
       "  <tbody>\n",
       "    <tr>\n",
       "      <th>0</th>\n",
       "      <td>False</td>\n",
       "      <td>False</td>\n",
       "      <td>2014q1</td>\n",
       "    </tr>\n",
       "    <tr>\n",
       "      <th>1</th>\n",
       "      <td>False</td>\n",
       "      <td>False</td>\n",
       "      <td>2014q1</td>\n",
       "    </tr>\n",
       "    <tr>\n",
       "      <th>2</th>\n",
       "      <td>False</td>\n",
       "      <td>False</td>\n",
       "      <td>2014q1</td>\n",
       "    </tr>\n",
       "    <tr>\n",
       "      <th>3</th>\n",
       "      <td>False</td>\n",
       "      <td>False</td>\n",
       "      <td>2014q1</td>\n",
       "    </tr>\n",
       "    <tr>\n",
       "      <th>4</th>\n",
       "      <td>False</td>\n",
       "      <td>False</td>\n",
       "      <td>2014q1</td>\n",
       "    </tr>\n",
       "  </tbody>\n",
       "</table>\n",
       "</div>"
      ],
      "text/plain": [
       "   is_drug  is_reaction       q\n",
       "0    False        False  2014q1\n",
       "1    False        False  2014q1\n",
       "2    False        False  2014q1\n",
       "3    False        False  2014q1\n",
       "4    False        False  2014q1"
      ]
     },
     "execution_count": 42,
     "metadata": {},
     "output_type": "execute_result"
    }
   ],
   "source": [
    "res.head()"
   ]
  },
  {
   "cell_type": "code",
   "execution_count": null,
   "metadata": {},
   "outputs": [],
   "source": [
    "tbl = pd.DataFrame({\n",
    "    'exposure': [True, True, False, False, False],\n",
    "    'outcome':  [True, False, False, False, True],\n",
    "    'q':        ['2014q1', '2014q1', '2014q2', '2014q2', '2014q3']\n",
    "})"
   ]
  },
  {
   "cell_type": "code",
   "execution_count": null,
   "metadata": {},
   "outputs": [],
   "source": []
  },
  {
   "cell_type": "code",
   "execution_count": null,
   "metadata": {},
   "outputs": [],
   "source": []
  },
  {
   "cell_type": "code",
   "execution_count": null,
   "metadata": {},
   "outputs": [],
   "source": []
  },
  {
   "cell_type": "code",
   "execution_count": null,
   "metadata": {},
   "outputs": [],
   "source": []
  },
  {
   "cell_type": "code",
   "execution_count": null,
   "metadata": {},
   "outputs": [],
   "source": []
  },
  {
   "cell_type": "code",
   "execution_count": null,
   "metadata": {},
   "outputs": [],
   "source": []
  },
  {
   "cell_type": "code",
   "execution_count": 156,
   "metadata": {
    "ExecuteTime": {
     "end_time": "2018-06-10T12:14:46.033116Z",
     "start_time": "2018-06-10T12:14:46.007699Z"
    }
   },
   "outputs": [
    {
     "name": "stdout",
     "output_type": "stream",
     "text": [
      "added row n    0\n",
      "Name: (True, False), dtype: int64\n",
      "added row n    0\n",
      "Name: (False, True), dtype: int64\n"
     ]
    },
    {
     "data": {
      "text/html": [
       "<div>\n",
       "<style scoped>\n",
       "    .dataframe tbody tr th:only-of-type {\n",
       "        vertical-align: middle;\n",
       "    }\n",
       "\n",
       "    .dataframe tbody tr th {\n",
       "        vertical-align: top;\n",
       "    }\n",
       "\n",
       "    .dataframe thead th {\n",
       "        text-align: right;\n",
       "    }\n",
       "</style>\n",
       "<table border=\"1\" class=\"dataframe\">\n",
       "  <thead>\n",
       "    <tr style=\"text-align: right;\">\n",
       "      <th></th>\n",
       "      <th></th>\n",
       "      <th>n</th>\n",
       "    </tr>\n",
       "    <tr>\n",
       "      <th>exposure</th>\n",
       "      <th>outcome</th>\n",
       "      <th></th>\n",
       "    </tr>\n",
       "  </thead>\n",
       "  <tbody>\n",
       "    <tr>\n",
       "      <th>True</th>\n",
       "      <th>True</th>\n",
       "      <td>3</td>\n",
       "    </tr>\n",
       "    <tr>\n",
       "      <th>False</th>\n",
       "      <th>False</th>\n",
       "      <td>4</td>\n",
       "    </tr>\n",
       "    <tr>\n",
       "      <th>True</th>\n",
       "      <th>False</th>\n",
       "      <td>0</td>\n",
       "    </tr>\n",
       "    <tr>\n",
       "      <th>False</th>\n",
       "      <th>True</th>\n",
       "      <td>0</td>\n",
       "    </tr>\n",
       "  </tbody>\n",
       "</table>\n",
       "</div>"
      ],
      "text/plain": [
       "                  n\n",
       "exposure outcome   \n",
       "True     True     3\n",
       "False    False    4\n",
       "True     False    0\n",
       "False    True     0"
      ]
     },
     "execution_count": 156,
     "metadata": {},
     "output_type": "execute_result"
    }
   ],
   "source": [
    "tbl = pd.DataFrame({'exposure': [True, False], 'outcome': [True, False], 'n': [3, 4]})\n",
    "tbl.set_index(['exposure', 'outcome'], inplace=True)\n",
    "for expo in (True, False):\n",
    "    for outcome in (True, False):\n",
    "        pair = (expo, outcome)\n",
    "        if pair not in tbl.index:\n",
    "            row = pd.Series({'n': 0}, name=pair)\n",
    "            tbl = tbl.append(row)\n",
    "            print(f'added row {row}')\n",
    "tbl"
   ]
  },
  {
   "cell_type": "code",
   "execution_count": 157,
   "metadata": {
    "ExecuteTime": {
     "end_time": "2018-06-10T12:14:53.855096Z",
     "start_time": "2018-06-10T12:14:53.839382Z"
    }
   },
   "outputs": [
    {
     "data": {
      "text/html": [
       "<div>\n",
       "<style scoped>\n",
       "    .dataframe tbody tr th:only-of-type {\n",
       "        vertical-align: middle;\n",
       "    }\n",
       "\n",
       "    .dataframe tbody tr th {\n",
       "        vertical-align: top;\n",
       "    }\n",
       "\n",
       "    .dataframe thead th {\n",
       "        text-align: right;\n",
       "    }\n",
       "</style>\n",
       "<table border=\"1\" class=\"dataframe\">\n",
       "  <thead>\n",
       "    <tr style=\"text-align: right;\">\n",
       "      <th></th>\n",
       "      <th></th>\n",
       "      <th>n</th>\n",
       "    </tr>\n",
       "    <tr>\n",
       "      <th>exposure</th>\n",
       "      <th>outcome</th>\n",
       "      <th></th>\n",
       "    </tr>\n",
       "  </thead>\n",
       "  <tbody>\n",
       "    <tr>\n",
       "      <th rowspan=\"2\" valign=\"top\">False</th>\n",
       "      <th>False</th>\n",
       "      <td>6</td>\n",
       "    </tr>\n",
       "    <tr>\n",
       "      <th>True</th>\n",
       "      <td>5</td>\n",
       "    </tr>\n",
       "    <tr>\n",
       "      <th rowspan=\"2\" valign=\"top\">True</th>\n",
       "      <th>False</th>\n",
       "      <td>4</td>\n",
       "    </tr>\n",
       "    <tr>\n",
       "      <th>True</th>\n",
       "      <td>3</td>\n",
       "    </tr>\n",
       "  </tbody>\n",
       "</table>\n",
       "</div>"
      ],
      "text/plain": [
       "                  n\n",
       "exposure outcome   \n",
       "False    False    6\n",
       "         True     5\n",
       "True     False    4\n",
       "         True     3"
      ]
     },
     "execution_count": 157,
     "metadata": {},
     "output_type": "execute_result"
    }
   ],
   "source": [
    "tt = pd.DataFrame({'exposure': [True, True, False, False], 'outcome': [True,  False, True, False], 'n': [3, 4, 5, 6]})\n",
    "tt = tt.set_index(['exposure', 'outcome']).sort_index(ascending=True)\n",
    "tt"
   ]
  },
  {
   "cell_type": "code",
   "execution_count": 160,
   "metadata": {
    "ExecuteTime": {
     "end_time": "2018-06-10T12:20:47.993897Z",
     "start_time": "2018-06-10T12:20:47.979811Z"
    }
   },
   "outputs": [
    {
     "ename": "AttributeError",
     "evalue": "'list' object has no attribute 'head'",
     "output_type": "error",
     "traceback": [
      "\u001b[0;31m---------------------------------------------------------------------------\u001b[0m",
      "\u001b[0;31mAttributeError\u001b[0m                            Traceback (most recent call last)",
      "\u001b[0;32m~/devel/faers/src/utils.py\u001b[0m in \u001b[0;36m<module>\u001b[0;34m()\u001b[0m\n\u001b[0;32m----> 1\u001b[0;31m \u001b[0mres\u001b[0m\u001b[0;34m.\u001b[0m\u001b[0mhead\u001b[0m\u001b[0;34m(\u001b[0m\u001b[0;34m)\u001b[0m\u001b[0;34m\u001b[0m\u001b[0m\n\u001b[0m",
      "\u001b[0;31mAttributeError\u001b[0m: 'list' object has no attribute 'head'"
     ]
    }
   ],
   "source": [
    "res.head()"
   ]
  },
  {
   "cell_type": "code",
   "execution_count": null,
   "metadata": {},
   "outputs": [],
   "source": []
  },
  {
   "cell_type": "code",
   "execution_count": null,
   "metadata": {},
   "outputs": [],
   "source": []
  },
  {
   "cell_type": "code",
   "execution_count": null,
   "metadata": {},
   "outputs": [],
   "source": []
  },
  {
   "cell_type": "code",
   "execution_count": null,
   "metadata": {},
   "outputs": [],
   "source": []
  },
  {
   "cell_type": "code",
   "execution_count": null,
   "metadata": {},
   "outputs": [],
   "source": []
  },
  {
   "cell_type": "code",
   "execution_count": 137,
   "metadata": {
    "ExecuteTime": {
     "end_time": "2018-06-10T12:04:12.327950Z",
     "start_time": "2018-06-10T12:04:12.315771Z"
    }
   },
   "outputs": [
    {
     "data": {
      "text/html": [
       "<div>\n",
       "<style scoped>\n",
       "    .dataframe tbody tr th:only-of-type {\n",
       "        vertical-align: middle;\n",
       "    }\n",
       "\n",
       "    .dataframe tbody tr th {\n",
       "        vertical-align: top;\n",
       "    }\n",
       "\n",
       "    .dataframe thead th {\n",
       "        text-align: right;\n",
       "    }\n",
       "</style>\n",
       "<table border=\"1\" class=\"dataframe\">\n",
       "  <thead>\n",
       "    <tr style=\"text-align: right;\">\n",
       "      <th></th>\n",
       "      <th></th>\n",
       "      <th>n</th>\n",
       "    </tr>\n",
       "    <tr>\n",
       "      <th>exposure</th>\n",
       "      <th>outcome</th>\n",
       "      <th></th>\n",
       "    </tr>\n",
       "  </thead>\n",
       "  <tbody>\n",
       "    <tr>\n",
       "      <th rowspan=\"2\" valign=\"top\">True</th>\n",
       "      <th>True</th>\n",
       "      <td>0</td>\n",
       "    </tr>\n",
       "    <tr>\n",
       "      <th>False</th>\n",
       "      <td>9</td>\n",
       "    </tr>\n",
       "    <tr>\n",
       "      <th rowspan=\"2\" valign=\"top\">False</th>\n",
       "      <th>True</th>\n",
       "      <td>2</td>\n",
       "    </tr>\n",
       "    <tr>\n",
       "      <th>False</th>\n",
       "      <td>3</td>\n",
       "    </tr>\n",
       "  </tbody>\n",
       "</table>\n",
       "</div>"
      ],
      "text/plain": [
       "                  n\n",
       "exposure outcome   \n",
       "True     True     0\n",
       "         False    9\n",
       "False    True     2\n",
       "         False    3"
      ]
     },
     "execution_count": 137,
     "metadata": {},
     "output_type": "execute_result"
    }
   ],
   "source": [
    "tbl\n"
   ]
  },
  {
   "cell_type": "code",
   "execution_count": null,
   "metadata": {},
   "outputs": [],
   "source": []
  },
  {
   "cell_type": "code",
   "execution_count": null,
   "metadata": {},
   "outputs": [],
   "source": []
  },
  {
   "cell_type": "code",
   "execution_count": null,
   "metadata": {},
   "outputs": [],
   "source": []
  },
  {
   "cell_type": "code",
   "execution_count": null,
   "metadata": {},
   "outputs": [],
   "source": []
  },
  {
   "cell_type": "code",
   "execution_count": null,
   "metadata": {},
   "outputs": [],
   "source": []
  },
  {
   "cell_type": "code",
   "execution_count": 46,
   "metadata": {
    "ExecuteTime": {
     "end_time": "2018-06-07T13:16:29.502236Z",
     "start_time": "2018-06-07T13:16:29.338257Z"
    }
   },
   "outputs": [
    {
     "name": "stdout",
     "output_type": "stream",
     "text": [
      "Contingency matrix\n",
      "   exposure  outcome        n\n",
      "0     False    False  1036896\n",
      "1     False     True    33401\n",
      "2      True    False       67\n",
      "3      True     True        1\n"
     ]
    },
    {
     "data": {
      "text/plain": [
       "(0.46334120839174087, array([0.43497553, 0.49355668]))"
      ]
     },
     "execution_count": 46,
     "metadata": {},
     "output_type": "execute_result"
    }
   ],
   "source": [
    "%run -i ../src/utils.py\n",
    "contingency = ContingencyMatrix.from_results_table(res)\n",
    "contingency.tbl = contingency.tbl.append({'exposure': True, 'outcome': True, 'n': 1}, ignore_index=True)\n",
    "print(contingency)\n",
    "contingency.ror()"
   ]
  },
  {
   "cell_type": "code",
   "execution_count": 29,
   "metadata": {
    "ExecuteTime": {
     "end_time": "2018-06-07T13:05:35.424833Z",
     "start_time": "2018-06-07T13:04:26.628566Z"
    }
   },
   "outputs": [
    {
     "name": "stdout",
     "output_type": "stream",
     "text": [
      "> \u001b[0;32m/Users/boris/devel/faers/src/utils.py\u001b[0m(112)\u001b[0;36mror\u001b[0;34m()\u001b[0m\n",
      "\u001b[0;32m    110 \u001b[0;31m        \u001b[0;32mif\u001b[0m \u001b[0malpha\u001b[0m \u001b[0;32mis\u001b[0m \u001b[0;32mnot\u001b[0m \u001b[0;32mNone\u001b[0m\u001b[0;34m:\u001b[0m\u001b[0;34m\u001b[0m\u001b[0m\n",
      "\u001b[0m\u001b[0;32m    111 \u001b[0;31m            \u001b[0mstandard_error\u001b[0m \u001b[0;34m=\u001b[0m \u001b[0mnp\u001b[0m\u001b[0;34m.\u001b[0m\u001b[0msqrt\u001b[0m\u001b[0;34m(\u001b[0m\u001b[0;34m(\u001b[0m\u001b[0;36m1\u001b[0m \u001b[0;34m/\u001b[0m \u001b[0mself\u001b[0m\u001b[0;34m.\u001b[0m\u001b[0mtbl\u001b[0m\u001b[0;34m[\u001b[0m\u001b[0;34m'n'\u001b[0m\u001b[0;34m]\u001b[0m\u001b[0;34m)\u001b[0m\u001b[0;34m.\u001b[0m\u001b[0msum\u001b[0m\u001b[0;34m(\u001b[0m\u001b[0;34m)\u001b[0m\u001b[0;34m)\u001b[0m\u001b[0;34m\u001b[0m\u001b[0m\n",
      "\u001b[0m\u001b[0;32m--> 112 \u001b[0;31m            \u001b[0minterval\u001b[0m \u001b[0;34m=\u001b[0m \u001b[0mstats\u001b[0m\u001b[0;34m.\u001b[0m\u001b[0mdistributions\u001b[0m\u001b[0;34m.\u001b[0m\u001b[0mnorm\u001b[0m\u001b[0;34m.\u001b[0m\u001b[0minterval\u001b[0m\u001b[0;34m(\u001b[0m\u001b[0malpha\u001b[0m\u001b[0;34m)\u001b[0m \u001b[0;34m*\u001b[0m \u001b[0mstandard_error\u001b[0m\u001b[0;34m\u001b[0m\u001b[0m\n",
      "\u001b[0m\u001b[0;32m    113 \u001b[0;31m            \u001b[0mci\u001b[0m \u001b[0;34m=\u001b[0m \u001b[0mror\u001b[0m \u001b[0;34m+\u001b[0m \u001b[0minterval\u001b[0m\u001b[0;34m\u001b[0m\u001b[0m\n",
      "\u001b[0m\u001b[0;32m    114 \u001b[0;31m            \u001b[0;32mreturn\u001b[0m \u001b[0mror\u001b[0m\u001b[0;34m,\u001b[0m \u001b[0mci\u001b[0m\u001b[0;34m\u001b[0m\u001b[0m\n",
      "\u001b[0m\n",
      "ipdb> stats.distributions.norm.interval(alpha)\n",
      "(-0.06270677794321385, 0.06270677794321385)\n",
      "ipdb> type(stats.distributions.norm.interval(alpha))\n",
      "<class 'tuple'>\n",
      "ipdb> np.multiply(stats.distributions.norm.interval(alpha), standard_error)\n",
      "array([-0.00075376,  0.00075376])\n",
      "ipdb> q\n"
     ]
    }
   ],
   "source": [
    "%debug"
   ]
  },
  {
   "cell_type": "code",
   "execution_count": null,
   "metadata": {},
   "outputs": [],
   "source": []
  },
  {
   "cell_type": "code",
   "execution_count": 126,
   "metadata": {
    "ExecuteTime": {
     "end_time": "2018-06-02T14:00:18.615887Z",
     "start_time": "2018-06-02T14:00:17.264525Z"
    }
   },
   "outputs": [
    {
     "name": "stderr",
     "output_type": "stream",
     "text": [
      "/Users/boris/anaconda3/lib/python3.6/site-packages/ipykernel_launcher.py:8: RuntimeWarning: invalid value encountered in long_scalars\n",
      "  \n"
     ]
    }
   ],
   "source": [
    "rors = res.groupby('q').apply(lambda t: ror_computations(contingency_table_from_results(t)))\n",
    "rors = pd.DataFrame.from_records(rors, index=rors.index)"
   ]
  },
  {
   "cell_type": "code",
   "execution_count": 144,
   "metadata": {
    "ExecuteTime": {
     "end_time": "2018-06-02T14:09:54.568247Z",
     "start_time": "2018-06-02T14:09:54.561145Z"
    }
   },
   "outputs": [
    {
     "name": "stderr",
     "output_type": "stream",
     "text": [
      "/Users/boris/anaconda3/lib/python3.6/site-packages/ipykernel_launcher.py:1: RuntimeWarning: divide by zero encountered in log\n",
      "  \"\"\"Entry point for launching an IPython kernel.\n"
     ]
    }
   ],
   "source": [
    "rors['lROR'] = np.log(rors.ROR)\n",
    "rors['ce_from'] = np.exp(rors.lROR - 1.96 * rors.SE)\n",
    "rors['ce_to'] = np.exp(rors.lROR + 1.96 * rors.SE)"
   ]
  },
  {
   "cell_type": "code",
   "execution_count": 173,
   "metadata": {
    "ExecuteTime": {
     "end_time": "2018-06-02T14:20:00.858408Z",
     "start_time": "2018-06-02T14:20:00.051643Z"
    }
   },
   "outputs": [
    {
     "name": "stderr",
     "output_type": "stream",
     "text": [
      "/Users/boris/anaconda3/lib/python3.6/site-packages/ipykernel_launcher.py:4: RuntimeWarning: divide by zero encountered in log\n",
      "  after removing the cwd from sys.path.\n"
     ]
    },
    {
     "data": {
      "image/png": "[encoded data removed]",
      "text/plain": [
       "<matplotlib.figure.Figure at 0x1a88835208>"
      ]
     },
     "metadata": {},
     "output_type": "display_data"
    }
   ],
   "source": [
    "fig, ax = plt.subplots(figsize=(12, 4))\n",
    "x = list(range(len(rors)))\n",
    "ax.plot(x, rors.lROR, '-o', zorder=9)\n",
    "ax.fill_between(x, np.log(rors.ce_from), np.log(rors.ce_to), alpha=0.2)\n",
    "sns.despine()\n",
    "ax.spines['bottom'].set_position('zero')\n",
    "tks = []\n",
    "lbls = []\n",
    "for i, q in enumerate(rors.index):\n",
    "    if q.endswith('q1'):\n",
    "        tks.append(i)\n",
    "        lbls.append(q.replace('q1', ''))\n",
    "ax.set_xticks(tks)\n",
    "ax.set_xticklabels(lbls)\n",
    "ax.set_ylabel(r'$ \\ln \\left (ROR \\right) $', rotation=0, ha='right', y=1)\n",
    "ax.set_yticks([-4, -2, 0, 2, 4])\n",
    "\n",
    "overall = ror_computations(contingency_table_from_results(res))\n",
    "ror = overall['ROR']\n",
    "se = overall['SE']\n",
    "ce_from = np.exp(np.log(ror) - 1.96 * se)\n",
    "ce_to = np.exp(np.log(ror) + 1.96 * se)\n",
    "ax.plot(x, [np.log(ror)] * len(x), color='C1', zorder=9)\n",
    "ax.fill_between(x, np.log(ce_from), np.log(ce_to), color='C1', alpha=0.2)\n",
    "ax.text(max(x), np.log(ror), 'Overall', ha='left', va='center', fontsize='x-large')\n",
    "None"
   ]
  },
  {
   "cell_type": "code",
   "execution_count": 159,
   "metadata": {
    "ExecuteTime": {
     "end_time": "2018-06-02T14:15:18.963647Z",
     "start_time": "2018-06-02T14:15:18.958844Z"
    }
   },
   "outputs": [
    {
     "data": {
      "text/plain": [
       "'ROR'"
      ]
     },
     "execution_count": 159,
     "metadata": {},
     "output_type": "execute_result"
    }
   ],
   "source": [
    "ror"
   ]
  },
  {
   "cell_type": "code",
   "execution_count": null,
   "metadata": {},
   "outputs": [],
   "source": []
  },
  {
   "cell_type": "code",
   "execution_count": null,
   "metadata": {},
   "outputs": [],
   "source": []
  },
  {
   "cell_type": "code",
   "execution_count": 119,
   "metadata": {
    "ExecuteTime": {
     "end_time": "2018-06-02T13:58:27.868955Z",
     "start_time": "2018-06-02T13:58:27.856481Z"
    }
   },
   "outputs": [],
   "source": [
    "gr = res.groupby('q')\n",
    "gr.apply?"
   ]
  },
  {
   "cell_type": "code",
   "execution_count": null,
   "metadata": {},
   "outputs": [],
   "source": [
    "res.groupby('q').apply"
   ]
  },
  {
   "cell_type": "code",
   "execution_count": null,
   "metadata": {},
   "outputs": [],
   "source": []
  },
  {
   "cell_type": "code",
   "execution_count": null,
   "metadata": {},
   "outputs": [],
   "source": []
  },
  {
   "cell_type": "code",
   "execution_count": 107,
   "metadata": {
    "ExecuteTime": {
     "end_time": "2018-06-02T13:54:40.316429Z",
     "start_time": "2018-06-02T13:54:40.311799Z"
    }
   },
   "outputs": [
    {
     "data": {
      "text/plain": [
       "64"
      ]
     },
     "execution_count": 107,
     "metadata": {},
     "output_type": "execute_result"
    }
   ],
   "source": [
    "tables.groupby"
   ]
  },
  {
   "cell_type": "code",
   "execution_count": 108,
   "metadata": {
    "ExecuteTime": {
     "end_time": "2018-06-02T13:54:49.607794Z",
     "start_time": "2018-06-02T13:54:49.581180Z"
    }
   },
   "outputs": [
    {
     "data": {
      "text/html": [
       "<div>\n",
       "<style scoped>\n",
       "    .dataframe tbody tr th:only-of-type {\n",
       "        vertical-align: middle;\n",
       "    }\n",
       "\n",
       "    .dataframe tbody tr th {\n",
       "        vertical-align: top;\n",
       "    }\n",
       "\n",
       "    .dataframe thead th {\n",
       "        text-align: right;\n",
       "    }\n",
       "</style>\n",
       "<table border=\"1\" class=\"dataframe\">\n",
       "  <thead>\n",
       "    <tr style=\"text-align: right;\">\n",
       "      <th></th>\n",
       "      <th></th>\n",
       "      <th>is_drug</th>\n",
       "      <th>is_reaction</th>\n",
       "      <th>n</th>\n",
       "    </tr>\n",
       "    <tr>\n",
       "      <th>q</th>\n",
       "      <th></th>\n",
       "      <th></th>\n",
       "      <th></th>\n",
       "      <th></th>\n",
       "    </tr>\n",
       "  </thead>\n",
       "  <tbody>\n",
       "    <tr>\n",
       "      <th rowspan=\"2\" valign=\"top\">2013q1</th>\n",
       "      <th>0</th>\n",
       "      <td>False</td>\n",
       "      <td>False</td>\n",
       "      <td>215932</td>\n",
       "    </tr>\n",
       "    <tr>\n",
       "      <th>1</th>\n",
       "      <td>False</td>\n",
       "      <td>True</td>\n",
       "      <td>7246</td>\n",
       "    </tr>\n",
       "    <tr>\n",
       "      <th rowspan=\"2\" valign=\"top\">2013q2</th>\n",
       "      <th>0</th>\n",
       "      <td>False</td>\n",
       "      <td>False</td>\n",
       "      <td>164943</td>\n",
       "    </tr>\n",
       "    <tr>\n",
       "      <th>1</th>\n",
       "      <td>False</td>\n",
       "      <td>True</td>\n",
       "      <td>6404</td>\n",
       "    </tr>\n",
       "    <tr>\n",
       "      <th rowspan=\"3\" valign=\"top\">2013q3</th>\n",
       "      <th>0</th>\n",
       "      <td>False</td>\n",
       "      <td>False</td>\n",
       "      <td>178529</td>\n",
       "    </tr>\n",
       "    <tr>\n",
       "      <th>1</th>\n",
       "      <td>False</td>\n",
       "      <td>True</td>\n",
       "      <td>6994</td>\n",
       "    </tr>\n",
       "    <tr>\n",
       "      <th>2</th>\n",
       "      <td>True</td>\n",
       "      <td>False</td>\n",
       "      <td>2</td>\n",
       "    </tr>\n",
       "    <tr>\n",
       "      <th rowspan=\"3\" valign=\"top\">2013q4</th>\n",
       "      <th>0</th>\n",
       "      <td>False</td>\n",
       "      <td>False</td>\n",
       "      <td>226128</td>\n",
       "    </tr>\n",
       "    <tr>\n",
       "      <th>1</th>\n",
       "      <td>False</td>\n",
       "      <td>True</td>\n",
       "      <td>5920</td>\n",
       "    </tr>\n",
       "    <tr>\n",
       "      <th>2</th>\n",
       "      <td>True</td>\n",
       "      <td>False</td>\n",
       "      <td>28</td>\n",
       "    </tr>\n",
       "    <tr>\n",
       "      <th rowspan=\"3\" valign=\"top\">2014q1</th>\n",
       "      <th>0</th>\n",
       "      <td>False</td>\n",
       "      <td>False</td>\n",
       "      <td>250778</td>\n",
       "    </tr>\n",
       "    <tr>\n",
       "      <th>1</th>\n",
       "      <td>False</td>\n",
       "      <td>True</td>\n",
       "      <td>7423</td>\n",
       "    </tr>\n",
       "    <tr>\n",
       "      <th>2</th>\n",
       "      <td>True</td>\n",
       "      <td>False</td>\n",
       "      <td>37</td>\n",
       "    </tr>\n",
       "    <tr>\n",
       "      <th rowspan=\"3\" valign=\"top\">2014q2</th>\n",
       "      <th>0</th>\n",
       "      <td>False</td>\n",
       "      <td>False</td>\n",
       "      <td>195963</td>\n",
       "    </tr>\n",
       "    <tr>\n",
       "      <th>1</th>\n",
       "      <td>False</td>\n",
       "      <td>True</td>\n",
       "      <td>24739</td>\n",
       "    </tr>\n",
       "    <tr>\n",
       "      <th>2</th>\n",
       "      <td>True</td>\n",
       "      <td>False</td>\n",
       "      <td>74</td>\n",
       "    </tr>\n",
       "    <tr>\n",
       "      <th rowspan=\"4\" valign=\"top\">2014q3</th>\n",
       "      <th>0</th>\n",
       "      <td>False</td>\n",
       "      <td>False</td>\n",
       "      <td>194803</td>\n",
       "    </tr>\n",
       "    <tr>\n",
       "      <th>1</th>\n",
       "      <td>False</td>\n",
       "      <td>True</td>\n",
       "      <td>10483</td>\n",
       "    </tr>\n",
       "    <tr>\n",
       "      <th>2</th>\n",
       "      <td>True</td>\n",
       "      <td>False</td>\n",
       "      <td>290</td>\n",
       "    </tr>\n",
       "    <tr>\n",
       "      <th>3</th>\n",
       "      <td>True</td>\n",
       "      <td>True</td>\n",
       "      <td>1</td>\n",
       "    </tr>\n",
       "    <tr>\n",
       "      <th rowspan=\"4\" valign=\"top\">2014q4</th>\n",
       "      <th>0</th>\n",
       "      <td>False</td>\n",
       "      <td>False</td>\n",
       "      <td>191615</td>\n",
       "    </tr>\n",
       "    <tr>\n",
       "      <th>1</th>\n",
       "      <td>False</td>\n",
       "      <td>True</td>\n",
       "      <td>8473</td>\n",
       "    </tr>\n",
       "    <tr>\n",
       "      <th>2</th>\n",
       "      <td>True</td>\n",
       "      <td>False</td>\n",
       "      <td>564</td>\n",
       "    </tr>\n",
       "    <tr>\n",
       "      <th>3</th>\n",
       "      <td>True</td>\n",
       "      <td>True</td>\n",
       "      <td>2</td>\n",
       "    </tr>\n",
       "    <tr>\n",
       "      <th rowspan=\"4\" valign=\"top\">2015q1</th>\n",
       "      <th>0</th>\n",
       "      <td>False</td>\n",
       "      <td>False</td>\n",
       "      <td>270111</td>\n",
       "    </tr>\n",
       "    <tr>\n",
       "      <th>1</th>\n",
       "      <td>False</td>\n",
       "      <td>True</td>\n",
       "      <td>15869</td>\n",
       "    </tr>\n",
       "    <tr>\n",
       "      <th>2</th>\n",
       "      <td>True</td>\n",
       "      <td>False</td>\n",
       "      <td>308</td>\n",
       "    </tr>\n",
       "    <tr>\n",
       "      <th>3</th>\n",
       "      <td>True</td>\n",
       "      <td>True</td>\n",
       "      <td>3</td>\n",
       "    </tr>\n",
       "    <tr>\n",
       "      <th rowspan=\"2\" valign=\"top\">2015q2</th>\n",
       "      <th>0</th>\n",
       "      <td>False</td>\n",
       "      <td>False</td>\n",
       "      <td>271347</td>\n",
       "    </tr>\n",
       "    <tr>\n",
       "      <th>1</th>\n",
       "      <td>False</td>\n",
       "      <td>True</td>\n",
       "      <td>6610</td>\n",
       "    </tr>\n",
       "    <tr>\n",
       "      <th>...</th>\n",
       "      <th>...</th>\n",
       "      <td>...</td>\n",
       "      <td>...</td>\n",
       "      <td>...</td>\n",
       "    </tr>\n",
       "    <tr>\n",
       "      <th rowspan=\"2\" valign=\"top\">2015q3</th>\n",
       "      <th>2</th>\n",
       "      <td>True</td>\n",
       "      <td>False</td>\n",
       "      <td>319</td>\n",
       "    </tr>\n",
       "    <tr>\n",
       "      <th>3</th>\n",
       "      <td>True</td>\n",
       "      <td>True</td>\n",
       "      <td>2</td>\n",
       "    </tr>\n",
       "    <tr>\n",
       "      <th rowspan=\"4\" valign=\"top\">2015q4</th>\n",
       "      <th>0</th>\n",
       "      <td>False</td>\n",
       "      <td>False</td>\n",
       "      <td>288329</td>\n",
       "    </tr>\n",
       "    <tr>\n",
       "      <th>1</th>\n",
       "      <td>False</td>\n",
       "      <td>True</td>\n",
       "      <td>6441</td>\n",
       "    </tr>\n",
       "    <tr>\n",
       "      <th>2</th>\n",
       "      <td>True</td>\n",
       "      <td>False</td>\n",
       "      <td>98</td>\n",
       "    </tr>\n",
       "    <tr>\n",
       "      <th>3</th>\n",
       "      <td>True</td>\n",
       "      <td>True</td>\n",
       "      <td>4</td>\n",
       "    </tr>\n",
       "    <tr>\n",
       "      <th rowspan=\"4\" valign=\"top\">2016q1</th>\n",
       "      <th>0</th>\n",
       "      <td>False</td>\n",
       "      <td>False</td>\n",
       "      <td>336721</td>\n",
       "    </tr>\n",
       "    <tr>\n",
       "      <th>1</th>\n",
       "      <td>False</td>\n",
       "      <td>True</td>\n",
       "      <td>7496</td>\n",
       "    </tr>\n",
       "    <tr>\n",
       "      <th>2</th>\n",
       "      <td>True</td>\n",
       "      <td>False</td>\n",
       "      <td>112</td>\n",
       "    </tr>\n",
       "    <tr>\n",
       "      <th>3</th>\n",
       "      <td>True</td>\n",
       "      <td>True</td>\n",
       "      <td>3</td>\n",
       "    </tr>\n",
       "    <tr>\n",
       "      <th rowspan=\"4\" valign=\"top\">2016q2</th>\n",
       "      <th>0</th>\n",
       "      <td>False</td>\n",
       "      <td>False</td>\n",
       "      <td>286342</td>\n",
       "    </tr>\n",
       "    <tr>\n",
       "      <th>1</th>\n",
       "      <td>False</td>\n",
       "      <td>True</td>\n",
       "      <td>6660</td>\n",
       "    </tr>\n",
       "    <tr>\n",
       "      <th>2</th>\n",
       "      <td>True</td>\n",
       "      <td>False</td>\n",
       "      <td>81</td>\n",
       "    </tr>\n",
       "    <tr>\n",
       "      <th>3</th>\n",
       "      <td>True</td>\n",
       "      <td>True</td>\n",
       "      <td>4</td>\n",
       "    </tr>\n",
       "    <tr>\n",
       "      <th rowspan=\"4\" valign=\"top\">2016q3</th>\n",
       "      <th>0</th>\n",
       "      <td>False</td>\n",
       "      <td>False</td>\n",
       "      <td>274951</td>\n",
       "    </tr>\n",
       "    <tr>\n",
       "      <th>1</th>\n",
       "      <td>False</td>\n",
       "      <td>True</td>\n",
       "      <td>6125</td>\n",
       "    </tr>\n",
       "    <tr>\n",
       "      <th>2</th>\n",
       "      <td>True</td>\n",
       "      <td>False</td>\n",
       "      <td>67</td>\n",
       "    </tr>\n",
       "    <tr>\n",
       "      <th>3</th>\n",
       "      <td>True</td>\n",
       "      <td>True</td>\n",
       "      <td>1</td>\n",
       "    </tr>\n",
       "    <tr>\n",
       "      <th rowspan=\"4\" valign=\"top\">2016q4</th>\n",
       "      <th>0</th>\n",
       "      <td>False</td>\n",
       "      <td>False</td>\n",
       "      <td>269058</td>\n",
       "    </tr>\n",
       "    <tr>\n",
       "      <th>1</th>\n",
       "      <td>False</td>\n",
       "      <td>True</td>\n",
       "      <td>5859</td>\n",
       "    </tr>\n",
       "    <tr>\n",
       "      <th>2</th>\n",
       "      <td>True</td>\n",
       "      <td>False</td>\n",
       "      <td>58</td>\n",
       "    </tr>\n",
       "    <tr>\n",
       "      <th>3</th>\n",
       "      <td>True</td>\n",
       "      <td>True</td>\n",
       "      <td>5</td>\n",
       "    </tr>\n",
       "    <tr>\n",
       "      <th rowspan=\"4\" valign=\"top\">2017q1</th>\n",
       "      <th>0</th>\n",
       "      <td>False</td>\n",
       "      <td>False</td>\n",
       "      <td>310223</td>\n",
       "    </tr>\n",
       "    <tr>\n",
       "      <th>1</th>\n",
       "      <td>False</td>\n",
       "      <td>True</td>\n",
       "      <td>6949</td>\n",
       "    </tr>\n",
       "    <tr>\n",
       "      <th>2</th>\n",
       "      <td>True</td>\n",
       "      <td>False</td>\n",
       "      <td>44</td>\n",
       "    </tr>\n",
       "    <tr>\n",
       "      <th>3</th>\n",
       "      <td>True</td>\n",
       "      <td>True</td>\n",
       "      <td>2</td>\n",
       "    </tr>\n",
       "    <tr>\n",
       "      <th rowspan=\"4\" valign=\"top\">2017q2</th>\n",
       "      <th>0</th>\n",
       "      <td>False</td>\n",
       "      <td>False</td>\n",
       "      <td>292116</td>\n",
       "    </tr>\n",
       "    <tr>\n",
       "      <th>1</th>\n",
       "      <td>False</td>\n",
       "      <td>True</td>\n",
       "      <td>5988</td>\n",
       "    </tr>\n",
       "    <tr>\n",
       "      <th>2</th>\n",
       "      <td>True</td>\n",
       "      <td>False</td>\n",
       "      <td>38</td>\n",
       "    </tr>\n",
       "    <tr>\n",
       "      <th>3</th>\n",
       "      <td>True</td>\n",
       "      <td>True</td>\n",
       "      <td>4</td>\n",
       "    </tr>\n",
       "  </tbody>\n",
       "</table>\n",
       "<p>64 rows × 3 columns</p>\n",
       "</div>"
      ],
      "text/plain": [
       "          is_drug  is_reaction       n\n",
       "q                                     \n",
       "2013q1 0    False        False  215932\n",
       "       1    False         True    7246\n",
       "2013q2 0    False        False  164943\n",
       "       1    False         True    6404\n",
       "2013q3 0    False        False  178529\n",
       "       1    False         True    6994\n",
       "       2     True        False       2\n",
       "2013q4 0    False        False  226128\n",
       "       1    False         True    5920\n",
       "       2     True        False      28\n",
       "2014q1 0    False        False  250778\n",
       "       1    False         True    7423\n",
       "       2     True        False      37\n",
       "2014q2 0    False        False  195963\n",
       "       1    False         True   24739\n",
       "       2     True        False      74\n",
       "2014q3 0    False        False  194803\n",
       "       1    False         True   10483\n",
       "       2     True        False     290\n",
       "       3     True         True       1\n",
       "2014q4 0    False        False  191615\n",
       "       1    False         True    8473\n",
       "       2     True        False     564\n",
       "       3     True         True       2\n",
       "2015q1 0    False        False  270111\n",
       "       1    False         True   15869\n",
       "       2     True        False     308\n",
       "       3     True         True       3\n",
       "2015q2 0    False        False  271347\n",
       "       1    False         True    6610\n",
       "...           ...          ...     ...\n",
       "2015q3 2     True        False     319\n",
       "       3     True         True       2\n",
       "2015q4 0    False        False  288329\n",
       "       1    False         True    6441\n",
       "       2     True        False      98\n",
       "       3     True         True       4\n",
       "2016q1 0    False        False  336721\n",
       "       1    False         True    7496\n",
       "       2     True        False     112\n",
       "       3     True         True       3\n",
       "2016q2 0    False        False  286342\n",
       "       1    False         True    6660\n",
       "       2     True        False      81\n",
       "       3     True         True       4\n",
       "2016q3 0    False        False  274951\n",
       "       1    False         True    6125\n",
       "       2     True        False      67\n",
       "       3     True         True       1\n",
       "2016q4 0    False        False  269058\n",
       "       1    False         True    5859\n",
       "       2     True        False      58\n",
       "       3     True         True       5\n",
       "2017q1 0    False        False  310223\n",
       "       1    False         True    6949\n",
       "       2     True        False      44\n",
       "       3     True         True       2\n",
       "2017q2 0    False        False  292116\n",
       "       1    False         True    5988\n",
       "       2     True        False      38\n",
       "       3     True         True       4\n",
       "\n",
       "[64 rows x 3 columns]"
      ]
     },
     "execution_count": 108,
     "metadata": {},
     "output_type": "execute_result"
    }
   ],
   "source": [
    "tables"
   ]
  },
  {
   "cell_type": "code",
   "execution_count": null,
   "metadata": {},
   "outputs": [],
   "source": []
  },
  {
   "cell_type": "code",
   "execution_count": null,
   "metadata": {},
   "outputs": [],
   "source": []
  },
  {
   "cell_type": "code",
   "execution_count": 49,
   "metadata": {
    "ExecuteTime": {
     "end_time": "2018-06-02T13:23:24.649454Z",
     "start_time": "2018-06-02T13:23:24.643880Z"
    }
   },
   "outputs": [
    {
     "data": {
      "text/plain": [
       "-0.8209805520698302"
      ]
     },
     "execution_count": 49,
     "metadata": {},
     "output_type": "execute_result"
    }
   ],
   "source": [
    "lror = np.log(0.44)\n",
    "lror"
   ]
  },
  {
   "cell_type": "code",
   "execution_count": 52,
   "metadata": {
    "ExecuteTime": {
     "end_time": "2018-06-02T13:23:50.003136Z",
     "start_time": "2018-06-02T13:23:49.999555Z"
    }
   },
   "outputs": [],
   "source": [
    "se = np.sqrt(np.sum(1 / contingecy_table.ravel()))"
   ]
  },
  {
   "cell_type": "code",
   "execution_count": 55,
   "metadata": {
    "ExecuteTime": {
     "end_time": "2018-06-02T13:24:31.459990Z",
     "start_time": "2018-06-02T13:24:31.333894Z"
    }
   },
   "outputs": [
    {
     "name": "stdout",
     "output_type": "stream",
     "text": [
      "0.44 1.3962116685617199\n"
     ]
    }
   ],
   "source": [
    "print(np.exp(lror), np.exp(1.96 * se))"
   ]
  },
  {
   "cell_type": "code",
   "execution_count": 167,
   "metadata": {
    "ExecuteTime": {
     "end_time": "2018-06-10T14:09:27.331971Z",
     "start_time": "2018-06-10T14:09:27.308134Z"
    }
   },
   "outputs": [],
   "source": []
  },
  {
   "cell_type": "code",
   "execution_count": 211,
   "metadata": {
    "ExecuteTime": {
     "end_time": "2018-06-10T14:33:28.801892Z",
     "start_time": "2018-06-10T14:33:28.645160Z"
    }
   },
   "outputs": [
    {
     "data": {
      "text/plain": [
       "(337695, 4)"
      ]
     },
     "execution_count": 211,
     "metadata": {},
     "output_type": "execute_result"
    }
   ],
   "source": [
    "tbl_incidence = pd.read_csv('/Users/boris/devel/faers/data/interim/incidence/contingency_belviq.csv')\n",
    "tbl_incidence.shape"
   ]
  },
  {
   "cell_type": "code",
   "execution_count": 212,
   "metadata": {
    "ExecuteTime": {
     "end_time": "2018-06-10T14:33:29.858942Z",
     "start_time": "2018-06-10T14:33:29.850538Z"
    }
   },
   "outputs": [
    {
     "data": {
      "text/plain": [
       "7384"
      ]
     },
     "execution_count": 212,
     "metadata": {},
     "output_type": "execute_result"
    }
   ],
   "source": [
    "tbl_incidence.outcome.sum()"
   ]
  },
  {
   "cell_type": "code",
   "execution_count": 213,
   "metadata": {
    "ExecuteTime": {
     "end_time": "2018-06-10T14:33:31.441972Z",
     "start_time": "2018-06-10T14:33:31.430503Z"
    }
   },
   "outputs": [
    {
     "data": {
      "text/plain": [
       "58"
      ]
     },
     "execution_count": 213,
     "metadata": {},
     "output_type": "execute_result"
    }
   ],
   "source": [
    "tbl_incidence.exposure.sum()"
   ]
  },
  {
   "cell_type": "code",
   "execution_count": 216,
   "metadata": {
    "ExecuteTime": {
     "end_time": "2018-06-10T14:51:56.752850Z",
     "start_time": "2018-06-10T14:51:56.589742Z"
    }
   },
   "outputs": [
    {
     "name": "stderr",
     "output_type": "stream",
     "text": [
      "100%|██████████| 1/1 [00:00<00:00, 15.92it/s]\n"
     ]
    }
   ],
   "source": [
    "%run -i ../src/utils.py\n",
    "gr = tbl_incidence.groupby('q')\n",
    "matrices = []\n",
    "for q, tbl in tqdm.tqdm(sorted(gr)):\n",
    "    curr = ContingencyMatrix.from_results_table(tbl)\n",
    "    curr.tbl['q'] = q\n",
    "    if len(matrices):\n",
    "        curr += matrices[-1]\n",
    "    matrices.append(curr)"
   ]
  },
  {
   "cell_type": "code",
   "execution_count": 232,
   "metadata": {
    "ExecuteTime": {
     "end_time": "2018-06-10T14:59:37.064130Z",
     "start_time": "2018-06-10T14:59:37.042601Z"
    }
   },
   "outputs": [],
   "source": [
    "%run -i ../src/utils.py\n",
    "contingency_matrices = pd.read_csv('/Users/boris/devel/faers/data/interim/contingency/contingency_belviq.csv')\n",
    "gr = contingency_matrices.groupby('q')\n",
    "for q, t in gr:\n",
    "    t = ContingencyMatrix(t)\n",
    "    break"
   ]
  },
  {
   "cell_type": "code",
   "execution_count": 233,
   "metadata": {
    "ExecuteTime": {
     "end_time": "2018-06-10T14:59:37.226533Z",
     "start_time": "2018-06-10T14:59:37.211387Z"
    }
   },
   "outputs": [
    {
     "data": {
      "text/plain": [
       "(4.278376365441907, (4.1647288190949325, 4.395125137667375))"
      ]
     },
     "execution_count": 233,
     "metadata": {},
     "output_type": "execute_result"
    }
   ],
   "source": [
    "t.ror(alpha=0.05)"
   ]
  },
  {
   "cell_type": "code",
   "execution_count": null,
   "metadata": {},
   "outputs": [],
   "source": []
  },
  {
   "cell_type": "code",
   "execution_count": null,
   "metadata": {},
   "outputs": [],
   "source": []
  },
  {
   "cell_type": "code",
   "execution_count": null,
   "metadata": {},
   "outputs": [],
   "source": []
  },
  {
   "cell_type": "code",
   "execution_count": null,
   "metadata": {},
   "outputs": [],
   "source": []
  },
  {
   "cell_type": "code",
   "execution_count": null,
   "metadata": {},
   "outputs": [],
   "source": []
  },
  {
   "cell_type": "code",
   "execution_count": null,
   "metadata": {},
   "outputs": [],
   "source": []
  },
  {
   "cell_type": "code",
   "execution_count": 217,
   "metadata": {
    "ExecuteTime": {
     "end_time": "2018-06-10T14:52:04.975283Z",
     "start_time": "2018-06-10T14:52:04.957658Z"
    }
   },
   "outputs": [
    {
     "data": {
      "text/plain": [
       "[Contingency matrix\n",
       "                        n       q\n",
       " exposure outcome                \n",
       " False    False    330259  2017q2\n",
       "          True       7378  2017q2\n",
       " True     False        52  2017q2\n",
       "          True          6  2017q2]"
      ]
     },
     "execution_count": 217,
     "metadata": {},
     "output_type": "execute_result"
    }
   ],
   "source": [
    "matrices"
   ]
  },
  {
   "cell_type": "code",
   "execution_count": null,
   "metadata": {},
   "outputs": [],
   "source": []
  },
  {
   "cell_type": "code",
   "execution_count": 215,
   "metadata": {
    "ExecuteTime": {
     "end_time": "2018-06-10T14:33:38.271302Z",
     "start_time": "2018-06-10T14:33:38.252980Z"
    }
   },
   "outputs": [
    {
     "data": {
      "text/html": [
       "<div>\n",
       "<style scoped>\n",
       "    .dataframe tbody tr th:only-of-type {\n",
       "        vertical-align: middle;\n",
       "    }\n",
       "\n",
       "    .dataframe tbody tr th {\n",
       "        vertical-align: top;\n",
       "    }\n",
       "\n",
       "    .dataframe thead th {\n",
       "        text-align: right;\n",
       "    }\n",
       "</style>\n",
       "<table border=\"1\" class=\"dataframe\">\n",
       "  <thead>\n",
       "    <tr style=\"text-align: right;\">\n",
       "      <th></th>\n",
       "      <th>exposure</th>\n",
       "      <th>outcome</th>\n",
       "      <th>n</th>\n",
       "    </tr>\n",
       "    <tr>\n",
       "      <th>q</th>\n",
       "      <th></th>\n",
       "      <th></th>\n",
       "      <th></th>\n",
       "    </tr>\n",
       "  </thead>\n",
       "  <tbody>\n",
       "    <tr>\n",
       "      <th>2017q2</th>\n",
       "      <td>False</td>\n",
       "      <td>False</td>\n",
       "      <td>330259</td>\n",
       "    </tr>\n",
       "    <tr>\n",
       "      <th>2017q2</th>\n",
       "      <td>False</td>\n",
       "      <td>True</td>\n",
       "      <td>7378</td>\n",
       "    </tr>\n",
       "    <tr>\n",
       "      <th>2017q2</th>\n",
       "      <td>True</td>\n",
       "      <td>False</td>\n",
       "      <td>52</td>\n",
       "    </tr>\n",
       "    <tr>\n",
       "      <th>2017q2</th>\n",
       "      <td>True</td>\n",
       "      <td>True</td>\n",
       "      <td>6</td>\n",
       "    </tr>\n",
       "  </tbody>\n",
       "</table>\n",
       "</div>"
      ],
      "text/plain": [
       "        exposure  outcome       n\n",
       "q                                \n",
       "2017q2     False    False  330259\n",
       "2017q2     False     True    7378\n",
       "2017q2      True    False      52\n",
       "2017q2      True     True       6"
      ]
     },
     "execution_count": 215,
     "metadata": {},
     "output_type": "execute_result"
    }
   ],
   "source": [
    "pd.concat([m.tbl for m in matrices]).reset_index().set_index('q').sort_index()"
   ]
  },
  {
   "cell_type": "code",
   "execution_count": null,
   "metadata": {},
   "outputs": [],
   "source": []
  },
  {
   "cell_type": "code",
   "execution_count": null,
   "metadata": {},
   "outputs": [],
   "source": []
  },
  {
   "cell_type": "code",
   "execution_count": 202,
   "metadata": {
    "ExecuteTime": {
     "end_time": "2018-06-10T14:20:41.670285Z",
     "start_time": "2018-06-10T14:20:41.662445Z"
    }
   },
   "outputs": [
    {
     "data": {
      "text/plain": [
       "('2013q1', Contingency matrix\n",
       "                        n       q\n",
       " exposure outcome                \n",
       " False    False    223178  2013q1\n",
       "          True          0  2013q1\n",
       " True     False         0  2013q1\n",
       "          True          0  2013q1)"
      ]
     },
     "execution_count": 202,
     "metadata": {},
     "output_type": "execute_result"
    }
   ],
   "source": [
    "matrices[0]"
   ]
  },
  {
   "cell_type": "code",
   "execution_count": null,
   "metadata": {},
   "outputs": [],
   "source": []
  },
  {
   "cell_type": "code",
   "execution_count": null,
   "metadata": {},
   "outputs": [],
   "source": []
  },
  {
   "cell_type": "code",
   "execution_count": 194,
   "metadata": {
    "ExecuteTime": {
     "end_time": "2018-06-10T14:19:01.606321Z",
     "start_time": "2018-06-10T14:19:01.598789Z"
    }
   },
   "outputs": [
    {
     "data": {
      "text/plain": [
       "Contingency matrix\n",
       "                       n\n",
       "exposure outcome        \n",
       "False    False    394525\n",
       "         True          0\n",
       "True     False         0\n",
       "         True          0"
      ]
     },
     "execution_count": 194,
     "metadata": {},
     "output_type": "execute_result"
    }
   ],
   "source": [
    "z = matrices[-1][1] \n",
    "z"
   ]
  },
  {
   "cell_type": "code",
   "execution_count": 195,
   "metadata": {
    "ExecuteTime": {
     "end_time": "2018-06-10T14:19:02.762160Z",
     "start_time": "2018-06-10T14:19:02.754819Z"
    }
   },
   "outputs": [
    {
     "data": {
      "text/plain": [
       "Contingency matrix\n",
       "                       n\n",
       "exposure outcome        \n",
       "False    False    171347\n",
       "         True          0\n",
       "True     False         0\n",
       "         True          0"
      ]
     },
     "execution_count": 195,
     "metadata": {},
     "output_type": "execute_result"
    }
   ],
   "source": [
    "curr"
   ]
  },
  {
   "cell_type": "code",
   "execution_count": 196,
   "metadata": {
    "ExecuteTime": {
     "end_time": "2018-06-10T14:19:10.895624Z",
     "start_time": "2018-06-10T14:19:10.887676Z"
    }
   },
   "outputs": [
    {
     "data": {
      "text/plain": [
       "Contingency matrix\n",
       "                       n\n",
       "exposure outcome        \n",
       "False    False    565872\n",
       "         True          0\n",
       "True     False         0\n",
       "         True          0"
      ]
     },
     "execution_count": 196,
     "metadata": {},
     "output_type": "execute_result"
    }
   ],
   "source": [
    "z + curr"
   ]
  },
  {
   "cell_type": "code",
   "execution_count": null,
   "metadata": {},
   "outputs": [],
   "source": []
  },
  {
   "cell_type": "code",
   "execution_count": null,
   "metadata": {},
   "outputs": [],
   "source": []
  },
  {
   "cell_type": "code",
   "execution_count": null,
   "metadata": {},
   "outputs": [],
   "source": [
    "\n"
   ]
  },
  {
   "cell_type": "code",
   "execution_count": 178,
   "metadata": {
    "ExecuteTime": {
     "end_time": "2018-06-10T14:16:44.573881Z",
     "start_time": "2018-06-10T14:16:44.109415Z"
    }
   },
   "outputs": [
    {
     "name": "stdout",
     "output_type": "stream",
     "text": [
      "        caseid  exposure  outcome       q\n",
      "98692  4208366     False    False  2013q1\n",
      "98702  5957578     False    False  2013q1\n",
      "98727  6409598     False    False  2013q1\n",
      "98730  6432595     False    False  2013q1\n",
      "98731  6477605     False    False  2013q1\n"
     ]
    },
    {
     "data": {
      "text/plain": [
       "Contingency matrix\n",
       "                       n\n",
       "exposure outcome        \n",
       "False    False    223178\n",
       "         True          0\n",
       "True     False         0\n",
       "         True          0"
      ]
     },
     "execution_count": 178,
     "metadata": {},
     "output_type": "execute_result"
    }
   ],
   "source": [
    "\n",
    "gr = tbl_incidence.groupby('q')\n",
    "for q, t in gr:\n",
    "    break\n",
    "print(t.head())\n",
    "ContingencyMatrix.from_results_table(t)"
   ]
  },
  {
   "cell_type": "code",
   "execution_count": 170,
   "metadata": {
    "ExecuteTime": {
     "end_time": "2018-06-10T14:10:37.168576Z",
     "start_time": "2018-06-10T14:10:37.063125Z"
    }
   },
   "outputs": [
    {
     "data": {
      "text/html": [
       "<div>\n",
       "<style scoped>\n",
       "    .dataframe tbody tr th:only-of-type {\n",
       "        vertical-align: middle;\n",
       "    }\n",
       "\n",
       "    .dataframe tbody tr th {\n",
       "        vertical-align: top;\n",
       "    }\n",
       "\n",
       "    .dataframe thead th {\n",
       "        text-align: right;\n",
       "    }\n",
       "</style>\n",
       "<table border=\"1\" class=\"dataframe\">\n",
       "  <thead>\n",
       "    <tr style=\"text-align: right;\">\n",
       "      <th></th>\n",
       "      <th>primaryid_x</th>\n",
       "      <th>caseid</th>\n",
       "      <th>drugname</th>\n",
       "      <th>primaryid_y</th>\n",
       "      <th>pt</th>\n",
       "      <th>q</th>\n",
       "      <th>config_drug</th>\n",
       "      <th>config_reaction</th>\n",
       "    </tr>\n",
       "    <tr>\n",
       "      <th>caseid</th>\n",
       "      <th></th>\n",
       "      <th></th>\n",
       "      <th></th>\n",
       "      <th></th>\n",
       "      <th></th>\n",
       "      <th></th>\n",
       "      <th></th>\n",
       "      <th></th>\n",
       "    </tr>\n",
       "  </thead>\n",
       "  <tbody>\n",
       "    <tr>\n",
       "      <th>3037529</th>\n",
       "      <td>30375293</td>\n",
       "      <td>3037529</td>\n",
       "      <td>AVONEX</td>\n",
       "      <td>30375293</td>\n",
       "      <td>AMENORRHOEA</td>\n",
       "      <td>2013q1</td>\n",
       "      <td>(LORCASERIN, BELVIQ XR, AVONEX, BELVIQ)</td>\n",
       "      <td>(MITRAL VALVE INCOMPETENCE, AORTIC VALVE REPLA...</td>\n",
       "    </tr>\n",
       "    <tr>\n",
       "      <th>3037529</th>\n",
       "      <td>30375293</td>\n",
       "      <td>3037529</td>\n",
       "      <td>AVONEX</td>\n",
       "      <td>30375293</td>\n",
       "      <td>ASTHENIA</td>\n",
       "      <td>2013q1</td>\n",
       "      <td>(LORCASERIN, BELVIQ XR, AVONEX, BELVIQ)</td>\n",
       "      <td>(MITRAL VALVE INCOMPETENCE, AORTIC VALVE REPLA...</td>\n",
       "    </tr>\n",
       "    <tr>\n",
       "      <th>3037529</th>\n",
       "      <td>30375293</td>\n",
       "      <td>3037529</td>\n",
       "      <td>AVONEX</td>\n",
       "      <td>30375293</td>\n",
       "      <td>BLADDER DISORDER</td>\n",
       "      <td>2013q1</td>\n",
       "      <td>(LORCASERIN, BELVIQ XR, AVONEX, BELVIQ)</td>\n",
       "      <td>(MITRAL VALVE INCOMPETENCE, AORTIC VALVE REPLA...</td>\n",
       "    </tr>\n",
       "    <tr>\n",
       "      <th>3037529</th>\n",
       "      <td>30375293</td>\n",
       "      <td>3037529</td>\n",
       "      <td>AVONEX</td>\n",
       "      <td>30375293</td>\n",
       "      <td>BLOOD PRESSURE INCREASED</td>\n",
       "      <td>2013q1</td>\n",
       "      <td>(LORCASERIN, BELVIQ XR, AVONEX, BELVIQ)</td>\n",
       "      <td>(MITRAL VALVE INCOMPETENCE, AORTIC VALVE REPLA...</td>\n",
       "    </tr>\n",
       "    <tr>\n",
       "      <th>3037529</th>\n",
       "      <td>30375293</td>\n",
       "      <td>3037529</td>\n",
       "      <td>AVONEX</td>\n",
       "      <td>30375293</td>\n",
       "      <td>DEHYDRATION</td>\n",
       "      <td>2013q1</td>\n",
       "      <td>(LORCASERIN, BELVIQ XR, AVONEX, BELVIQ)</td>\n",
       "      <td>(MITRAL VALVE INCOMPETENCE, AORTIC VALVE REPLA...</td>\n",
       "    </tr>\n",
       "    <tr>\n",
       "      <th>3037529</th>\n",
       "      <td>30375293</td>\n",
       "      <td>3037529</td>\n",
       "      <td>AVONEX</td>\n",
       "      <td>30375293</td>\n",
       "      <td>DEPRESSION</td>\n",
       "      <td>2013q1</td>\n",
       "      <td>(LORCASERIN, BELVIQ XR, AVONEX, BELVIQ)</td>\n",
       "      <td>(MITRAL VALVE INCOMPETENCE, AORTIC VALVE REPLA...</td>\n",
       "    </tr>\n",
       "    <tr>\n",
       "      <th>3037529</th>\n",
       "      <td>30375293</td>\n",
       "      <td>3037529</td>\n",
       "      <td>AVONEX</td>\n",
       "      <td>30375293</td>\n",
       "      <td>DRY MOUTH</td>\n",
       "      <td>2013q1</td>\n",
       "      <td>(LORCASERIN, BELVIQ XR, AVONEX, BELVIQ)</td>\n",
       "      <td>(MITRAL VALVE INCOMPETENCE, AORTIC VALVE REPLA...</td>\n",
       "    </tr>\n",
       "    <tr>\n",
       "      <th>3037529</th>\n",
       "      <td>30375293</td>\n",
       "      <td>3037529</td>\n",
       "      <td>AVONEX</td>\n",
       "      <td>30375293</td>\n",
       "      <td>ESCHERICHIA SEPSIS</td>\n",
       "      <td>2013q1</td>\n",
       "      <td>(LORCASERIN, BELVIQ XR, AVONEX, BELVIQ)</td>\n",
       "      <td>(MITRAL VALVE INCOMPETENCE, AORTIC VALVE REPLA...</td>\n",
       "    </tr>\n",
       "    <tr>\n",
       "      <th>3037529</th>\n",
       "      <td>30375293</td>\n",
       "      <td>3037529</td>\n",
       "      <td>AVONEX</td>\n",
       "      <td>30375293</td>\n",
       "      <td>HEPATIC FAILURE</td>\n",
       "      <td>2013q1</td>\n",
       "      <td>(LORCASERIN, BELVIQ XR, AVONEX, BELVIQ)</td>\n",
       "      <td>(MITRAL VALVE INCOMPETENCE, AORTIC VALVE REPLA...</td>\n",
       "    </tr>\n",
       "    <tr>\n",
       "      <th>3037529</th>\n",
       "      <td>30375293</td>\n",
       "      <td>3037529</td>\n",
       "      <td>AVONEX</td>\n",
       "      <td>30375293</td>\n",
       "      <td>MULTIPLE SCLEROSIS RELAPSE</td>\n",
       "      <td>2013q1</td>\n",
       "      <td>(LORCASERIN, BELVIQ XR, AVONEX, BELVIQ)</td>\n",
       "      <td>(MITRAL VALVE INCOMPETENCE, AORTIC VALVE REPLA...</td>\n",
       "    </tr>\n",
       "    <tr>\n",
       "      <th>3037529</th>\n",
       "      <td>30375293</td>\n",
       "      <td>3037529</td>\n",
       "      <td>AVONEX</td>\n",
       "      <td>30375293</td>\n",
       "      <td>RENAL DISORDER</td>\n",
       "      <td>2013q1</td>\n",
       "      <td>(LORCASERIN, BELVIQ XR, AVONEX, BELVIQ)</td>\n",
       "      <td>(MITRAL VALVE INCOMPETENCE, AORTIC VALVE REPLA...</td>\n",
       "    </tr>\n",
       "    <tr>\n",
       "      <th>3037529</th>\n",
       "      <td>30375293</td>\n",
       "      <td>3037529</td>\n",
       "      <td>AVONEX</td>\n",
       "      <td>30375293</td>\n",
       "      <td>RENAL FAILURE</td>\n",
       "      <td>2013q1</td>\n",
       "      <td>(LORCASERIN, BELVIQ XR, AVONEX, BELVIQ)</td>\n",
       "      <td>(MITRAL VALVE INCOMPETENCE, AORTIC VALVE REPLA...</td>\n",
       "    </tr>\n",
       "    <tr>\n",
       "      <th>3037529</th>\n",
       "      <td>30375293</td>\n",
       "      <td>3037529</td>\n",
       "      <td>AVONEX</td>\n",
       "      <td>30375293</td>\n",
       "      <td>URINARY INCONTINENCE</td>\n",
       "      <td>2013q1</td>\n",
       "      <td>(LORCASERIN, BELVIQ XR, AVONEX, BELVIQ)</td>\n",
       "      <td>(MITRAL VALVE INCOMPETENCE, AORTIC VALVE REPLA...</td>\n",
       "    </tr>\n",
       "    <tr>\n",
       "      <th>3037529</th>\n",
       "      <td>30375293</td>\n",
       "      <td>3037529</td>\n",
       "      <td>AVONEX</td>\n",
       "      <td>30375293</td>\n",
       "      <td>URINARY RETENTION</td>\n",
       "      <td>2013q1</td>\n",
       "      <td>(LORCASERIN, BELVIQ XR, AVONEX, BELVIQ)</td>\n",
       "      <td>(MITRAL VALVE INCOMPETENCE, AORTIC VALVE REPLA...</td>\n",
       "    </tr>\n",
       "    <tr>\n",
       "      <th>3037529</th>\n",
       "      <td>30375293</td>\n",
       "      <td>3037529</td>\n",
       "      <td>AVONEX</td>\n",
       "      <td>30375293</td>\n",
       "      <td>URINARY TRACT INFECTION</td>\n",
       "      <td>2013q1</td>\n",
       "      <td>(LORCASERIN, BELVIQ XR, AVONEX, BELVIQ)</td>\n",
       "      <td>(MITRAL VALVE INCOMPETENCE, AORTIC VALVE REPLA...</td>\n",
       "    </tr>\n",
       "    <tr>\n",
       "      <th>3037529</th>\n",
       "      <td>30375293</td>\n",
       "      <td>3037529</td>\n",
       "      <td>ZANAFLEX</td>\n",
       "      <td>30375293</td>\n",
       "      <td>AMENORRHOEA</td>\n",
       "      <td>2013q1</td>\n",
       "      <td>(LORCASERIN, BELVIQ XR, AVONEX, BELVIQ)</td>\n",
       "      <td>(MITRAL VALVE INCOMPETENCE, AORTIC VALVE REPLA...</td>\n",
       "    </tr>\n",
       "    <tr>\n",
       "      <th>3037529</th>\n",
       "      <td>30375293</td>\n",
       "      <td>3037529</td>\n",
       "      <td>ZANAFLEX</td>\n",
       "      <td>30375293</td>\n",
       "      <td>ASTHENIA</td>\n",
       "      <td>2013q1</td>\n",
       "      <td>(LORCASERIN, BELVIQ XR, AVONEX, BELVIQ)</td>\n",
       "      <td>(MITRAL VALVE INCOMPETENCE, AORTIC VALVE REPLA...</td>\n",
       "    </tr>\n",
       "    <tr>\n",
       "      <th>3037529</th>\n",
       "      <td>30375293</td>\n",
       "      <td>3037529</td>\n",
       "      <td>ZANAFLEX</td>\n",
       "      <td>30375293</td>\n",
       "      <td>BLADDER DISORDER</td>\n",
       "      <td>2013q1</td>\n",
       "      <td>(LORCASERIN, BELVIQ XR, AVONEX, BELVIQ)</td>\n",
       "      <td>(MITRAL VALVE INCOMPETENCE, AORTIC VALVE REPLA...</td>\n",
       "    </tr>\n",
       "    <tr>\n",
       "      <th>3037529</th>\n",
       "      <td>30375293</td>\n",
       "      <td>3037529</td>\n",
       "      <td>ZANAFLEX</td>\n",
       "      <td>30375293</td>\n",
       "      <td>BLOOD PRESSURE INCREASED</td>\n",
       "      <td>2013q1</td>\n",
       "      <td>(LORCASERIN, BELVIQ XR, AVONEX, BELVIQ)</td>\n",
       "      <td>(MITRAL VALVE INCOMPETENCE, AORTIC VALVE REPLA...</td>\n",
       "    </tr>\n",
       "    <tr>\n",
       "      <th>3037529</th>\n",
       "      <td>30375293</td>\n",
       "      <td>3037529</td>\n",
       "      <td>ZANAFLEX</td>\n",
       "      <td>30375293</td>\n",
       "      <td>DEHYDRATION</td>\n",
       "      <td>2013q1</td>\n",
       "      <td>(LORCASERIN, BELVIQ XR, AVONEX, BELVIQ)</td>\n",
       "      <td>(MITRAL VALVE INCOMPETENCE, AORTIC VALVE REPLA...</td>\n",
       "    </tr>\n",
       "    <tr>\n",
       "      <th>3037529</th>\n",
       "      <td>30375293</td>\n",
       "      <td>3037529</td>\n",
       "      <td>ZANAFLEX</td>\n",
       "      <td>30375293</td>\n",
       "      <td>DEPRESSION</td>\n",
       "      <td>2013q1</td>\n",
       "      <td>(LORCASERIN, BELVIQ XR, AVONEX, BELVIQ)</td>\n",
       "      <td>(MITRAL VALVE INCOMPETENCE, AORTIC VALVE REPLA...</td>\n",
       "    </tr>\n",
       "    <tr>\n",
       "      <th>3037529</th>\n",
       "      <td>30375293</td>\n",
       "      <td>3037529</td>\n",
       "      <td>ZANAFLEX</td>\n",
       "      <td>30375293</td>\n",
       "      <td>DRY MOUTH</td>\n",
       "      <td>2013q1</td>\n",
       "      <td>(LORCASERIN, BELVIQ XR, AVONEX, BELVIQ)</td>\n",
       "      <td>(MITRAL VALVE INCOMPETENCE, AORTIC VALVE REPLA...</td>\n",
       "    </tr>\n",
       "    <tr>\n",
       "      <th>3037529</th>\n",
       "      <td>30375293</td>\n",
       "      <td>3037529</td>\n",
       "      <td>ZANAFLEX</td>\n",
       "      <td>30375293</td>\n",
       "      <td>ESCHERICHIA SEPSIS</td>\n",
       "      <td>2013q1</td>\n",
       "      <td>(LORCASERIN, BELVIQ XR, AVONEX, BELVIQ)</td>\n",
       "      <td>(MITRAL VALVE INCOMPETENCE, AORTIC VALVE REPLA...</td>\n",
       "    </tr>\n",
       "    <tr>\n",
       "      <th>3037529</th>\n",
       "      <td>30375293</td>\n",
       "      <td>3037529</td>\n",
       "      <td>ZANAFLEX</td>\n",
       "      <td>30375293</td>\n",
       "      <td>HEPATIC FAILURE</td>\n",
       "      <td>2013q1</td>\n",
       "      <td>(LORCASERIN, BELVIQ XR, AVONEX, BELVIQ)</td>\n",
       "      <td>(MITRAL VALVE INCOMPETENCE, AORTIC VALVE REPLA...</td>\n",
       "    </tr>\n",
       "    <tr>\n",
       "      <th>3037529</th>\n",
       "      <td>30375293</td>\n",
       "      <td>3037529</td>\n",
       "      <td>ZANAFLEX</td>\n",
       "      <td>30375293</td>\n",
       "      <td>MULTIPLE SCLEROSIS RELAPSE</td>\n",
       "      <td>2013q1</td>\n",
       "      <td>(LORCASERIN, BELVIQ XR, AVONEX, BELVIQ)</td>\n",
       "      <td>(MITRAL VALVE INCOMPETENCE, AORTIC VALVE REPLA...</td>\n",
       "    </tr>\n",
       "    <tr>\n",
       "      <th>3037529</th>\n",
       "      <td>30375293</td>\n",
       "      <td>3037529</td>\n",
       "      <td>ZANAFLEX</td>\n",
       "      <td>30375293</td>\n",
       "      <td>RENAL DISORDER</td>\n",
       "      <td>2013q1</td>\n",
       "      <td>(LORCASERIN, BELVIQ XR, AVONEX, BELVIQ)</td>\n",
       "      <td>(MITRAL VALVE INCOMPETENCE, AORTIC VALVE REPLA...</td>\n",
       "    </tr>\n",
       "    <tr>\n",
       "      <th>3037529</th>\n",
       "      <td>30375293</td>\n",
       "      <td>3037529</td>\n",
       "      <td>ZANAFLEX</td>\n",
       "      <td>30375293</td>\n",
       "      <td>RENAL FAILURE</td>\n",
       "      <td>2013q1</td>\n",
       "      <td>(LORCASERIN, BELVIQ XR, AVONEX, BELVIQ)</td>\n",
       "      <td>(MITRAL VALVE INCOMPETENCE, AORTIC VALVE REPLA...</td>\n",
       "    </tr>\n",
       "    <tr>\n",
       "      <th>3037529</th>\n",
       "      <td>30375293</td>\n",
       "      <td>3037529</td>\n",
       "      <td>ZANAFLEX</td>\n",
       "      <td>30375293</td>\n",
       "      <td>URINARY INCONTINENCE</td>\n",
       "      <td>2013q1</td>\n",
       "      <td>(LORCASERIN, BELVIQ XR, AVONEX, BELVIQ)</td>\n",
       "      <td>(MITRAL VALVE INCOMPETENCE, AORTIC VALVE REPLA...</td>\n",
       "    </tr>\n",
       "    <tr>\n",
       "      <th>3037529</th>\n",
       "      <td>30375293</td>\n",
       "      <td>3037529</td>\n",
       "      <td>ZANAFLEX</td>\n",
       "      <td>30375293</td>\n",
       "      <td>URINARY RETENTION</td>\n",
       "      <td>2013q1</td>\n",
       "      <td>(LORCASERIN, BELVIQ XR, AVONEX, BELVIQ)</td>\n",
       "      <td>(MITRAL VALVE INCOMPETENCE, AORTIC VALVE REPLA...</td>\n",
       "    </tr>\n",
       "    <tr>\n",
       "      <th>3037529</th>\n",
       "      <td>30375293</td>\n",
       "      <td>3037529</td>\n",
       "      <td>ZANAFLEX</td>\n",
       "      <td>30375293</td>\n",
       "      <td>URINARY TRACT INFECTION</td>\n",
       "      <td>2013q1</td>\n",
       "      <td>(LORCASERIN, BELVIQ XR, AVONEX, BELVIQ)</td>\n",
       "      <td>(MITRAL VALVE INCOMPETENCE, AORTIC VALVE REPLA...</td>\n",
       "    </tr>\n",
       "    <tr>\n",
       "      <th>...</th>\n",
       "      <td>...</td>\n",
       "      <td>...</td>\n",
       "      <td>...</td>\n",
       "      <td>...</td>\n",
       "      <td>...</td>\n",
       "      <td>...</td>\n",
       "      <td>...</td>\n",
       "      <td>...</td>\n",
       "    </tr>\n",
       "    <tr>\n",
       "      <th>3037529</th>\n",
       "      <td>30375293</td>\n",
       "      <td>3037529</td>\n",
       "      <td>NAPRELAN</td>\n",
       "      <td>30375293</td>\n",
       "      <td>AMENORRHOEA</td>\n",
       "      <td>2013q1</td>\n",
       "      <td>(LORCASERIN, BELVIQ XR, AVONEX, BELVIQ)</td>\n",
       "      <td>(MITRAL VALVE INCOMPETENCE, AORTIC VALVE REPLA...</td>\n",
       "    </tr>\n",
       "    <tr>\n",
       "      <th>3037529</th>\n",
       "      <td>30375293</td>\n",
       "      <td>3037529</td>\n",
       "      <td>NAPRELAN</td>\n",
       "      <td>30375293</td>\n",
       "      <td>ASTHENIA</td>\n",
       "      <td>2013q1</td>\n",
       "      <td>(LORCASERIN, BELVIQ XR, AVONEX, BELVIQ)</td>\n",
       "      <td>(MITRAL VALVE INCOMPETENCE, AORTIC VALVE REPLA...</td>\n",
       "    </tr>\n",
       "    <tr>\n",
       "      <th>3037529</th>\n",
       "      <td>30375293</td>\n",
       "      <td>3037529</td>\n",
       "      <td>NAPRELAN</td>\n",
       "      <td>30375293</td>\n",
       "      <td>BLADDER DISORDER</td>\n",
       "      <td>2013q1</td>\n",
       "      <td>(LORCASERIN, BELVIQ XR, AVONEX, BELVIQ)</td>\n",
       "      <td>(MITRAL VALVE INCOMPETENCE, AORTIC VALVE REPLA...</td>\n",
       "    </tr>\n",
       "    <tr>\n",
       "      <th>3037529</th>\n",
       "      <td>30375293</td>\n",
       "      <td>3037529</td>\n",
       "      <td>NAPRELAN</td>\n",
       "      <td>30375293</td>\n",
       "      <td>BLOOD PRESSURE INCREASED</td>\n",
       "      <td>2013q1</td>\n",
       "      <td>(LORCASERIN, BELVIQ XR, AVONEX, BELVIQ)</td>\n",
       "      <td>(MITRAL VALVE INCOMPETENCE, AORTIC VALVE REPLA...</td>\n",
       "    </tr>\n",
       "    <tr>\n",
       "      <th>3037529</th>\n",
       "      <td>30375293</td>\n",
       "      <td>3037529</td>\n",
       "      <td>NAPRELAN</td>\n",
       "      <td>30375293</td>\n",
       "      <td>DEHYDRATION</td>\n",
       "      <td>2013q1</td>\n",
       "      <td>(LORCASERIN, BELVIQ XR, AVONEX, BELVIQ)</td>\n",
       "      <td>(MITRAL VALVE INCOMPETENCE, AORTIC VALVE REPLA...</td>\n",
       "    </tr>\n",
       "    <tr>\n",
       "      <th>3037529</th>\n",
       "      <td>30375293</td>\n",
       "      <td>3037529</td>\n",
       "      <td>NAPRELAN</td>\n",
       "      <td>30375293</td>\n",
       "      <td>DEPRESSION</td>\n",
       "      <td>2013q1</td>\n",
       "      <td>(LORCASERIN, BELVIQ XR, AVONEX, BELVIQ)</td>\n",
       "      <td>(MITRAL VALVE INCOMPETENCE, AORTIC VALVE REPLA...</td>\n",
       "    </tr>\n",
       "    <tr>\n",
       "      <th>3037529</th>\n",
       "      <td>30375293</td>\n",
       "      <td>3037529</td>\n",
       "      <td>NAPRELAN</td>\n",
       "      <td>30375293</td>\n",
       "      <td>DRY MOUTH</td>\n",
       "      <td>2013q1</td>\n",
       "      <td>(LORCASERIN, BELVIQ XR, AVONEX, BELVIQ)</td>\n",
       "      <td>(MITRAL VALVE INCOMPETENCE, AORTIC VALVE REPLA...</td>\n",
       "    </tr>\n",
       "    <tr>\n",
       "      <th>3037529</th>\n",
       "      <td>30375293</td>\n",
       "      <td>3037529</td>\n",
       "      <td>NAPRELAN</td>\n",
       "      <td>30375293</td>\n",
       "      <td>ESCHERICHIA SEPSIS</td>\n",
       "      <td>2013q1</td>\n",
       "      <td>(LORCASERIN, BELVIQ XR, AVONEX, BELVIQ)</td>\n",
       "      <td>(MITRAL VALVE INCOMPETENCE, AORTIC VALVE REPLA...</td>\n",
       "    </tr>\n",
       "    <tr>\n",
       "      <th>3037529</th>\n",
       "      <td>30375293</td>\n",
       "      <td>3037529</td>\n",
       "      <td>NAPRELAN</td>\n",
       "      <td>30375293</td>\n",
       "      <td>HEPATIC FAILURE</td>\n",
       "      <td>2013q1</td>\n",
       "      <td>(LORCASERIN, BELVIQ XR, AVONEX, BELVIQ)</td>\n",
       "      <td>(MITRAL VALVE INCOMPETENCE, AORTIC VALVE REPLA...</td>\n",
       "    </tr>\n",
       "    <tr>\n",
       "      <th>3037529</th>\n",
       "      <td>30375293</td>\n",
       "      <td>3037529</td>\n",
       "      <td>NAPRELAN</td>\n",
       "      <td>30375293</td>\n",
       "      <td>MULTIPLE SCLEROSIS RELAPSE</td>\n",
       "      <td>2013q1</td>\n",
       "      <td>(LORCASERIN, BELVIQ XR, AVONEX, BELVIQ)</td>\n",
       "      <td>(MITRAL VALVE INCOMPETENCE, AORTIC VALVE REPLA...</td>\n",
       "    </tr>\n",
       "    <tr>\n",
       "      <th>3037529</th>\n",
       "      <td>30375293</td>\n",
       "      <td>3037529</td>\n",
       "      <td>NAPRELAN</td>\n",
       "      <td>30375293</td>\n",
       "      <td>RENAL DISORDER</td>\n",
       "      <td>2013q1</td>\n",
       "      <td>(LORCASERIN, BELVIQ XR, AVONEX, BELVIQ)</td>\n",
       "      <td>(MITRAL VALVE INCOMPETENCE, AORTIC VALVE REPLA...</td>\n",
       "    </tr>\n",
       "    <tr>\n",
       "      <th>3037529</th>\n",
       "      <td>30375293</td>\n",
       "      <td>3037529</td>\n",
       "      <td>NAPRELAN</td>\n",
       "      <td>30375293</td>\n",
       "      <td>RENAL FAILURE</td>\n",
       "      <td>2013q1</td>\n",
       "      <td>(LORCASERIN, BELVIQ XR, AVONEX, BELVIQ)</td>\n",
       "      <td>(MITRAL VALVE INCOMPETENCE, AORTIC VALVE REPLA...</td>\n",
       "    </tr>\n",
       "    <tr>\n",
       "      <th>3037529</th>\n",
       "      <td>30375293</td>\n",
       "      <td>3037529</td>\n",
       "      <td>NAPRELAN</td>\n",
       "      <td>30375293</td>\n",
       "      <td>URINARY INCONTINENCE</td>\n",
       "      <td>2013q1</td>\n",
       "      <td>(LORCASERIN, BELVIQ XR, AVONEX, BELVIQ)</td>\n",
       "      <td>(MITRAL VALVE INCOMPETENCE, AORTIC VALVE REPLA...</td>\n",
       "    </tr>\n",
       "    <tr>\n",
       "      <th>3037529</th>\n",
       "      <td>30375293</td>\n",
       "      <td>3037529</td>\n",
       "      <td>NAPRELAN</td>\n",
       "      <td>30375293</td>\n",
       "      <td>URINARY RETENTION</td>\n",
       "      <td>2013q1</td>\n",
       "      <td>(LORCASERIN, BELVIQ XR, AVONEX, BELVIQ)</td>\n",
       "      <td>(MITRAL VALVE INCOMPETENCE, AORTIC VALVE REPLA...</td>\n",
       "    </tr>\n",
       "    <tr>\n",
       "      <th>3037529</th>\n",
       "      <td>30375293</td>\n",
       "      <td>3037529</td>\n",
       "      <td>NAPRELAN</td>\n",
       "      <td>30375293</td>\n",
       "      <td>URINARY TRACT INFECTION</td>\n",
       "      <td>2013q1</td>\n",
       "      <td>(LORCASERIN, BELVIQ XR, AVONEX, BELVIQ)</td>\n",
       "      <td>(MITRAL VALVE INCOMPETENCE, AORTIC VALVE REPLA...</td>\n",
       "    </tr>\n",
       "    <tr>\n",
       "      <th>3037529</th>\n",
       "      <td>30375293</td>\n",
       "      <td>3037529</td>\n",
       "      <td>IMURAN</td>\n",
       "      <td>30375293</td>\n",
       "      <td>AMENORRHOEA</td>\n",
       "      <td>2013q1</td>\n",
       "      <td>(LORCASERIN, BELVIQ XR, AVONEX, BELVIQ)</td>\n",
       "      <td>(MITRAL VALVE INCOMPETENCE, AORTIC VALVE REPLA...</td>\n",
       "    </tr>\n",
       "    <tr>\n",
       "      <th>3037529</th>\n",
       "      <td>30375293</td>\n",
       "      <td>3037529</td>\n",
       "      <td>IMURAN</td>\n",
       "      <td>30375293</td>\n",
       "      <td>ASTHENIA</td>\n",
       "      <td>2013q1</td>\n",
       "      <td>(LORCASERIN, BELVIQ XR, AVONEX, BELVIQ)</td>\n",
       "      <td>(MITRAL VALVE INCOMPETENCE, AORTIC VALVE REPLA...</td>\n",
       "    </tr>\n",
       "    <tr>\n",
       "      <th>3037529</th>\n",
       "      <td>30375293</td>\n",
       "      <td>3037529</td>\n",
       "      <td>IMURAN</td>\n",
       "      <td>30375293</td>\n",
       "      <td>BLADDER DISORDER</td>\n",
       "      <td>2013q1</td>\n",
       "      <td>(LORCASERIN, BELVIQ XR, AVONEX, BELVIQ)</td>\n",
       "      <td>(MITRAL VALVE INCOMPETENCE, AORTIC VALVE REPLA...</td>\n",
       "    </tr>\n",
       "    <tr>\n",
       "      <th>3037529</th>\n",
       "      <td>30375293</td>\n",
       "      <td>3037529</td>\n",
       "      <td>IMURAN</td>\n",
       "      <td>30375293</td>\n",
       "      <td>BLOOD PRESSURE INCREASED</td>\n",
       "      <td>2013q1</td>\n",
       "      <td>(LORCASERIN, BELVIQ XR, AVONEX, BELVIQ)</td>\n",
       "      <td>(MITRAL VALVE INCOMPETENCE, AORTIC VALVE REPLA...</td>\n",
       "    </tr>\n",
       "    <tr>\n",
       "      <th>3037529</th>\n",
       "      <td>30375293</td>\n",
       "      <td>3037529</td>\n",
       "      <td>IMURAN</td>\n",
       "      <td>30375293</td>\n",
       "      <td>DEHYDRATION</td>\n",
       "      <td>2013q1</td>\n",
       "      <td>(LORCASERIN, BELVIQ XR, AVONEX, BELVIQ)</td>\n",
       "      <td>(MITRAL VALVE INCOMPETENCE, AORTIC VALVE REPLA...</td>\n",
       "    </tr>\n",
       "    <tr>\n",
       "      <th>3037529</th>\n",
       "      <td>30375293</td>\n",
       "      <td>3037529</td>\n",
       "      <td>IMURAN</td>\n",
       "      <td>30375293</td>\n",
       "      <td>DEPRESSION</td>\n",
       "      <td>2013q1</td>\n",
       "      <td>(LORCASERIN, BELVIQ XR, AVONEX, BELVIQ)</td>\n",
       "      <td>(MITRAL VALVE INCOMPETENCE, AORTIC VALVE REPLA...</td>\n",
       "    </tr>\n",
       "    <tr>\n",
       "      <th>3037529</th>\n",
       "      <td>30375293</td>\n",
       "      <td>3037529</td>\n",
       "      <td>IMURAN</td>\n",
       "      <td>30375293</td>\n",
       "      <td>DRY MOUTH</td>\n",
       "      <td>2013q1</td>\n",
       "      <td>(LORCASERIN, BELVIQ XR, AVONEX, BELVIQ)</td>\n",
       "      <td>(MITRAL VALVE INCOMPETENCE, AORTIC VALVE REPLA...</td>\n",
       "    </tr>\n",
       "    <tr>\n",
       "      <th>3037529</th>\n",
       "      <td>30375293</td>\n",
       "      <td>3037529</td>\n",
       "      <td>IMURAN</td>\n",
       "      <td>30375293</td>\n",
       "      <td>ESCHERICHIA SEPSIS</td>\n",
       "      <td>2013q1</td>\n",
       "      <td>(LORCASERIN, BELVIQ XR, AVONEX, BELVIQ)</td>\n",
       "      <td>(MITRAL VALVE INCOMPETENCE, AORTIC VALVE REPLA...</td>\n",
       "    </tr>\n",
       "    <tr>\n",
       "      <th>3037529</th>\n",
       "      <td>30375293</td>\n",
       "      <td>3037529</td>\n",
       "      <td>IMURAN</td>\n",
       "      <td>30375293</td>\n",
       "      <td>HEPATIC FAILURE</td>\n",
       "      <td>2013q1</td>\n",
       "      <td>(LORCASERIN, BELVIQ XR, AVONEX, BELVIQ)</td>\n",
       "      <td>(MITRAL VALVE INCOMPETENCE, AORTIC VALVE REPLA...</td>\n",
       "    </tr>\n",
       "    <tr>\n",
       "      <th>3037529</th>\n",
       "      <td>30375293</td>\n",
       "      <td>3037529</td>\n",
       "      <td>IMURAN</td>\n",
       "      <td>30375293</td>\n",
       "      <td>MULTIPLE SCLEROSIS RELAPSE</td>\n",
       "      <td>2013q1</td>\n",
       "      <td>(LORCASERIN, BELVIQ XR, AVONEX, BELVIQ)</td>\n",
       "      <td>(MITRAL VALVE INCOMPETENCE, AORTIC VALVE REPLA...</td>\n",
       "    </tr>\n",
       "    <tr>\n",
       "      <th>3037529</th>\n",
       "      <td>30375293</td>\n",
       "      <td>3037529</td>\n",
       "      <td>IMURAN</td>\n",
       "      <td>30375293</td>\n",
       "      <td>RENAL DISORDER</td>\n",
       "      <td>2013q1</td>\n",
       "      <td>(LORCASERIN, BELVIQ XR, AVONEX, BELVIQ)</td>\n",
       "      <td>(MITRAL VALVE INCOMPETENCE, AORTIC VALVE REPLA...</td>\n",
       "    </tr>\n",
       "    <tr>\n",
       "      <th>3037529</th>\n",
       "      <td>30375293</td>\n",
       "      <td>3037529</td>\n",
       "      <td>IMURAN</td>\n",
       "      <td>30375293</td>\n",
       "      <td>RENAL FAILURE</td>\n",
       "      <td>2013q1</td>\n",
       "      <td>(LORCASERIN, BELVIQ XR, AVONEX, BELVIQ)</td>\n",
       "      <td>(MITRAL VALVE INCOMPETENCE, AORTIC VALVE REPLA...</td>\n",
       "    </tr>\n",
       "    <tr>\n",
       "      <th>3037529</th>\n",
       "      <td>30375293</td>\n",
       "      <td>3037529</td>\n",
       "      <td>IMURAN</td>\n",
       "      <td>30375293</td>\n",
       "      <td>URINARY INCONTINENCE</td>\n",
       "      <td>2013q1</td>\n",
       "      <td>(LORCASERIN, BELVIQ XR, AVONEX, BELVIQ)</td>\n",
       "      <td>(MITRAL VALVE INCOMPETENCE, AORTIC VALVE REPLA...</td>\n",
       "    </tr>\n",
       "    <tr>\n",
       "      <th>3037529</th>\n",
       "      <td>30375293</td>\n",
       "      <td>3037529</td>\n",
       "      <td>IMURAN</td>\n",
       "      <td>30375293</td>\n",
       "      <td>URINARY RETENTION</td>\n",
       "      <td>2013q1</td>\n",
       "      <td>(LORCASERIN, BELVIQ XR, AVONEX, BELVIQ)</td>\n",
       "      <td>(MITRAL VALVE INCOMPETENCE, AORTIC VALVE REPLA...</td>\n",
       "    </tr>\n",
       "    <tr>\n",
       "      <th>3037529</th>\n",
       "      <td>30375293</td>\n",
       "      <td>3037529</td>\n",
       "      <td>IMURAN</td>\n",
       "      <td>30375293</td>\n",
       "      <td>URINARY TRACT INFECTION</td>\n",
       "      <td>2013q1</td>\n",
       "      <td>(LORCASERIN, BELVIQ XR, AVONEX, BELVIQ)</td>\n",
       "      <td>(MITRAL VALVE INCOMPETENCE, AORTIC VALVE REPLA...</td>\n",
       "    </tr>\n",
       "  </tbody>\n",
       "</table>\n",
       "<p>105 rows × 8 columns</p>\n",
       "</div>"
      ],
      "text/plain": [
       "        primaryid_x   caseid  drugname primaryid_y  \\\n",
       "caseid                                               \n",
       "3037529    30375293  3037529    AVONEX    30375293   \n",
       "3037529    30375293  3037529    AVONEX    30375293   \n",
       "3037529    30375293  3037529    AVONEX    30375293   \n",
       "3037529    30375293  3037529    AVONEX    30375293   \n",
       "3037529    30375293  3037529    AVONEX    30375293   \n",
       "3037529    30375293  3037529    AVONEX    30375293   \n",
       "3037529    30375293  3037529    AVONEX    30375293   \n",
       "3037529    30375293  3037529    AVONEX    30375293   \n",
       "3037529    30375293  3037529    AVONEX    30375293   \n",
       "3037529    30375293  3037529    AVONEX    30375293   \n",
       "3037529    30375293  3037529    AVONEX    30375293   \n",
       "3037529    30375293  3037529    AVONEX    30375293   \n",
       "3037529    30375293  3037529    AVONEX    30375293   \n",
       "3037529    30375293  3037529    AVONEX    30375293   \n",
       "3037529    30375293  3037529    AVONEX    30375293   \n",
       "3037529    30375293  3037529  ZANAFLEX    30375293   \n",
       "3037529    30375293  3037529  ZANAFLEX    30375293   \n",
       "3037529    30375293  3037529  ZANAFLEX    30375293   \n",
       "3037529    30375293  3037529  ZANAFLEX    30375293   \n",
       "3037529    30375293  3037529  ZANAFLEX    30375293   \n",
       "3037529    30375293  3037529  ZANAFLEX    30375293   \n",
       "3037529    30375293  3037529  ZANAFLEX    30375293   \n",
       "3037529    30375293  3037529  ZANAFLEX    30375293   \n",
       "3037529    30375293  3037529  ZANAFLEX    30375293   \n",
       "3037529    30375293  3037529  ZANAFLEX    30375293   \n",
       "3037529    30375293  3037529  ZANAFLEX    30375293   \n",
       "3037529    30375293  3037529  ZANAFLEX    30375293   \n",
       "3037529    30375293  3037529  ZANAFLEX    30375293   \n",
       "3037529    30375293  3037529  ZANAFLEX    30375293   \n",
       "3037529    30375293  3037529  ZANAFLEX    30375293   \n",
       "...             ...      ...       ...         ...   \n",
       "3037529    30375293  3037529  NAPRELAN    30375293   \n",
       "3037529    30375293  3037529  NAPRELAN    30375293   \n",
       "3037529    30375293  3037529  NAPRELAN    30375293   \n",
       "3037529    30375293  3037529  NAPRELAN    30375293   \n",
       "3037529    30375293  3037529  NAPRELAN    30375293   \n",
       "3037529    30375293  3037529  NAPRELAN    30375293   \n",
       "3037529    30375293  3037529  NAPRELAN    30375293   \n",
       "3037529    30375293  3037529  NAPRELAN    30375293   \n",
       "3037529    30375293  3037529  NAPRELAN    30375293   \n",
       "3037529    30375293  3037529  NAPRELAN    30375293   \n",
       "3037529    30375293  3037529  NAPRELAN    30375293   \n",
       "3037529    30375293  3037529  NAPRELAN    30375293   \n",
       "3037529    30375293  3037529  NAPRELAN    30375293   \n",
       "3037529    30375293  3037529  NAPRELAN    30375293   \n",
       "3037529    30375293  3037529  NAPRELAN    30375293   \n",
       "3037529    30375293  3037529    IMURAN    30375293   \n",
       "3037529    30375293  3037529    IMURAN    30375293   \n",
       "3037529    30375293  3037529    IMURAN    30375293   \n",
       "3037529    30375293  3037529    IMURAN    30375293   \n",
       "3037529    30375293  3037529    IMURAN    30375293   \n",
       "3037529    30375293  3037529    IMURAN    30375293   \n",
       "3037529    30375293  3037529    IMURAN    30375293   \n",
       "3037529    30375293  3037529    IMURAN    30375293   \n",
       "3037529    30375293  3037529    IMURAN    30375293   \n",
       "3037529    30375293  3037529    IMURAN    30375293   \n",
       "3037529    30375293  3037529    IMURAN    30375293   \n",
       "3037529    30375293  3037529    IMURAN    30375293   \n",
       "3037529    30375293  3037529    IMURAN    30375293   \n",
       "3037529    30375293  3037529    IMURAN    30375293   \n",
       "3037529    30375293  3037529    IMURAN    30375293   \n",
       "\n",
       "                                 pt       q  \\\n",
       "caseid                                        \n",
       "3037529                 AMENORRHOEA  2013q1   \n",
       "3037529                    ASTHENIA  2013q1   \n",
       "3037529            BLADDER DISORDER  2013q1   \n",
       "3037529    BLOOD PRESSURE INCREASED  2013q1   \n",
       "3037529                 DEHYDRATION  2013q1   \n",
       "3037529                  DEPRESSION  2013q1   \n",
       "3037529                   DRY MOUTH  2013q1   \n",
       "3037529          ESCHERICHIA SEPSIS  2013q1   \n",
       "3037529             HEPATIC FAILURE  2013q1   \n",
       "3037529  MULTIPLE SCLEROSIS RELAPSE  2013q1   \n",
       "3037529              RENAL DISORDER  2013q1   \n",
       "3037529               RENAL FAILURE  2013q1   \n",
       "3037529        URINARY INCONTINENCE  2013q1   \n",
       "3037529           URINARY RETENTION  2013q1   \n",
       "3037529     URINARY TRACT INFECTION  2013q1   \n",
       "3037529                 AMENORRHOEA  2013q1   \n",
       "3037529                    ASTHENIA  2013q1   \n",
       "3037529            BLADDER DISORDER  2013q1   \n",
       "3037529    BLOOD PRESSURE INCREASED  2013q1   \n",
       "3037529                 DEHYDRATION  2013q1   \n",
       "3037529                  DEPRESSION  2013q1   \n",
       "3037529                   DRY MOUTH  2013q1   \n",
       "3037529          ESCHERICHIA SEPSIS  2013q1   \n",
       "3037529             HEPATIC FAILURE  2013q1   \n",
       "3037529  MULTIPLE SCLEROSIS RELAPSE  2013q1   \n",
       "3037529              RENAL DISORDER  2013q1   \n",
       "3037529               RENAL FAILURE  2013q1   \n",
       "3037529        URINARY INCONTINENCE  2013q1   \n",
       "3037529           URINARY RETENTION  2013q1   \n",
       "3037529     URINARY TRACT INFECTION  2013q1   \n",
       "...                             ...     ...   \n",
       "3037529                 AMENORRHOEA  2013q1   \n",
       "3037529                    ASTHENIA  2013q1   \n",
       "3037529            BLADDER DISORDER  2013q1   \n",
       "3037529    BLOOD PRESSURE INCREASED  2013q1   \n",
       "3037529                 DEHYDRATION  2013q1   \n",
       "3037529                  DEPRESSION  2013q1   \n",
       "3037529                   DRY MOUTH  2013q1   \n",
       "3037529          ESCHERICHIA SEPSIS  2013q1   \n",
       "3037529             HEPATIC FAILURE  2013q1   \n",
       "3037529  MULTIPLE SCLEROSIS RELAPSE  2013q1   \n",
       "3037529              RENAL DISORDER  2013q1   \n",
       "3037529               RENAL FAILURE  2013q1   \n",
       "3037529        URINARY INCONTINENCE  2013q1   \n",
       "3037529           URINARY RETENTION  2013q1   \n",
       "3037529     URINARY TRACT INFECTION  2013q1   \n",
       "3037529                 AMENORRHOEA  2013q1   \n",
       "3037529                    ASTHENIA  2013q1   \n",
       "3037529            BLADDER DISORDER  2013q1   \n",
       "3037529    BLOOD PRESSURE INCREASED  2013q1   \n",
       "3037529                 DEHYDRATION  2013q1   \n",
       "3037529                  DEPRESSION  2013q1   \n",
       "3037529                   DRY MOUTH  2013q1   \n",
       "3037529          ESCHERICHIA SEPSIS  2013q1   \n",
       "3037529             HEPATIC FAILURE  2013q1   \n",
       "3037529  MULTIPLE SCLEROSIS RELAPSE  2013q1   \n",
       "3037529              RENAL DISORDER  2013q1   \n",
       "3037529               RENAL FAILURE  2013q1   \n",
       "3037529        URINARY INCONTINENCE  2013q1   \n",
       "3037529           URINARY RETENTION  2013q1   \n",
       "3037529     URINARY TRACT INFECTION  2013q1   \n",
       "\n",
       "                                     config_drug  \\\n",
       "caseid                                             \n",
       "3037529  (LORCASERIN, BELVIQ XR, AVONEX, BELVIQ)   \n",
       "3037529  (LORCASERIN, BELVIQ XR, AVONEX, BELVIQ)   \n",
       "3037529  (LORCASERIN, BELVIQ XR, AVONEX, BELVIQ)   \n",
       "3037529  (LORCASERIN, BELVIQ XR, AVONEX, BELVIQ)   \n",
       "3037529  (LORCASERIN, BELVIQ XR, AVONEX, BELVIQ)   \n",
       "3037529  (LORCASERIN, BELVIQ XR, AVONEX, BELVIQ)   \n",
       "3037529  (LORCASERIN, BELVIQ XR, AVONEX, BELVIQ)   \n",
       "3037529  (LORCASERIN, BELVIQ XR, AVONEX, BELVIQ)   \n",
       "3037529  (LORCASERIN, BELVIQ XR, AVONEX, BELVIQ)   \n",
       "3037529  (LORCASERIN, BELVIQ XR, AVONEX, BELVIQ)   \n",
       "3037529  (LORCASERIN, BELVIQ XR, AVONEX, BELVIQ)   \n",
       "3037529  (LORCASERIN, BELVIQ XR, AVONEX, BELVIQ)   \n",
       "3037529  (LORCASERIN, BELVIQ XR, AVONEX, BELVIQ)   \n",
       "3037529  (LORCASERIN, BELVIQ XR, AVONEX, BELVIQ)   \n",
       "3037529  (LORCASERIN, BELVIQ XR, AVONEX, BELVIQ)   \n",
       "3037529  (LORCASERIN, BELVIQ XR, AVONEX, BELVIQ)   \n",
       "3037529  (LORCASERIN, BELVIQ XR, AVONEX, BELVIQ)   \n",
       "3037529  (LORCASERIN, BELVIQ XR, AVONEX, BELVIQ)   \n",
       "3037529  (LORCASERIN, BELVIQ XR, AVONEX, BELVIQ)   \n",
       "3037529  (LORCASERIN, BELVIQ XR, AVONEX, BELVIQ)   \n",
       "3037529  (LORCASERIN, BELVIQ XR, AVONEX, BELVIQ)   \n",
       "3037529  (LORCASERIN, BELVIQ XR, AVONEX, BELVIQ)   \n",
       "3037529  (LORCASERIN, BELVIQ XR, AVONEX, BELVIQ)   \n",
       "3037529  (LORCASERIN, BELVIQ XR, AVONEX, BELVIQ)   \n",
       "3037529  (LORCASERIN, BELVIQ XR, AVONEX, BELVIQ)   \n",
       "3037529  (LORCASERIN, BELVIQ XR, AVONEX, BELVIQ)   \n",
       "3037529  (LORCASERIN, BELVIQ XR, AVONEX, BELVIQ)   \n",
       "3037529  (LORCASERIN, BELVIQ XR, AVONEX, BELVIQ)   \n",
       "3037529  (LORCASERIN, BELVIQ XR, AVONEX, BELVIQ)   \n",
       "3037529  (LORCASERIN, BELVIQ XR, AVONEX, BELVIQ)   \n",
       "...                                          ...   \n",
       "3037529  (LORCASERIN, BELVIQ XR, AVONEX, BELVIQ)   \n",
       "3037529  (LORCASERIN, BELVIQ XR, AVONEX, BELVIQ)   \n",
       "3037529  (LORCASERIN, BELVIQ XR, AVONEX, BELVIQ)   \n",
       "3037529  (LORCASERIN, BELVIQ XR, AVONEX, BELVIQ)   \n",
       "3037529  (LORCASERIN, BELVIQ XR, AVONEX, BELVIQ)   \n",
       "3037529  (LORCASERIN, BELVIQ XR, AVONEX, BELVIQ)   \n",
       "3037529  (LORCASERIN, BELVIQ XR, AVONEX, BELVIQ)   \n",
       "3037529  (LORCASERIN, BELVIQ XR, AVONEX, BELVIQ)   \n",
       "3037529  (LORCASERIN, BELVIQ XR, AVONEX, BELVIQ)   \n",
       "3037529  (LORCASERIN, BELVIQ XR, AVONEX, BELVIQ)   \n",
       "3037529  (LORCASERIN, BELVIQ XR, AVONEX, BELVIQ)   \n",
       "3037529  (LORCASERIN, BELVIQ XR, AVONEX, BELVIQ)   \n",
       "3037529  (LORCASERIN, BELVIQ XR, AVONEX, BELVIQ)   \n",
       "3037529  (LORCASERIN, BELVIQ XR, AVONEX, BELVIQ)   \n",
       "3037529  (LORCASERIN, BELVIQ XR, AVONEX, BELVIQ)   \n",
       "3037529  (LORCASERIN, BELVIQ XR, AVONEX, BELVIQ)   \n",
       "3037529  (LORCASERIN, BELVIQ XR, AVONEX, BELVIQ)   \n",
       "3037529  (LORCASERIN, BELVIQ XR, AVONEX, BELVIQ)   \n",
       "3037529  (LORCASERIN, BELVIQ XR, AVONEX, BELVIQ)   \n",
       "3037529  (LORCASERIN, BELVIQ XR, AVONEX, BELVIQ)   \n",
       "3037529  (LORCASERIN, BELVIQ XR, AVONEX, BELVIQ)   \n",
       "3037529  (LORCASERIN, BELVIQ XR, AVONEX, BELVIQ)   \n",
       "3037529  (LORCASERIN, BELVIQ XR, AVONEX, BELVIQ)   \n",
       "3037529  (LORCASERIN, BELVIQ XR, AVONEX, BELVIQ)   \n",
       "3037529  (LORCASERIN, BELVIQ XR, AVONEX, BELVIQ)   \n",
       "3037529  (LORCASERIN, BELVIQ XR, AVONEX, BELVIQ)   \n",
       "3037529  (LORCASERIN, BELVIQ XR, AVONEX, BELVIQ)   \n",
       "3037529  (LORCASERIN, BELVIQ XR, AVONEX, BELVIQ)   \n",
       "3037529  (LORCASERIN, BELVIQ XR, AVONEX, BELVIQ)   \n",
       "3037529  (LORCASERIN, BELVIQ XR, AVONEX, BELVIQ)   \n",
       "\n",
       "                                           config_reaction  \n",
       "caseid                                                      \n",
       "3037529  (MITRAL VALVE INCOMPETENCE, AORTIC VALVE REPLA...  \n",
       "3037529  (MITRAL VALVE INCOMPETENCE, AORTIC VALVE REPLA...  \n",
       "3037529  (MITRAL VALVE INCOMPETENCE, AORTIC VALVE REPLA...  \n",
       "3037529  (MITRAL VALVE INCOMPETENCE, AORTIC VALVE REPLA...  \n",
       "3037529  (MITRAL VALVE INCOMPETENCE, AORTIC VALVE REPLA...  \n",
       "3037529  (MITRAL VALVE INCOMPETENCE, AORTIC VALVE REPLA...  \n",
       "3037529  (MITRAL VALVE INCOMPETENCE, AORTIC VALVE REPLA...  \n",
       "3037529  (MITRAL VALVE INCOMPETENCE, AORTIC VALVE REPLA...  \n",
       "3037529  (MITRAL VALVE INCOMPETENCE, AORTIC VALVE REPLA...  \n",
       "3037529  (MITRAL VALVE INCOMPETENCE, AORTIC VALVE REPLA...  \n",
       "3037529  (MITRAL VALVE INCOMPETENCE, AORTIC VALVE REPLA...  \n",
       "3037529  (MITRAL VALVE INCOMPETENCE, AORTIC VALVE REPLA...  \n",
       "3037529  (MITRAL VALVE INCOMPETENCE, AORTIC VALVE REPLA...  \n",
       "3037529  (MITRAL VALVE INCOMPETENCE, AORTIC VALVE REPLA...  \n",
       "3037529  (MITRAL VALVE INCOMPETENCE, AORTIC VALVE REPLA...  \n",
       "3037529  (MITRAL VALVE INCOMPETENCE, AORTIC VALVE REPLA...  \n",
       "3037529  (MITRAL VALVE INCOMPETENCE, AORTIC VALVE REPLA...  \n",
       "3037529  (MITRAL VALVE INCOMPETENCE, AORTIC VALVE REPLA...  \n",
       "3037529  (MITRAL VALVE INCOMPETENCE, AORTIC VALVE REPLA...  \n",
       "3037529  (MITRAL VALVE INCOMPETENCE, AORTIC VALVE REPLA...  \n",
       "3037529  (MITRAL VALVE INCOMPETENCE, AORTIC VALVE REPLA...  \n",
       "3037529  (MITRAL VALVE INCOMPETENCE, AORTIC VALVE REPLA...  \n",
       "3037529  (MITRAL VALVE INCOMPETENCE, AORTIC VALVE REPLA...  \n",
       "3037529  (MITRAL VALVE INCOMPETENCE, AORTIC VALVE REPLA...  \n",
       "3037529  (MITRAL VALVE INCOMPETENCE, AORTIC VALVE REPLA...  \n",
       "3037529  (MITRAL VALVE INCOMPETENCE, AORTIC VALVE REPLA...  \n",
       "3037529  (MITRAL VALVE INCOMPETENCE, AORTIC VALVE REPLA...  \n",
       "3037529  (MITRAL VALVE INCOMPETENCE, AORTIC VALVE REPLA...  \n",
       "3037529  (MITRAL VALVE INCOMPETENCE, AORTIC VALVE REPLA...  \n",
       "3037529  (MITRAL VALVE INCOMPETENCE, AORTIC VALVE REPLA...  \n",
       "...                                                    ...  \n",
       "3037529  (MITRAL VALVE INCOMPETENCE, AORTIC VALVE REPLA...  \n",
       "3037529  (MITRAL VALVE INCOMPETENCE, AORTIC VALVE REPLA...  \n",
       "3037529  (MITRAL VALVE INCOMPETENCE, AORTIC VALVE REPLA...  \n",
       "3037529  (MITRAL VALVE INCOMPETENCE, AORTIC VALVE REPLA...  \n",
       "3037529  (MITRAL VALVE INCOMPETENCE, AORTIC VALVE REPLA...  \n",
       "3037529  (MITRAL VALVE INCOMPETENCE, AORTIC VALVE REPLA...  \n",
       "3037529  (MITRAL VALVE INCOMPETENCE, AORTIC VALVE REPLA...  \n",
       "3037529  (MITRAL VALVE INCOMPETENCE, AORTIC VALVE REPLA...  \n",
       "3037529  (MITRAL VALVE INCOMPETENCE, AORTIC VALVE REPLA...  \n",
       "3037529  (MITRAL VALVE INCOMPETENCE, AORTIC VALVE REPLA...  \n",
       "3037529  (MITRAL VALVE INCOMPETENCE, AORTIC VALVE REPLA...  \n",
       "3037529  (MITRAL VALVE INCOMPETENCE, AORTIC VALVE REPLA...  \n",
       "3037529  (MITRAL VALVE INCOMPETENCE, AORTIC VALVE REPLA...  \n",
       "3037529  (MITRAL VALVE INCOMPETENCE, AORTIC VALVE REPLA...  \n",
       "3037529  (MITRAL VALVE INCOMPETENCE, AORTIC VALVE REPLA...  \n",
       "3037529  (MITRAL VALVE INCOMPETENCE, AORTIC VALVE REPLA...  \n",
       "3037529  (MITRAL VALVE INCOMPETENCE, AORTIC VALVE REPLA...  \n",
       "3037529  (MITRAL VALVE INCOMPETENCE, AORTIC VALVE REPLA...  \n",
       "3037529  (MITRAL VALVE INCOMPETENCE, AORTIC VALVE REPLA...  \n",
       "3037529  (MITRAL VALVE INCOMPETENCE, AORTIC VALVE REPLA...  \n",
       "3037529  (MITRAL VALVE INCOMPETENCE, AORTIC VALVE REPLA...  \n",
       "3037529  (MITRAL VALVE INCOMPETENCE, AORTIC VALVE REPLA...  \n",
       "3037529  (MITRAL VALVE INCOMPETENCE, AORTIC VALVE REPLA...  \n",
       "3037529  (MITRAL VALVE INCOMPETENCE, AORTIC VALVE REPLA...  \n",
       "3037529  (MITRAL VALVE INCOMPETENCE, AORTIC VALVE REPLA...  \n",
       "3037529  (MITRAL VALVE INCOMPETENCE, AORTIC VALVE REPLA...  \n",
       "3037529  (MITRAL VALVE INCOMPETENCE, AORTIC VALVE REPLA...  \n",
       "3037529  (MITRAL VALVE INCOMPETENCE, AORTIC VALVE REPLA...  \n",
       "3037529  (MITRAL VALVE INCOMPETENCE, AORTIC VALVE REPLA...  \n",
       "3037529  (MITRAL VALVE INCOMPETENCE, AORTIC VALVE REPLA...  \n",
       "\n",
       "[105 rows x 8 columns]"
      ]
     },
     "execution_count": 170,
     "metadata": {},
     "output_type": "execute_result"
    }
   ],
   "source": [
    "t"
   ]
  },
  {
   "cell_type": "code",
   "execution_count": null,
   "metadata": {},
   "outputs": [],
   "source": []
  },
  {
   "cell_type": "code",
   "execution_count": null,
   "metadata": {},
   "outputs": [],
   "source": []
  },
  {
   "cell_type": "code",
   "execution_count": 163,
   "metadata": {
    "ExecuteTime": {
     "end_time": "2018-06-10T14:08:38.671241Z",
     "start_time": "2018-06-10T14:08:38.650058Z"
    }
   },
   "outputs": [
    {
     "data": {
      "text/html": [
       "<div>\n",
       "<style scoped>\n",
       "    .dataframe tbody tr th:only-of-type {\n",
       "        vertical-align: middle;\n",
       "    }\n",
       "\n",
       "    .dataframe tbody tr th {\n",
       "        vertical-align: top;\n",
       "    }\n",
       "\n",
       "    .dataframe thead th {\n",
       "        text-align: right;\n",
       "    }\n",
       "</style>\n",
       "<table border=\"1\" class=\"dataframe\">\n",
       "  <thead>\n",
       "    <tr style=\"text-align: right;\">\n",
       "      <th></th>\n",
       "      <th>caseid</th>\n",
       "      <th>exposure</th>\n",
       "      <th>outcome</th>\n",
       "      <th>q</th>\n",
       "    </tr>\n",
       "  </thead>\n",
       "  <tbody>\n",
       "    <tr>\n",
       "      <th>0</th>\n",
       "      <td>10003318</td>\n",
       "      <td>False</td>\n",
       "      <td>False</td>\n",
       "      <td>2014q2</td>\n",
       "    </tr>\n",
       "    <tr>\n",
       "      <th>1</th>\n",
       "      <td>10003343</td>\n",
       "      <td>False</td>\n",
       "      <td>False</td>\n",
       "      <td>2014q1</td>\n",
       "    </tr>\n",
       "    <tr>\n",
       "      <th>2</th>\n",
       "      <td>10003397</td>\n",
       "      <td>False</td>\n",
       "      <td>False</td>\n",
       "      <td>2014q2</td>\n",
       "    </tr>\n",
       "    <tr>\n",
       "      <th>3</th>\n",
       "      <td>10003413</td>\n",
       "      <td>False</td>\n",
       "      <td>False</td>\n",
       "      <td>2014q1</td>\n",
       "    </tr>\n",
       "    <tr>\n",
       "      <th>4</th>\n",
       "      <td>10003421</td>\n",
       "      <td>False</td>\n",
       "      <td>False</td>\n",
       "      <td>2014q1</td>\n",
       "    </tr>\n",
       "  </tbody>\n",
       "</table>\n",
       "</div>"
      ],
      "text/plain": [
       "     caseid  exposure  outcome       q\n",
       "0  10003318     False    False  2014q2\n",
       "1  10003343     False    False  2014q1\n",
       "2  10003397     False    False  2014q2\n",
       "3  10003413     False    False  2014q1\n",
       "4  10003421     False    False  2014q1"
      ]
     },
     "execution_count": 163,
     "metadata": {},
     "output_type": "execute_result"
    }
   ],
   "source": [
    "tbl_incidence.head()"
   ]
  },
  {
   "cell_type": "code",
   "execution_count": null,
   "metadata": {},
   "outputs": [],
   "source": []
  },
  {
   "cell_type": "code",
   "execution_count": null,
   "metadata": {},
   "outputs": [],
   "source": []
  },
  {
   "cell_type": "code",
   "execution_count": null,
   "metadata": {},
   "outputs": [],
   "source": []
  }
 ],
 "metadata": {
  "kernelspec": {
   "display_name": "Python 3",
   "language": "python",
   "name": "python3"
  },
  "language_info": {
   "codemirror_mode": {
    "name": "ipython",
    "version": 3
   },
   "file_extension": ".py",
   "mimetype": "text/x-python",
   "name": "python",
   "nbconvert_exporter": "python",
   "pygments_lexer": "ipython3",
   "version": "3.6.5"
  }
 },
 "nbformat": 4,
 "nbformat_minor": 2
}
