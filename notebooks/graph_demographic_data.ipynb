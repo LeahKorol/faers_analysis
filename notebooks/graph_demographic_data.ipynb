{
 "cells": [
  {
   "cell_type": "code",
   "execution_count": 1,
   "metadata": {
    "ExecuteTime": {
     "end_time": "2018-07-05T17:52:37.478368Z",
     "start_time": "2018-07-05T17:52:37.024468Z"
    }
   },
   "outputs": [],
   "source": [
    "import pandas as pd"
   ]
  },
  {
   "cell_type": "code",
   "execution_count": 2,
   "metadata": {
    "ExecuteTime": {
     "end_time": "2018-07-05T17:52:38.005404Z",
     "start_time": "2018-07-05T17:52:37.480398Z"
    }
   },
   "outputs": [
    {
     "name": "stderr",
     "output_type": "stream",
     "text": [
      "/Users/boris/anaconda3/lib/python3.6/site-packages/seaborn/apionly.py:6: UserWarning: As seaborn no longer sets a default style on import, the seaborn.apionly module is deprecated. It will be removed in a future version.\n",
      "  warnings.warn(msg, UserWarning)\n"
     ]
    }
   ],
   "source": [
    "from multiprocessing import Pool, cpu_count\n",
    "import time\n",
    "import numpy as np\n",
    "import os\n",
    "import sys\n",
    "sys.path.append('../')\n",
    "from statsmodels.distributions.empirical_distribution import ECDF\n",
    "from matplotlib import pylab as plt\n",
    "from IPython.display import *\n",
    "import base64\n",
    "import io\n",
    "import seaborn.apionly as sns\n",
    "%matplotlib inline"
   ]
  },
  {
   "cell_type": "code",
   "execution_count": 3,
   "metadata": {
    "ExecuteTime": {
     "end_time": "2018-07-05T17:52:38.774667Z",
     "start_time": "2018-07-05T17:52:38.772499Z"
    }
   },
   "outputs": [],
   "source": [
    "import statsmodels.nonparametric.kde as kde"
   ]
  },
  {
   "cell_type": "code",
   "execution_count": 4,
   "metadata": {
    "ExecuteTime": {
     "end_time": "2018-07-05T17:52:39.358877Z",
     "start_time": "2018-07-05T17:52:39.356438Z"
    }
   },
   "outputs": [],
   "source": [
    "from glob import glob\n",
    "import pickle"
   ]
  },
  {
   "cell_type": "code",
   "execution_count": 5,
   "metadata": {
    "ExecuteTime": {
     "end_time": "2018-07-05T17:52:42.240090Z",
     "start_time": "2018-07-05T17:52:42.236734Z"
    }
   },
   "outputs": [],
   "source": [
    "files = glob('../data/interim/demographic_analysis/Phentermine cardio adr - cardio non valve and pulmonary/*.csv.zip')"
   ]
  },
  {
   "cell_type": "code",
   "execution_count": 6,
   "metadata": {
    "ExecuteTime": {
     "end_time": "2018-07-05T17:52:48.955471Z",
     "start_time": "2018-07-05T17:52:48.948386Z"
    }
   },
   "outputs": [
    {
     "data": {
      "text/plain": [
       "19"
      ]
     },
     "execution_count": 6,
     "metadata": {},
     "output_type": "execute_result"
    }
   ],
   "source": [
    "len(files)"
   ]
  },
  {
   "cell_type": "code",
   "execution_count": 7,
   "metadata": {
    "ExecuteTime": {
     "end_time": "2018-07-05T17:52:50.497718Z",
     "start_time": "2018-07-05T17:52:50.487942Z"
    }
   },
   "outputs": [],
   "source": [
    "def plot_kde(kde, factor_to_emphasize=0.5,  figsize_factor=1.0):\n",
    "    figsize = [3, 1]\n",
    "    figsize = np.array(figsize) * figsize_factor\n",
    "    x, y = kde\n",
    "    if len(x) > 10:\n",
    "        plt.ioff()\n",
    "        fig, ax = plt.subplots(figsize=(figsize), dpi=120)\n",
    "        ax.plot(x, y, '-k', lw=0.33)\n",
    "        ax.fill_between(x, y, color='k', alpha=0.1)\n",
    "\n",
    "        forward = np.cumsum(y)\n",
    "        backward = 1 - forward\n",
    "        factor_to_leave = 1 - factor_to_emphasize\n",
    "        ix_from = np.abs(forward - factor_to_leave / 2).argmin()\n",
    "        ix_to = np.abs(backward - factor_to_leave / 2).argmin()\n",
    "\n",
    "        ax.fill_between(x[ix_from:ix_to], y[ix_from:ix_to], color='k', alpha=0.3)\n",
    "        sns.despine(ax=ax, left=True, right=True, bottom=True)\n",
    "        ax.set_xlim(min(x), 100)\n",
    "        ax.set_xticks([])\n",
    "        ax.set_yticks([])\n",
    "        \n",
    "        figfile = io.BytesIO()\n",
    "        fig.savefig(figfile, format='png')\n",
    "        figfile.seek(0)  # rewind to beginning of file\n",
    "        figdata_png = figfile.getvalue()  # extract string (stream of bytes)\n",
    "        figdata_png = base64.b64encode(figdata_png).decode('utf8')\n",
    "        ret = f'<img src=\"data:image/png;base64,{figdata_png}\">'\n",
    "        plt.close(fig)\n",
    "        plt.ion()\n",
    "    else:\n",
    "        ret = ''\n",
    "    return ret"
   ]
  },
  {
   "cell_type": "code",
   "execution_count": 8,
   "metadata": {
    "ExecuteTime": {
     "end_time": "2018-07-05T17:52:51.838298Z",
     "start_time": "2018-07-05T17:52:51.831797Z"
    }
   },
   "outputs": [],
   "source": [
    "def group_rows(group):\n",
    "    trows = []\n",
    "    for sex in ['all', 'F', 'M']:\n",
    "        curr_table = group.loc[group.sex == sex].set_index('variable')\n",
    "        if sex == 'all':\n",
    "            curr_label = curr_table.label.iloc[0]  # they are all the same\n",
    "        else:\n",
    "            curr_label = ''\n",
    "        n = curr_table.n.iloc[0] # they are both the same\n",
    "        age_median, age_mean, age_std = curr_table.loc['age'][['median', 'mean', 'std']]\n",
    "        weight_median, weight_mean, weight_std = curr_table.loc['wt'][['median', 'mean', 'std']]\n",
    "\n",
    "        fig_age_kde = plot_kde(curr_table.loc['age']['kde'], figsize_factor=0.5)\n",
    "        fig_weight_kde = plot_kde(curr_table.loc['wt']['kde'], figsize_factor=0.5)\n",
    "        trow = f\"\"\"\n",
    "        <tr>\n",
    "            <td>{curr_label}</td>\n",
    "            <td>{sex}</td>\n",
    "            <td>{n:,d}</td>\n",
    "            <td>{age_median:.1f}</td>\n",
    "            <td>{age_mean:.1f}</td>\n",
    "            <td>{age_std:.1f}</td>\n",
    "            <td>{fig_age_kde}</td>\n",
    "            <td>{weight_median:.1f}</td>\n",
    "            <td>{weight_mean:.1f}</td>\n",
    "            <td>{weight_std:.1f}</td>\n",
    "            <td>{fig_weight_kde}</td>\n",
    "        </tr>\n",
    "        \"\"\"\n",
    "        trows.append(trow)\n",
    "    return trows"
   ]
  },
  {
   "cell_type": "code",
   "execution_count": 1,
   "metadata": {
    "ExecuteTime": {
     "end_time": "2018-07-11T06:08:57.735438Z",
     "start_time": "2018-07-11T06:08:57.651200Z"
    }
   },
   "outputs": [
    {
     "ename": "NameError",
     "evalue": "name 'data' is not defined",
     "output_type": "error",
     "traceback": [
      "\u001b[0;31m---------------------------------------------------------------------------\u001b[0m",
      "\u001b[0;31mNameError\u001b[0m                                 Traceback (most recent call last)",
      "\u001b[0;32m<ipython-input-1-304fa4ce4ebd>\u001b[0m in \u001b[0;36m<module>\u001b[0;34m()\u001b[0m\n\u001b[0;32m----> 1\u001b[0;31m \u001b[0mdata\u001b[0m\u001b[0;34m.\u001b[0m\u001b[0mhead\u001b[0m\u001b[0;34m(\u001b[0m\u001b[0;34m)\u001b[0m\u001b[0;34m\u001b[0m\u001b[0m\n\u001b[0m",
      "\u001b[0;31mNameError\u001b[0m: name 'data' is not defined"
     ]
    }
   ],
   "source": [
    "data.head()"
   ]
  },
  {
   "cell_type": "code",
   "execution_count": null,
   "metadata": {},
   "outputs": [],
   "source": [
    "#def regression_data(df_demo):\n"
   ]
  },
  {
   "cell_type": "code",
   "execution_count": null,
   "metadata": {},
   "outputs": [],
   "source": []
  },
  {
   "cell_type": "code",
   "execution_count": null,
   "metadata": {},
   "outputs": [],
   "source": []
  },
  {
   "cell_type": "code",
   "execution_count": null,
   "metadata": {},
   "outputs": [],
   "source": []
  },
  {
   "cell_type": "code",
   "execution_count": null,
   "metadata": {},
   "outputs": [],
   "source": []
  },
  {
   "cell_type": "code",
   "execution_count": null,
   "metadata": {},
   "outputs": [],
   "source": []
  },
  {
   "cell_type": "code",
   "execution_count": null,
   "metadata": {},
   "outputs": [],
   "source": []
  },
  {
   "cell_type": "code",
   "execution_count": null,
   "metadata": {},
   "outputs": [],
   "source": []
  },
  {
   "cell_type": "code",
   "execution_count": 10,
   "metadata": {
    "ExecuteTime": {
     "end_time": "2018-07-05T17:53:00.808698Z",
     "start_time": "2018-07-05T17:53:00.780813Z"
    }
   },
   "outputs": [
    {
     "data": {
      "text/html": [
       "<div>\n",
       "<style scoped>\n",
       "    .dataframe tbody tr th:only-of-type {\n",
       "        vertical-align: middle;\n",
       "    }\n",
       "\n",
       "    .dataframe tbody tr th {\n",
       "        vertical-align: top;\n",
       "    }\n",
       "\n",
       "    .dataframe thead th {\n",
       "        text-align: right;\n",
       "    }\n",
       "</style>\n",
       "<table border=\"1\" class=\"dataframe\">\n",
       "  <thead>\n",
       "    <tr style=\"text-align: right;\">\n",
       "      <th></th>\n",
       "      <th>label</th>\n",
       "      <th>variable</th>\n",
       "      <th>sex</th>\n",
       "      <th>n</th>\n",
       "      <th>n_missing</th>\n",
       "      <th>n_valid</th>\n",
       "      <th>mean</th>\n",
       "      <th>median</th>\n",
       "      <th>std</th>\n",
       "      <th>kde</th>\n",
       "    </tr>\n",
       "  </thead>\n",
       "  <tbody>\n",
       "    <tr>\n",
       "      <th>0</th>\n",
       "      <td>true_true</td>\n",
       "      <td>age</td>\n",
       "      <td>M</td>\n",
       "      <td>0</td>\n",
       "      <td>NaN</td>\n",
       "      <td>0</td>\n",
       "      <td>NaN</td>\n",
       "      <td>NaN</td>\n",
       "      <td>NaN</td>\n",
       "      <td>NaN</td>\n",
       "    </tr>\n",
       "    <tr>\n",
       "      <th>1</th>\n",
       "      <td>true_true</td>\n",
       "      <td>age</td>\n",
       "      <td>F</td>\n",
       "      <td>0</td>\n",
       "      <td>NaN</td>\n",
       "      <td>0</td>\n",
       "      <td>NaN</td>\n",
       "      <td>NaN</td>\n",
       "      <td>NaN</td>\n",
       "      <td>NaN</td>\n",
       "    </tr>\n",
       "    <tr>\n",
       "      <th>2</th>\n",
       "      <td>true_true</td>\n",
       "      <td>age</td>\n",
       "      <td>all</td>\n",
       "      <td>0</td>\n",
       "      <td>NaN</td>\n",
       "      <td>0</td>\n",
       "      <td>NaN</td>\n",
       "      <td>NaN</td>\n",
       "      <td>NaN</td>\n",
       "      <td>NaN</td>\n",
       "    </tr>\n",
       "    <tr>\n",
       "      <th>3</th>\n",
       "      <td>true_true</td>\n",
       "      <td>wt</td>\n",
       "      <td>M</td>\n",
       "      <td>0</td>\n",
       "      <td>NaN</td>\n",
       "      <td>0</td>\n",
       "      <td>NaN</td>\n",
       "      <td>NaN</td>\n",
       "      <td>NaN</td>\n",
       "      <td>NaN</td>\n",
       "    </tr>\n",
       "    <tr>\n",
       "      <th>4</th>\n",
       "      <td>true_true</td>\n",
       "      <td>wt</td>\n",
       "      <td>F</td>\n",
       "      <td>0</td>\n",
       "      <td>NaN</td>\n",
       "      <td>0</td>\n",
       "      <td>NaN</td>\n",
       "      <td>NaN</td>\n",
       "      <td>NaN</td>\n",
       "      <td>NaN</td>\n",
       "    </tr>\n",
       "    <tr>\n",
       "      <th>5</th>\n",
       "      <td>true_true</td>\n",
       "      <td>wt</td>\n",
       "      <td>all</td>\n",
       "      <td>0</td>\n",
       "      <td>NaN</td>\n",
       "      <td>0</td>\n",
       "      <td>NaN</td>\n",
       "      <td>NaN</td>\n",
       "      <td>NaN</td>\n",
       "      <td>NaN</td>\n",
       "    </tr>\n",
       "    <tr>\n",
       "      <th>6</th>\n",
       "      <td>true_false</td>\n",
       "      <td>age</td>\n",
       "      <td>M</td>\n",
       "      <td>0</td>\n",
       "      <td>NaN</td>\n",
       "      <td>0</td>\n",
       "      <td>NaN</td>\n",
       "      <td>NaN</td>\n",
       "      <td>NaN</td>\n",
       "      <td>NaN</td>\n",
       "    </tr>\n",
       "    <tr>\n",
       "      <th>7</th>\n",
       "      <td>true_false</td>\n",
       "      <td>age</td>\n",
       "      <td>F</td>\n",
       "      <td>0</td>\n",
       "      <td>NaN</td>\n",
       "      <td>0</td>\n",
       "      <td>NaN</td>\n",
       "      <td>NaN</td>\n",
       "      <td>NaN</td>\n",
       "      <td>NaN</td>\n",
       "    </tr>\n",
       "    <tr>\n",
       "      <th>8</th>\n",
       "      <td>true_false</td>\n",
       "      <td>age</td>\n",
       "      <td>all</td>\n",
       "      <td>0</td>\n",
       "      <td>NaN</td>\n",
       "      <td>0</td>\n",
       "      <td>NaN</td>\n",
       "      <td>NaN</td>\n",
       "      <td>NaN</td>\n",
       "      <td>NaN</td>\n",
       "    </tr>\n",
       "    <tr>\n",
       "      <th>9</th>\n",
       "      <td>true_false</td>\n",
       "      <td>wt</td>\n",
       "      <td>M</td>\n",
       "      <td>0</td>\n",
       "      <td>NaN</td>\n",
       "      <td>0</td>\n",
       "      <td>NaN</td>\n",
       "      <td>NaN</td>\n",
       "      <td>NaN</td>\n",
       "      <td>NaN</td>\n",
       "    </tr>\n",
       "    <tr>\n",
       "      <th>10</th>\n",
       "      <td>true_false</td>\n",
       "      <td>wt</td>\n",
       "      <td>F</td>\n",
       "      <td>0</td>\n",
       "      <td>NaN</td>\n",
       "      <td>0</td>\n",
       "      <td>NaN</td>\n",
       "      <td>NaN</td>\n",
       "      <td>NaN</td>\n",
       "      <td>NaN</td>\n",
       "    </tr>\n",
       "    <tr>\n",
       "      <th>11</th>\n",
       "      <td>true_false</td>\n",
       "      <td>wt</td>\n",
       "      <td>all</td>\n",
       "      <td>0</td>\n",
       "      <td>NaN</td>\n",
       "      <td>0</td>\n",
       "      <td>NaN</td>\n",
       "      <td>NaN</td>\n",
       "      <td>NaN</td>\n",
       "      <td>NaN</td>\n",
       "    </tr>\n",
       "    <tr>\n",
       "      <th>12</th>\n",
       "      <td>drug_naive_true</td>\n",
       "      <td>age</td>\n",
       "      <td>M</td>\n",
       "      <td>59</td>\n",
       "      <td>4.0</td>\n",
       "      <td>52</td>\n",
       "      <td>55.487661</td>\n",
       "      <td>59.849421</td>\n",
       "      <td>22.983505</td>\n",
       "      <td>([0, 1, 2, 3, 4, 5, 6, 7, 8, 9, 10, 11, 12, 13...</td>\n",
       "    </tr>\n",
       "    <tr>\n",
       "      <th>13</th>\n",
       "      <td>drug_naive_true</td>\n",
       "      <td>age</td>\n",
       "      <td>F</td>\n",
       "      <td>84</td>\n",
       "      <td>13.0</td>\n",
       "      <td>66</td>\n",
       "      <td>57.436746</td>\n",
       "      <td>60.957001</td>\n",
       "      <td>19.849504</td>\n",
       "      <td>([0, 1, 2, 3, 4, 5, 6, 7, 8, 9, 10, 11, 12, 13...</td>\n",
       "    </tr>\n",
       "    <tr>\n",
       "      <th>14</th>\n",
       "      <td>drug_naive_true</td>\n",
       "      <td>age</td>\n",
       "      <td>all</td>\n",
       "      <td>148</td>\n",
       "      <td>22.0</td>\n",
       "      <td>118</td>\n",
       "      <td>56.577827</td>\n",
       "      <td>60.000000</td>\n",
       "      <td>21.309510</td>\n",
       "      <td>([0, 1, 2, 3, 4, 5, 6, 7, 8, 9, 10, 11, 12, 13...</td>\n",
       "    </tr>\n",
       "    <tr>\n",
       "      <th>15</th>\n",
       "      <td>drug_naive_true</td>\n",
       "      <td>wt</td>\n",
       "      <td>M</td>\n",
       "      <td>59</td>\n",
       "      <td>27.0</td>\n",
       "      <td>32</td>\n",
       "      <td>72.345937</td>\n",
       "      <td>70.500000</td>\n",
       "      <td>45.403722</td>\n",
       "      <td>([0, 1, 2, 3, 4, 5, 6, 7, 8, 9, 10, 11, 12, 13...</td>\n",
       "    </tr>\n",
       "    <tr>\n",
       "      <th>16</th>\n",
       "      <td>drug_naive_true</td>\n",
       "      <td>wt</td>\n",
       "      <td>F</td>\n",
       "      <td>84</td>\n",
       "      <td>40.0</td>\n",
       "      <td>44</td>\n",
       "      <td>64.192727</td>\n",
       "      <td>63.250000</td>\n",
       "      <td>24.022850</td>\n",
       "      <td>([0, 1, 2, 3, 4, 5, 6, 7, 8, 9, 10, 11, 12, 13...</td>\n",
       "    </tr>\n",
       "    <tr>\n",
       "      <th>17</th>\n",
       "      <td>drug_naive_true</td>\n",
       "      <td>wt</td>\n",
       "      <td>all</td>\n",
       "      <td>148</td>\n",
       "      <td>72.0</td>\n",
       "      <td>76</td>\n",
       "      <td>67.625658</td>\n",
       "      <td>67.064999</td>\n",
       "      <td>34.904334</td>\n",
       "      <td>([0, 1, 2, 3, 4, 5, 6, 7, 8, 9, 10, 11, 12, 13...</td>\n",
       "    </tr>\n",
       "    <tr>\n",
       "      <th>18</th>\n",
       "      <td>drug_naive_false</td>\n",
       "      <td>age</td>\n",
       "      <td>M</td>\n",
       "      <td>1030</td>\n",
       "      <td>147.0</td>\n",
       "      <td>808</td>\n",
       "      <td>50.722100</td>\n",
       "      <td>55.396305</td>\n",
       "      <td>22.208175</td>\n",
       "      <td>([0, 1, 2, 3, 4, 5, 6, 7, 8, 9, 10, 11, 12, 13...</td>\n",
       "    </tr>\n",
       "    <tr>\n",
       "      <th>19</th>\n",
       "      <td>drug_naive_false</td>\n",
       "      <td>age</td>\n",
       "      <td>F</td>\n",
       "      <td>1699</td>\n",
       "      <td>300.0</td>\n",
       "      <td>1339</td>\n",
       "      <td>47.962792</td>\n",
       "      <td>49.000000</td>\n",
       "      <td>20.196797</td>\n",
       "      <td>([0, 1, 2, 3, 4, 5, 6, 7, 8, 9, 10, 11, 12, 13...</td>\n",
       "    </tr>\n",
       "    <tr>\n",
       "      <th>20</th>\n",
       "      <td>drug_naive_false</td>\n",
       "      <td>age</td>\n",
       "      <td>all</td>\n",
       "      <td>2920</td>\n",
       "      <td>596.0</td>\n",
       "      <td>2177</td>\n",
       "      <td>48.565319</td>\n",
       "      <td>51.000000</td>\n",
       "      <td>21.377419</td>\n",
       "      <td>([0, 1, 2, 3, 4, 5, 6, 7, 8, 9, 10, 11, 12, 13...</td>\n",
       "    </tr>\n",
       "    <tr>\n",
       "      <th>21</th>\n",
       "      <td>drug_naive_false</td>\n",
       "      <td>wt</td>\n",
       "      <td>M</td>\n",
       "      <td>1030</td>\n",
       "      <td>585.0</td>\n",
       "      <td>445</td>\n",
       "      <td>63.047315</td>\n",
       "      <td>70.599998</td>\n",
       "      <td>37.045828</td>\n",
       "      <td>([0, 1, 2, 3, 4, 5, 6, 7, 8, 9, 10, 11, 12, 13...</td>\n",
       "    </tr>\n",
       "    <tr>\n",
       "      <th>22</th>\n",
       "      <td>drug_naive_false</td>\n",
       "      <td>wt</td>\n",
       "      <td>F</td>\n",
       "      <td>1699</td>\n",
       "      <td>1047.0</td>\n",
       "      <td>651</td>\n",
       "      <td>63.070302</td>\n",
       "      <td>64.400000</td>\n",
       "      <td>29.090892</td>\n",
       "      <td>([0, 1, 2, 3, 4, 5, 6, 7, 8, 9, 10, 11, 12, 13...</td>\n",
       "    </tr>\n",
       "    <tr>\n",
       "      <th>23</th>\n",
       "      <td>drug_naive_false</td>\n",
       "      <td>wt</td>\n",
       "      <td>all</td>\n",
       "      <td>2920</td>\n",
       "      <td>1816.0</td>\n",
       "      <td>1103</td>\n",
       "      <td>62.721452</td>\n",
       "      <td>66.000000</td>\n",
       "      <td>32.760764</td>\n",
       "      <td>([0, 1, 2, 3, 4, 5, 6, 7, 8, 9, 10, 11, 12, 13...</td>\n",
       "    </tr>\n",
       "  </tbody>\n",
       "</table>\n",
       "</div>"
      ],
      "text/plain": [
       "               label variable  sex     n  n_missing  n_valid       mean  \\\n",
       "0          true_true      age    M     0        NaN        0        NaN   \n",
       "1          true_true      age    F     0        NaN        0        NaN   \n",
       "2          true_true      age  all     0        NaN        0        NaN   \n",
       "3          true_true       wt    M     0        NaN        0        NaN   \n",
       "4          true_true       wt    F     0        NaN        0        NaN   \n",
       "5          true_true       wt  all     0        NaN        0        NaN   \n",
       "6         true_false      age    M     0        NaN        0        NaN   \n",
       "7         true_false      age    F     0        NaN        0        NaN   \n",
       "8         true_false      age  all     0        NaN        0        NaN   \n",
       "9         true_false       wt    M     0        NaN        0        NaN   \n",
       "10        true_false       wt    F     0        NaN        0        NaN   \n",
       "11        true_false       wt  all     0        NaN        0        NaN   \n",
       "12   drug_naive_true      age    M    59        4.0       52  55.487661   \n",
       "13   drug_naive_true      age    F    84       13.0       66  57.436746   \n",
       "14   drug_naive_true      age  all   148       22.0      118  56.577827   \n",
       "15   drug_naive_true       wt    M    59       27.0       32  72.345937   \n",
       "16   drug_naive_true       wt    F    84       40.0       44  64.192727   \n",
       "17   drug_naive_true       wt  all   148       72.0       76  67.625658   \n",
       "18  drug_naive_false      age    M  1030      147.0      808  50.722100   \n",
       "19  drug_naive_false      age    F  1699      300.0     1339  47.962792   \n",
       "20  drug_naive_false      age  all  2920      596.0     2177  48.565319   \n",
       "21  drug_naive_false       wt    M  1030      585.0      445  63.047315   \n",
       "22  drug_naive_false       wt    F  1699     1047.0      651  63.070302   \n",
       "23  drug_naive_false       wt  all  2920     1816.0     1103  62.721452   \n",
       "\n",
       "       median        std                                                kde  \n",
       "0         NaN        NaN                                                NaN  \n",
       "1         NaN        NaN                                                NaN  \n",
       "2         NaN        NaN                                                NaN  \n",
       "3         NaN        NaN                                                NaN  \n",
       "4         NaN        NaN                                                NaN  \n",
       "5         NaN        NaN                                                NaN  \n",
       "6         NaN        NaN                                                NaN  \n",
       "7         NaN        NaN                                                NaN  \n",
       "8         NaN        NaN                                                NaN  \n",
       "9         NaN        NaN                                                NaN  \n",
       "10        NaN        NaN                                                NaN  \n",
       "11        NaN        NaN                                                NaN  \n",
       "12  59.849421  22.983505  ([0, 1, 2, 3, 4, 5, 6, 7, 8, 9, 10, 11, 12, 13...  \n",
       "13  60.957001  19.849504  ([0, 1, 2, 3, 4, 5, 6, 7, 8, 9, 10, 11, 12, 13...  \n",
       "14  60.000000  21.309510  ([0, 1, 2, 3, 4, 5, 6, 7, 8, 9, 10, 11, 12, 13...  \n",
       "15  70.500000  45.403722  ([0, 1, 2, 3, 4, 5, 6, 7, 8, 9, 10, 11, 12, 13...  \n",
       "16  63.250000  24.022850  ([0, 1, 2, 3, 4, 5, 6, 7, 8, 9, 10, 11, 12, 13...  \n",
       "17  67.064999  34.904334  ([0, 1, 2, 3, 4, 5, 6, 7, 8, 9, 10, 11, 12, 13...  \n",
       "18  55.396305  22.208175  ([0, 1, 2, 3, 4, 5, 6, 7, 8, 9, 10, 11, 12, 13...  \n",
       "19  49.000000  20.196797  ([0, 1, 2, 3, 4, 5, 6, 7, 8, 9, 10, 11, 12, 13...  \n",
       "20  51.000000  21.377419  ([0, 1, 2, 3, 4, 5, 6, 7, 8, 9, 10, 11, 12, 13...  \n",
       "21  70.599998  37.045828  ([0, 1, 2, 3, 4, 5, 6, 7, 8, 9, 10, 11, 12, 13...  \n",
       "22  64.400000  29.090892  ([0, 1, 2, 3, 4, 5, 6, 7, 8, 9, 10, 11, 12, 13...  \n",
       "23  66.000000  32.760764  ([0, 1, 2, 3, 4, 5, 6, 7, 8, 9, 10, 11, 12, 13...  "
      ]
     },
     "execution_count": 10,
     "metadata": {},
     "output_type": "execute_result"
    }
   ],
   "source": [
    "df"
   ]
  },
  {
   "cell_type": "code",
   "execution_count": 14,
   "metadata": {
    "ExecuteTime": {
     "end_time": "2018-07-05T17:54:33.140324Z",
     "start_time": "2018-07-05T17:54:33.130659Z"
    }
   },
   "outputs": [],
   "source": [
    "def eval_(k):\n",
    "    try:\n",
    "        return eval(k)\n",
    "    except:\n",
    "        return [[], []]"
   ]
  },
  {
   "cell_type": "code",
   "execution_count": 15,
   "metadata": {
    "ExecuteTime": {
     "end_time": "2018-07-05T17:54:34.091788Z",
     "start_time": "2018-07-05T17:54:33.669385Z"
    }
   },
   "outputs": [],
   "source": [
    "df = pd.read_csv('../data/interim/demographic_summary/Phentermine cardio adr - cardio total.csv')\n",
    "df['kde'] = [eval_(k) for k in df['kde']]\n",
    "gr = df.groupby('label')\n",
    "rows = []\n",
    "for _, group in gr:\n",
    "    rows.extend(group_rows(group))\n",
    "    rows.append('<tr></tr>')"
   ]
  },
  {
   "cell_type": "code",
   "execution_count": 16,
   "metadata": {
    "ExecuteTime": {
     "end_time": "2018-07-05T17:54:35.202652Z",
     "start_time": "2018-07-05T17:54:35.187586Z"
    }
   },
   "outputs": [
    {
     "data": {
      "text/plain": [
       "45081"
      ]
     },
     "execution_count": 16,
     "metadata": {},
     "output_type": "execute_result"
    }
   ],
   "source": [
    "table = \"\"\"\n",
    "<!DOCTYPE html>\n",
    "<html>\n",
    "<head>\n",
    "<style>\n",
    "table, th, td {\n",
    "    border: 0px solid black;\n",
    "}\n",
    "</style>\n",
    "</head>\n",
    "<body>\n",
    "\n",
    "<table>\n",
    "  <caption>\n",
    "    configuration name\n",
    "  </caption>\n",
    "  <tbody>\n",
    "      \n",
    "\t\t<tr>\n",
    "\t\t\t<th></th>\n",
    "\t\t\t<th></th>\n",
    "            <th></th>\n",
    "\t\t\t<th align=\"left\" colspan=\"4\">Age</th>\n",
    "\t\t\t<th align=\"left\" colspan=\"4\">Weight</th>\n",
    "\t\t</tr>\n",
    "\t\t<tr>\n",
    "\t\t\t<th></th>\n",
    "\t\t\t<th>Gender</th>\n",
    "\t\t\t<th>N</th>\n",
    "\t\t\t<th>median</th>\n",
    "\t\t\t<th>mean</th>\n",
    "\t\t\t<th>std</th>\n",
    "\t\t\t<th></th>\n",
    "\t\t\t<th>median</th>\n",
    "\t\t\t<th>mean</th>\n",
    "\t\t\t<th>std</th>\n",
    "\t\t\t<th></th>\n",
    "\t\t</tr>\n",
    "\t\t%%%TROWS%%%\n",
    "\t\t\n",
    "\t</tbody>\n",
    "    \n",
    "</table>\n",
    " \n",
    "</body>\n",
    "</html>\n",
    "\"\"\".replace(\n",
    "    \"%%%TROWS%%%\", '\\n'.join(rows)\n",
    ").replace(\n",
    "    'configuration name',\n",
    "    'Phentermine cardio adr - cardio non valve and pulmonary'\n",
    ")\n",
    "open('/Users/boris/temp/z.html', 'w').write(table)"
   ]
  },
  {
   "cell_type": "code",
   "execution_count": 18,
   "metadata": {
    "ExecuteTime": {
     "end_time": "2018-07-05T17:54:41.930269Z",
     "start_time": "2018-07-05T17:54:41.880935Z"
    }
   },
   "outputs": [
    {
     "data": {
      "text/html": [
       "<div>\n",
       "<style scoped>\n",
       "    .dataframe tbody tr th:only-of-type {\n",
       "        vertical-align: middle;\n",
       "    }\n",
       "\n",
       "    .dataframe tbody tr th {\n",
       "        vertical-align: top;\n",
       "    }\n",
       "\n",
       "    .dataframe thead th {\n",
       "        text-align: right;\n",
       "    }\n",
       "</style>\n",
       "<table border=\"1\" class=\"dataframe\">\n",
       "  <thead>\n",
       "    <tr style=\"text-align: right;\">\n",
       "      <th></th>\n",
       "      <th>label</th>\n",
       "      <th>variable</th>\n",
       "      <th>sex</th>\n",
       "      <th>n</th>\n",
       "      <th>n_missing</th>\n",
       "      <th>n_valid</th>\n",
       "      <th>mean</th>\n",
       "      <th>median</th>\n",
       "      <th>std</th>\n",
       "      <th>kde</th>\n",
       "    </tr>\n",
       "  </thead>\n",
       "  <tbody>\n",
       "    <tr>\n",
       "      <th>0</th>\n",
       "      <td>true_true</td>\n",
       "      <td>age</td>\n",
       "      <td>M</td>\n",
       "      <td>0</td>\n",
       "      <td>NaN</td>\n",
       "      <td>0</td>\n",
       "      <td>NaN</td>\n",
       "      <td>NaN</td>\n",
       "      <td>NaN</td>\n",
       "      <td>[[], []]</td>\n",
       "    </tr>\n",
       "    <tr>\n",
       "      <th>1</th>\n",
       "      <td>true_true</td>\n",
       "      <td>age</td>\n",
       "      <td>F</td>\n",
       "      <td>0</td>\n",
       "      <td>NaN</td>\n",
       "      <td>0</td>\n",
       "      <td>NaN</td>\n",
       "      <td>NaN</td>\n",
       "      <td>NaN</td>\n",
       "      <td>[[], []]</td>\n",
       "    </tr>\n",
       "    <tr>\n",
       "      <th>2</th>\n",
       "      <td>true_true</td>\n",
       "      <td>age</td>\n",
       "      <td>all</td>\n",
       "      <td>0</td>\n",
       "      <td>NaN</td>\n",
       "      <td>0</td>\n",
       "      <td>NaN</td>\n",
       "      <td>NaN</td>\n",
       "      <td>NaN</td>\n",
       "      <td>[[], []]</td>\n",
       "    </tr>\n",
       "    <tr>\n",
       "      <th>3</th>\n",
       "      <td>true_true</td>\n",
       "      <td>wt</td>\n",
       "      <td>M</td>\n",
       "      <td>0</td>\n",
       "      <td>NaN</td>\n",
       "      <td>0</td>\n",
       "      <td>NaN</td>\n",
       "      <td>NaN</td>\n",
       "      <td>NaN</td>\n",
       "      <td>[[], []]</td>\n",
       "    </tr>\n",
       "    <tr>\n",
       "      <th>4</th>\n",
       "      <td>true_true</td>\n",
       "      <td>wt</td>\n",
       "      <td>F</td>\n",
       "      <td>0</td>\n",
       "      <td>NaN</td>\n",
       "      <td>0</td>\n",
       "      <td>NaN</td>\n",
       "      <td>NaN</td>\n",
       "      <td>NaN</td>\n",
       "      <td>[[], []]</td>\n",
       "    </tr>\n",
       "    <tr>\n",
       "      <th>5</th>\n",
       "      <td>true_true</td>\n",
       "      <td>wt</td>\n",
       "      <td>all</td>\n",
       "      <td>0</td>\n",
       "      <td>NaN</td>\n",
       "      <td>0</td>\n",
       "      <td>NaN</td>\n",
       "      <td>NaN</td>\n",
       "      <td>NaN</td>\n",
       "      <td>[[], []]</td>\n",
       "    </tr>\n",
       "    <tr>\n",
       "      <th>6</th>\n",
       "      <td>true_false</td>\n",
       "      <td>age</td>\n",
       "      <td>M</td>\n",
       "      <td>0</td>\n",
       "      <td>NaN</td>\n",
       "      <td>0</td>\n",
       "      <td>NaN</td>\n",
       "      <td>NaN</td>\n",
       "      <td>NaN</td>\n",
       "      <td>[[], []]</td>\n",
       "    </tr>\n",
       "    <tr>\n",
       "      <th>7</th>\n",
       "      <td>true_false</td>\n",
       "      <td>age</td>\n",
       "      <td>F</td>\n",
       "      <td>0</td>\n",
       "      <td>NaN</td>\n",
       "      <td>0</td>\n",
       "      <td>NaN</td>\n",
       "      <td>NaN</td>\n",
       "      <td>NaN</td>\n",
       "      <td>[[], []]</td>\n",
       "    </tr>\n",
       "    <tr>\n",
       "      <th>8</th>\n",
       "      <td>true_false</td>\n",
       "      <td>age</td>\n",
       "      <td>all</td>\n",
       "      <td>0</td>\n",
       "      <td>NaN</td>\n",
       "      <td>0</td>\n",
       "      <td>NaN</td>\n",
       "      <td>NaN</td>\n",
       "      <td>NaN</td>\n",
       "      <td>[[], []]</td>\n",
       "    </tr>\n",
       "    <tr>\n",
       "      <th>9</th>\n",
       "      <td>true_false</td>\n",
       "      <td>wt</td>\n",
       "      <td>M</td>\n",
       "      <td>0</td>\n",
       "      <td>NaN</td>\n",
       "      <td>0</td>\n",
       "      <td>NaN</td>\n",
       "      <td>NaN</td>\n",
       "      <td>NaN</td>\n",
       "      <td>[[], []]</td>\n",
       "    </tr>\n",
       "    <tr>\n",
       "      <th>10</th>\n",
       "      <td>true_false</td>\n",
       "      <td>wt</td>\n",
       "      <td>F</td>\n",
       "      <td>0</td>\n",
       "      <td>NaN</td>\n",
       "      <td>0</td>\n",
       "      <td>NaN</td>\n",
       "      <td>NaN</td>\n",
       "      <td>NaN</td>\n",
       "      <td>[[], []]</td>\n",
       "    </tr>\n",
       "    <tr>\n",
       "      <th>11</th>\n",
       "      <td>true_false</td>\n",
       "      <td>wt</td>\n",
       "      <td>all</td>\n",
       "      <td>0</td>\n",
       "      <td>NaN</td>\n",
       "      <td>0</td>\n",
       "      <td>NaN</td>\n",
       "      <td>NaN</td>\n",
       "      <td>NaN</td>\n",
       "      <td>[[], []]</td>\n",
       "    </tr>\n",
       "    <tr>\n",
       "      <th>12</th>\n",
       "      <td>drug_naive_true</td>\n",
       "      <td>age</td>\n",
       "      <td>M</td>\n",
       "      <td>59</td>\n",
       "      <td>4.0</td>\n",
       "      <td>52</td>\n",
       "      <td>55.487661</td>\n",
       "      <td>59.849421</td>\n",
       "      <td>22.983505</td>\n",
       "      <td>([0, 1, 2, 3, 4, 5, 6, 7, 8, 9, 10, 11, 12, 13...</td>\n",
       "    </tr>\n",
       "    <tr>\n",
       "      <th>13</th>\n",
       "      <td>drug_naive_true</td>\n",
       "      <td>age</td>\n",
       "      <td>F</td>\n",
       "      <td>84</td>\n",
       "      <td>13.0</td>\n",
       "      <td>66</td>\n",
       "      <td>57.436746</td>\n",
       "      <td>60.957001</td>\n",
       "      <td>19.849504</td>\n",
       "      <td>([0, 1, 2, 3, 4, 5, 6, 7, 8, 9, 10, 11, 12, 13...</td>\n",
       "    </tr>\n",
       "    <tr>\n",
       "      <th>14</th>\n",
       "      <td>drug_naive_true</td>\n",
       "      <td>age</td>\n",
       "      <td>all</td>\n",
       "      <td>148</td>\n",
       "      <td>22.0</td>\n",
       "      <td>118</td>\n",
       "      <td>56.577827</td>\n",
       "      <td>60.000000</td>\n",
       "      <td>21.309510</td>\n",
       "      <td>([0, 1, 2, 3, 4, 5, 6, 7, 8, 9, 10, 11, 12, 13...</td>\n",
       "    </tr>\n",
       "    <tr>\n",
       "      <th>15</th>\n",
       "      <td>drug_naive_true</td>\n",
       "      <td>wt</td>\n",
       "      <td>M</td>\n",
       "      <td>59</td>\n",
       "      <td>27.0</td>\n",
       "      <td>32</td>\n",
       "      <td>72.345937</td>\n",
       "      <td>70.500000</td>\n",
       "      <td>45.403722</td>\n",
       "      <td>([0, 1, 2, 3, 4, 5, 6, 7, 8, 9, 10, 11, 12, 13...</td>\n",
       "    </tr>\n",
       "    <tr>\n",
       "      <th>16</th>\n",
       "      <td>drug_naive_true</td>\n",
       "      <td>wt</td>\n",
       "      <td>F</td>\n",
       "      <td>84</td>\n",
       "      <td>40.0</td>\n",
       "      <td>44</td>\n",
       "      <td>64.192727</td>\n",
       "      <td>63.250000</td>\n",
       "      <td>24.022850</td>\n",
       "      <td>([0, 1, 2, 3, 4, 5, 6, 7, 8, 9, 10, 11, 12, 13...</td>\n",
       "    </tr>\n",
       "    <tr>\n",
       "      <th>17</th>\n",
       "      <td>drug_naive_true</td>\n",
       "      <td>wt</td>\n",
       "      <td>all</td>\n",
       "      <td>148</td>\n",
       "      <td>72.0</td>\n",
       "      <td>76</td>\n",
       "      <td>67.625658</td>\n",
       "      <td>67.064999</td>\n",
       "      <td>34.904334</td>\n",
       "      <td>([0, 1, 2, 3, 4, 5, 6, 7, 8, 9, 10, 11, 12, 13...</td>\n",
       "    </tr>\n",
       "    <tr>\n",
       "      <th>18</th>\n",
       "      <td>drug_naive_false</td>\n",
       "      <td>age</td>\n",
       "      <td>M</td>\n",
       "      <td>1030</td>\n",
       "      <td>147.0</td>\n",
       "      <td>808</td>\n",
       "      <td>50.722100</td>\n",
       "      <td>55.396305</td>\n",
       "      <td>22.208175</td>\n",
       "      <td>([0, 1, 2, 3, 4, 5, 6, 7, 8, 9, 10, 11, 12, 13...</td>\n",
       "    </tr>\n",
       "    <tr>\n",
       "      <th>19</th>\n",
       "      <td>drug_naive_false</td>\n",
       "      <td>age</td>\n",
       "      <td>F</td>\n",
       "      <td>1699</td>\n",
       "      <td>300.0</td>\n",
       "      <td>1339</td>\n",
       "      <td>47.962792</td>\n",
       "      <td>49.000000</td>\n",
       "      <td>20.196797</td>\n",
       "      <td>([0, 1, 2, 3, 4, 5, 6, 7, 8, 9, 10, 11, 12, 13...</td>\n",
       "    </tr>\n",
       "    <tr>\n",
       "      <th>20</th>\n",
       "      <td>drug_naive_false</td>\n",
       "      <td>age</td>\n",
       "      <td>all</td>\n",
       "      <td>2920</td>\n",
       "      <td>596.0</td>\n",
       "      <td>2177</td>\n",
       "      <td>48.565319</td>\n",
       "      <td>51.000000</td>\n",
       "      <td>21.377419</td>\n",
       "      <td>([0, 1, 2, 3, 4, 5, 6, 7, 8, 9, 10, 11, 12, 13...</td>\n",
       "    </tr>\n",
       "    <tr>\n",
       "      <th>21</th>\n",
       "      <td>drug_naive_false</td>\n",
       "      <td>wt</td>\n",
       "      <td>M</td>\n",
       "      <td>1030</td>\n",
       "      <td>585.0</td>\n",
       "      <td>445</td>\n",
       "      <td>63.047315</td>\n",
       "      <td>70.599998</td>\n",
       "      <td>37.045828</td>\n",
       "      <td>([0, 1, 2, 3, 4, 5, 6, 7, 8, 9, 10, 11, 12, 13...</td>\n",
       "    </tr>\n",
       "    <tr>\n",
       "      <th>22</th>\n",
       "      <td>drug_naive_false</td>\n",
       "      <td>wt</td>\n",
       "      <td>F</td>\n",
       "      <td>1699</td>\n",
       "      <td>1047.0</td>\n",
       "      <td>651</td>\n",
       "      <td>63.070302</td>\n",
       "      <td>64.400000</td>\n",
       "      <td>29.090892</td>\n",
       "      <td>([0, 1, 2, 3, 4, 5, 6, 7, 8, 9, 10, 11, 12, 13...</td>\n",
       "    </tr>\n",
       "    <tr>\n",
       "      <th>23</th>\n",
       "      <td>drug_naive_false</td>\n",
       "      <td>wt</td>\n",
       "      <td>all</td>\n",
       "      <td>2920</td>\n",
       "      <td>1816.0</td>\n",
       "      <td>1103</td>\n",
       "      <td>62.721452</td>\n",
       "      <td>66.000000</td>\n",
       "      <td>32.760764</td>\n",
       "      <td>([0, 1, 2, 3, 4, 5, 6, 7, 8, 9, 10, 11, 12, 13...</td>\n",
       "    </tr>\n",
       "  </tbody>\n",
       "</table>\n",
       "</div>"
      ],
      "text/plain": [
       "               label variable  sex     n  n_missing  n_valid       mean  \\\n",
       "0          true_true      age    M     0        NaN        0        NaN   \n",
       "1          true_true      age    F     0        NaN        0        NaN   \n",
       "2          true_true      age  all     0        NaN        0        NaN   \n",
       "3          true_true       wt    M     0        NaN        0        NaN   \n",
       "4          true_true       wt    F     0        NaN        0        NaN   \n",
       "5          true_true       wt  all     0        NaN        0        NaN   \n",
       "6         true_false      age    M     0        NaN        0        NaN   \n",
       "7         true_false      age    F     0        NaN        0        NaN   \n",
       "8         true_false      age  all     0        NaN        0        NaN   \n",
       "9         true_false       wt    M     0        NaN        0        NaN   \n",
       "10        true_false       wt    F     0        NaN        0        NaN   \n",
       "11        true_false       wt  all     0        NaN        0        NaN   \n",
       "12   drug_naive_true      age    M    59        4.0       52  55.487661   \n",
       "13   drug_naive_true      age    F    84       13.0       66  57.436746   \n",
       "14   drug_naive_true      age  all   148       22.0      118  56.577827   \n",
       "15   drug_naive_true       wt    M    59       27.0       32  72.345937   \n",
       "16   drug_naive_true       wt    F    84       40.0       44  64.192727   \n",
       "17   drug_naive_true       wt  all   148       72.0       76  67.625658   \n",
       "18  drug_naive_false      age    M  1030      147.0      808  50.722100   \n",
       "19  drug_naive_false      age    F  1699      300.0     1339  47.962792   \n",
       "20  drug_naive_false      age  all  2920      596.0     2177  48.565319   \n",
       "21  drug_naive_false       wt    M  1030      585.0      445  63.047315   \n",
       "22  drug_naive_false       wt    F  1699     1047.0      651  63.070302   \n",
       "23  drug_naive_false       wt  all  2920     1816.0     1103  62.721452   \n",
       "\n",
       "       median        std                                                kde  \n",
       "0         NaN        NaN                                           [[], []]  \n",
       "1         NaN        NaN                                           [[], []]  \n",
       "2         NaN        NaN                                           [[], []]  \n",
       "3         NaN        NaN                                           [[], []]  \n",
       "4         NaN        NaN                                           [[], []]  \n",
       "5         NaN        NaN                                           [[], []]  \n",
       "6         NaN        NaN                                           [[], []]  \n",
       "7         NaN        NaN                                           [[], []]  \n",
       "8         NaN        NaN                                           [[], []]  \n",
       "9         NaN        NaN                                           [[], []]  \n",
       "10        NaN        NaN                                           [[], []]  \n",
       "11        NaN        NaN                                           [[], []]  \n",
       "12  59.849421  22.983505  ([0, 1, 2, 3, 4, 5, 6, 7, 8, 9, 10, 11, 12, 13...  \n",
       "13  60.957001  19.849504  ([0, 1, 2, 3, 4, 5, 6, 7, 8, 9, 10, 11, 12, 13...  \n",
       "14  60.000000  21.309510  ([0, 1, 2, 3, 4, 5, 6, 7, 8, 9, 10, 11, 12, 13...  \n",
       "15  70.500000  45.403722  ([0, 1, 2, 3, 4, 5, 6, 7, 8, 9, 10, 11, 12, 13...  \n",
       "16  63.250000  24.022850  ([0, 1, 2, 3, 4, 5, 6, 7, 8, 9, 10, 11, 12, 13...  \n",
       "17  67.064999  34.904334  ([0, 1, 2, 3, 4, 5, 6, 7, 8, 9, 10, 11, 12, 13...  \n",
       "18  55.396305  22.208175  ([0, 1, 2, 3, 4, 5, 6, 7, 8, 9, 10, 11, 12, 13...  \n",
       "19  49.000000  20.196797  ([0, 1, 2, 3, 4, 5, 6, 7, 8, 9, 10, 11, 12, 13...  \n",
       "20  51.000000  21.377419  ([0, 1, 2, 3, 4, 5, 6, 7, 8, 9, 10, 11, 12, 13...  \n",
       "21  70.599998  37.045828  ([0, 1, 2, 3, 4, 5, 6, 7, 8, 9, 10, 11, 12, 13...  \n",
       "22  64.400000  29.090892  ([0, 1, 2, 3, 4, 5, 6, 7, 8, 9, 10, 11, 12, 13...  \n",
       "23  66.000000  32.760764  ([0, 1, 2, 3, 4, 5, 6, 7, 8, 9, 10, 11, 12, 13...  "
      ]
     },
     "execution_count": 18,
     "metadata": {},
     "output_type": "execute_result"
    }
   ],
   "source": [
    "df"
   ]
  },
  {
   "cell_type": "code",
   "execution_count": 17,
   "metadata": {
    "ExecuteTime": {
     "end_time": "2018-07-05T17:54:37.571665Z",
     "start_time": "2018-07-05T17:54:37.550594Z"
    }
   },
   "outputs": [
    {
     "ename": "AttributeError",
     "evalue": "'DataFrame' object has no attribute 'age'",
     "output_type": "error",
     "traceback": [
      "\u001b[0;31m---------------------------------------------------------------------------\u001b[0m",
      "\u001b[0;31mAttributeError\u001b[0m                            Traceback (most recent call last)",
      "\u001b[0;32m<ipython-input-17-a4450f81c468>\u001b[0m in \u001b[0;36m<module>\u001b[0;34m()\u001b[0m\n\u001b[0;32m----> 1\u001b[0;31m \u001b[0mn_all\u001b[0m \u001b[0;34m=\u001b[0m \u001b[0mlen\u001b[0m\u001b[0;34m(\u001b[0m\u001b[0mdf\u001b[0m\u001b[0;34m.\u001b[0m\u001b[0mage\u001b[0m\u001b[0;34m)\u001b[0m\u001b[0;34m\u001b[0m\u001b[0m\n\u001b[0m\u001b[1;32m      2\u001b[0m \u001b[0mage\u001b[0m \u001b[0;34m=\u001b[0m \u001b[0mdf\u001b[0m\u001b[0;34m.\u001b[0m\u001b[0mwt\u001b[0m\u001b[0;34m.\u001b[0m\u001b[0mdropna\u001b[0m\u001b[0;34m(\u001b[0m\u001b[0;34m)\u001b[0m\u001b[0;34m\u001b[0m\u001b[0m\n\u001b[1;32m      3\u001b[0m \u001b[0mn\u001b[0m \u001b[0;34m=\u001b[0m \u001b[0mlen\u001b[0m\u001b[0;34m(\u001b[0m\u001b[0mage\u001b[0m\u001b[0;34m)\u001b[0m\u001b[0;34m\u001b[0m\u001b[0m\n\u001b[1;32m      4\u001b[0m \u001b[0mage\u001b[0m \u001b[0;34m=\u001b[0m \u001b[0mage\u001b[0m\u001b[0;34m[\u001b[0m\u001b[0;34m(\u001b[0m\u001b[0mage\u001b[0m \u001b[0;34m>\u001b[0m \u001b[0;36m0\u001b[0m\u001b[0;34m)\u001b[0m \u001b[0;34m&\u001b[0m \u001b[0;34m(\u001b[0m\u001b[0mage\u001b[0m \u001b[0;34m<\u001b[0m \u001b[0;36m120\u001b[0m\u001b[0;34m)\u001b[0m\u001b[0;34m]\u001b[0m\u001b[0;34m\u001b[0m\u001b[0m\n\u001b[1;32m      5\u001b[0m \u001b[0mn_valid\u001b[0m \u001b[0;34m=\u001b[0m \u001b[0mlen\u001b[0m\u001b[0;34m(\u001b[0m\u001b[0mage\u001b[0m\u001b[0;34m)\u001b[0m\u001b[0;34m\u001b[0m\u001b[0m\n",
      "\u001b[0;32m~/anaconda3/lib/python3.6/site-packages/pandas/core/generic.py\u001b[0m in \u001b[0;36m__getattr__\u001b[0;34m(self, name)\u001b[0m\n\u001b[1;32m   4370\u001b[0m             \u001b[0;32mif\u001b[0m \u001b[0mself\u001b[0m\u001b[0;34m.\u001b[0m\u001b[0m_info_axis\u001b[0m\u001b[0;34m.\u001b[0m\u001b[0m_can_hold_identifiers_and_holds_name\u001b[0m\u001b[0;34m(\u001b[0m\u001b[0mname\u001b[0m\u001b[0;34m)\u001b[0m\u001b[0;34m:\u001b[0m\u001b[0;34m\u001b[0m\u001b[0m\n\u001b[1;32m   4371\u001b[0m                 \u001b[0;32mreturn\u001b[0m \u001b[0mself\u001b[0m\u001b[0;34m[\u001b[0m\u001b[0mname\u001b[0m\u001b[0;34m]\u001b[0m\u001b[0;34m\u001b[0m\u001b[0m\n\u001b[0;32m-> 4372\u001b[0;31m             \u001b[0;32mreturn\u001b[0m \u001b[0mobject\u001b[0m\u001b[0;34m.\u001b[0m\u001b[0m__getattribute__\u001b[0m\u001b[0;34m(\u001b[0m\u001b[0mself\u001b[0m\u001b[0;34m,\u001b[0m \u001b[0mname\u001b[0m\u001b[0;34m)\u001b[0m\u001b[0;34m\u001b[0m\u001b[0m\n\u001b[0m\u001b[1;32m   4373\u001b[0m \u001b[0;34m\u001b[0m\u001b[0m\n\u001b[1;32m   4374\u001b[0m     \u001b[0;32mdef\u001b[0m \u001b[0m__setattr__\u001b[0m\u001b[0;34m(\u001b[0m\u001b[0mself\u001b[0m\u001b[0;34m,\u001b[0m \u001b[0mname\u001b[0m\u001b[0;34m,\u001b[0m \u001b[0mvalue\u001b[0m\u001b[0;34m)\u001b[0m\u001b[0;34m:\u001b[0m\u001b[0;34m\u001b[0m\u001b[0m\n",
      "\u001b[0;31mAttributeError\u001b[0m: 'DataFrame' object has no attribute 'age'"
     ]
    }
   ],
   "source": [
    "n_all = len(df.age)\n",
    "age = df.wt.dropna()\n",
    "n = len(age)\n",
    "age = age[(age > 0) & (age < 120)]\n",
    "n_valid = len(age)\n",
    "p = n / n_all\n",
    "p_valid = n_valid / n\n",
    "print(f'{p:.3f} {p_valid:.3f}')"
   ]
  },
  {
   "cell_type": "code",
   "execution_count": null,
   "metadata": {
    "ExecuteTime": {
     "end_time": "2018-07-02T04:32:02.078738Z",
     "start_time": "2018-07-02T04:32:02.076057Z"
    }
   },
   "outputs": [],
   "source": [
    "bins = np.arange(0, 240.5, 1)"
   ]
  },
  {
   "cell_type": "code",
   "execution_count": null,
   "metadata": {
    "ExecuteTime": {
     "end_time": "2018-07-02T04:36:42.727719Z",
     "start_time": "2018-07-02T04:36:42.622529Z"
    }
   },
   "outputs": [],
   "source": [
    "counts = pd.value_counts(age, bins=bins).sort_index()"
   ]
  },
  {
   "cell_type": "code",
   "execution_count": null,
   "metadata": {
    "ExecuteTime": {
     "end_time": "2018-07-02T04:36:53.865583Z",
     "start_time": "2018-07-02T04:36:53.859339Z"
    }
   },
   "outputs": [],
   "source": [
    "counts.index.values"
   ]
  },
  {
   "cell_type": "code",
   "execution_count": null,
   "metadata": {
    "ExecuteTime": {
     "end_time": "2018-07-02T04:32:03.170775Z",
     "start_time": "2018-07-02T04:32:03.061442Z"
    }
   },
   "outputs": [],
   "source": [
    "plt.plot(\n",
    "    [i.mid for i in counts.index],\n",
    "    counts, \n",
    "    '-'\n",
    ")"
   ]
  },
  {
   "cell_type": "code",
   "execution_count": null,
   "metadata": {
    "ExecuteTime": {
     "end_time": "2018-07-02T04:29:41.362060Z",
     "start_time": "2018-07-02T04:29:41.323943Z"
    }
   },
   "outputs": [],
   "source": [
    "counts = pd.value_counts(age.astype(int)).sort_index()"
   ]
  },
  {
   "cell_type": "code",
   "execution_count": null,
   "metadata": {},
   "outputs": [],
   "source": []
  },
  {
   "cell_type": "code",
   "execution_count": null,
   "metadata": {},
   "outputs": [],
   "source": []
  },
  {
   "cell_type": "code",
   "execution_count": null,
   "metadata": {},
   "outputs": [],
   "source": []
  },
  {
   "cell_type": "code",
   "execution_count": null,
   "metadata": {},
   "outputs": [],
   "source": []
  },
  {
   "cell_type": "code",
   "execution_count": null,
   "metadata": {},
   "outputs": [],
   "source": []
  },
  {
   "cell_type": "code",
   "execution_count": 19,
   "metadata": {
    "ExecuteTime": {
     "end_time": "2018-07-05T17:55:18.425917Z",
     "start_time": "2018-07-05T17:55:18.360590Z"
    }
   },
   "outputs": [],
   "source": [
    "dir_demo_data = \"../data/interim/demographic_analysis/belviq total cartiovascular reactions\"\n",
    "files = glob(os.path.join(dir_demo_data, '*.csv.zip'))\n",
    "df_demo = pd.concat(\n",
    "    [pd.read_csv(f) for f in files]\n",
    ")"
   ]
  },
  {
   "cell_type": "code",
   "execution_count": 20,
   "metadata": {
    "ExecuteTime": {
     "end_time": "2018-07-05T17:55:20.127161Z",
     "start_time": "2018-07-05T17:55:20.111600Z"
    }
   },
   "outputs": [
    {
     "data": {
      "text/html": [
       "<div>\n",
       "<style scoped>\n",
       "    .dataframe tbody tr th:only-of-type {\n",
       "        vertical-align: middle;\n",
       "    }\n",
       "\n",
       "    .dataframe tbody tr th {\n",
       "        vertical-align: top;\n",
       "    }\n",
       "\n",
       "    .dataframe thead th {\n",
       "        text-align: right;\n",
       "    }\n",
       "</style>\n",
       "<table border=\"1\" class=\"dataframe\">\n",
       "  <thead>\n",
       "    <tr style=\"text-align: right;\">\n",
       "      <th></th>\n",
       "      <th>caseid</th>\n",
       "      <th>true_true</th>\n",
       "      <th>true_false</th>\n",
       "      <th>drug_naive_true</th>\n",
       "      <th>drug_naive_false</th>\n",
       "      <th>age</th>\n",
       "      <th>sex</th>\n",
       "      <th>wt</th>\n",
       "      <th>event_date</th>\n",
       "    </tr>\n",
       "  </thead>\n",
       "  <tbody>\n",
       "    <tr>\n",
       "      <th>128</th>\n",
       "      <td>6805028</td>\n",
       "      <td>False</td>\n",
       "      <td>False</td>\n",
       "      <td>False</td>\n",
       "      <td>True</td>\n",
       "      <td>5742.0</td>\n",
       "      <td>M</td>\n",
       "      <td>67.00</td>\n",
       "      <td>2008-07-02</td>\n",
       "    </tr>\n",
       "    <tr>\n",
       "      <th>129</th>\n",
       "      <td>6807459</td>\n",
       "      <td>False</td>\n",
       "      <td>False</td>\n",
       "      <td>False</td>\n",
       "      <td>True</td>\n",
       "      <td>52.0</td>\n",
       "      <td>F</td>\n",
       "      <td>72.00</td>\n",
       "      <td>2008-10-09</td>\n",
       "    </tr>\n",
       "    <tr>\n",
       "      <th>130</th>\n",
       "      <td>6808288</td>\n",
       "      <td>False</td>\n",
       "      <td>False</td>\n",
       "      <td>False</td>\n",
       "      <td>True</td>\n",
       "      <td>49.0</td>\n",
       "      <td>F</td>\n",
       "      <td>149.00</td>\n",
       "      <td>2008-02-08</td>\n",
       "    </tr>\n",
       "    <tr>\n",
       "      <th>131</th>\n",
       "      <td>6808703</td>\n",
       "      <td>False</td>\n",
       "      <td>False</td>\n",
       "      <td>False</td>\n",
       "      <td>True</td>\n",
       "      <td>0.0</td>\n",
       "      <td>M</td>\n",
       "      <td>3.31</td>\n",
       "      <td>2008-09-15</td>\n",
       "    </tr>\n",
       "    <tr>\n",
       "      <th>132</th>\n",
       "      <td>6811905</td>\n",
       "      <td>False</td>\n",
       "      <td>False</td>\n",
       "      <td>False</td>\n",
       "      <td>True</td>\n",
       "      <td>46.0</td>\n",
       "      <td>F</td>\n",
       "      <td>NaN</td>\n",
       "      <td>2005-04-24</td>\n",
       "    </tr>\n",
       "    <tr>\n",
       "      <th>133</th>\n",
       "      <td>6813321</td>\n",
       "      <td>False</td>\n",
       "      <td>False</td>\n",
       "      <td>False</td>\n",
       "      <td>True</td>\n",
       "      <td>53.0</td>\n",
       "      <td>F</td>\n",
       "      <td>NaN</td>\n",
       "      <td>2003-12-15</td>\n",
       "    </tr>\n",
       "    <tr>\n",
       "      <th>134</th>\n",
       "      <td>6814324</td>\n",
       "      <td>False</td>\n",
       "      <td>False</td>\n",
       "      <td>False</td>\n",
       "      <td>True</td>\n",
       "      <td>50.0</td>\n",
       "      <td>F</td>\n",
       "      <td>92.00</td>\n",
       "      <td>2005-07-02</td>\n",
       "    </tr>\n",
       "    <tr>\n",
       "      <th>135</th>\n",
       "      <td>6815534</td>\n",
       "      <td>False</td>\n",
       "      <td>False</td>\n",
       "      <td>False</td>\n",
       "      <td>True</td>\n",
       "      <td>40.0</td>\n",
       "      <td>F</td>\n",
       "      <td>45.91</td>\n",
       "      <td>2007-06-11</td>\n",
       "    </tr>\n",
       "    <tr>\n",
       "      <th>136</th>\n",
       "      <td>6821483</td>\n",
       "      <td>False</td>\n",
       "      <td>False</td>\n",
       "      <td>False</td>\n",
       "      <td>True</td>\n",
       "      <td>27.0</td>\n",
       "      <td>F</td>\n",
       "      <td>NaN</td>\n",
       "      <td>2008-11-12</td>\n",
       "    </tr>\n",
       "    <tr>\n",
       "      <th>137</th>\n",
       "      <td>6822753</td>\n",
       "      <td>False</td>\n",
       "      <td>False</td>\n",
       "      <td>False</td>\n",
       "      <td>True</td>\n",
       "      <td>68.0</td>\n",
       "      <td>M</td>\n",
       "      <td>116.00</td>\n",
       "      <td>2007-07-02</td>\n",
       "    </tr>\n",
       "  </tbody>\n",
       "</table>\n",
       "</div>"
      ],
      "text/plain": [
       "      caseid  true_true  true_false  drug_naive_true  drug_naive_false  \\\n",
       "128  6805028      False       False            False              True   \n",
       "129  6807459      False       False            False              True   \n",
       "130  6808288      False       False            False              True   \n",
       "131  6808703      False       False            False              True   \n",
       "132  6811905      False       False            False              True   \n",
       "133  6813321      False       False            False              True   \n",
       "134  6814324      False       False            False              True   \n",
       "135  6815534      False       False            False              True   \n",
       "136  6821483      False       False            False              True   \n",
       "137  6822753      False       False            False              True   \n",
       "\n",
       "        age sex      wt  event_date  \n",
       "128  5742.0   M   67.00  2008-07-02  \n",
       "129    52.0   F   72.00  2008-10-09  \n",
       "130    49.0   F  149.00  2008-02-08  \n",
       "131     0.0   M    3.31  2008-09-15  \n",
       "132    46.0   F     NaN  2005-04-24  \n",
       "133    53.0   F     NaN  2003-12-15  \n",
       "134    50.0   F   92.00  2005-07-02  \n",
       "135    40.0   F   45.91  2007-06-11  \n",
       "136    27.0   F     NaN  2008-11-12  \n",
       "137    68.0   M  116.00  2007-07-02  "
      ]
     },
     "execution_count": 20,
     "metadata": {},
     "output_type": "execute_result"
    }
   ],
   "source": [
    "df_demo.tail(10)"
   ]
  },
  {
   "cell_type": "code",
   "execution_count": null,
   "metadata": {
    "ExecuteTime": {
     "end_time": "2018-07-01T16:28:26.459077Z",
     "start_time": "2018-07-01T16:28:26.434636Z"
    }
   },
   "outputs": [],
   "source": []
  },
  {
   "cell_type": "code",
   "execution_count": 21,
   "metadata": {
    "ExecuteTime": {
     "end_time": "2018-07-05T17:55:21.332148Z",
     "start_time": "2018-07-05T17:55:21.323229Z"
    }
   },
   "outputs": [
    {
     "ename": "AttributeError",
     "evalue": "type object 'KDEUnivariate' has no attribute 'k'",
     "output_type": "error",
     "traceback": [
      "\u001b[0;31m---------------------------------------------------------------------------\u001b[0m",
      "\u001b[0;31mAttributeError\u001b[0m                            Traceback (most recent call last)",
      "\u001b[0;32m<ipython-input-21-4d1c3d64be0a>\u001b[0m in \u001b[0;36m<module>\u001b[0;34m()\u001b[0m\n\u001b[1;32m      1\u001b[0m \u001b[0;32mfrom\u001b[0m \u001b[0mstatsmodels\u001b[0m\u001b[0;34m.\u001b[0m\u001b[0mnonparametric\u001b[0m\u001b[0;34m.\u001b[0m\u001b[0mkde\u001b[0m \u001b[0;32mimport\u001b[0m \u001b[0mKDEUnivariate\u001b[0m\u001b[0;34m\u001b[0m\u001b[0m\n\u001b[0;32m----> 2\u001b[0;31m \u001b[0mKDEUnivariate\u001b[0m\u001b[0;34m.\u001b[0m\u001b[0mk\u001b[0m\u001b[0;34m\u001b[0m\u001b[0m\n\u001b[0m",
      "\u001b[0;31mAttributeError\u001b[0m: type object 'KDEUnivariate' has no attribute 'k'"
     ]
    }
   ],
   "source": [
    "from statsmodels.nonparametric.kde import KDEUnivariate\n",
    "KDEUnivariate.k"
   ]
  },
  {
   "cell_type": "code",
   "execution_count": 22,
   "metadata": {
    "ExecuteTime": {
     "end_time": "2018-07-05T17:55:23.267137Z",
     "start_time": "2018-07-05T17:55:23.258981Z"
    }
   },
   "outputs": [],
   "source": [
    "def summarize_config(config, dir_out):\n",
    "    dir_demo_data = config.get_xxx()\n",
    "    files = glob(os.path.join(dir_demo_data, '*.csv.zip'))\n",
    "    df_demo = pd.concat(\n",
    "        [pd.read_csv(f) for f in files]\n",
    "    )\n",
    "    rows = []\n",
    "    for label in ['true_true', 'true_false', 'drug_naive_true', 'drug_naive_false']:\n",
    "        for variable in ['age', 'wt']:\n",
    "            for sex in ['M', 'F', None]:\n",
    "                sel = df_demo[label] \n",
    "                if sex is not None:\n",
    "                    sel = sel & (df_demo['sex'] == sex)\n",
    "                values = df_demo.loc[sel][variable]\n",
    "                n = len(values)\n",
    "                values = values.dropna()\n",
    "                n_valid = len(values)\n",
    "                mean_ = np.mean(values)\n",
    "                std_ = np.std(values, ddof=1)\n",
    "                median_ = np.median(values)\n",
    "\n",
    "                kde = KDEUnivariate(values)\n",
    "                kde.fit()\n",
    "                mn = 0\n",
    "                mx = 120 if variable == 'age' else 240\n",
    "                x = np.arange(mn, mx)\n",
    "                kde_values = kde.evaluate(x)\n",
    "                row = {\n",
    "                    'label': label,\n",
    "                    'variable': variable,\n",
    "                    'sex': sex if sex else 'all',\n",
    "                    'n': n,\n",
    "                    'n_valid': n_valid,\n",
    "                    'mean': mean_,\n",
    "                    'median': median_,\n",
    "                    'std': std_,\n",
    "                    'kde': (x.tolist(), y.tolist())\n",
    "                }\n",
    "                rows.append(row)\n",
    "    processed = pd.DataFrame(rows)\n",
    "    fn_out = config.get_xxxx()\n",
    "    processed.to_csv(fn_out, index=False)"
   ]
  },
  {
   "cell_type": "code",
   "execution_count": 23,
   "metadata": {
    "ExecuteTime": {
     "end_time": "2018-07-05T17:55:29.120703Z",
     "start_time": "2018-07-05T17:55:29.108294Z"
    }
   },
   "outputs": [],
   "source": [
    "pd.DataFrame(rows).to_csv('/Users/boris/temp/z.csv')"
   ]
  },
  {
   "cell_type": "code",
   "execution_count": 24,
   "metadata": {
    "ExecuteTime": {
     "end_time": "2018-07-05T17:55:29.422265Z",
     "start_time": "2018-07-05T17:55:29.415506Z"
    }
   },
   "outputs": [],
   "source": [
    "z = pd.read_csv('/Users/boris/temp/z.csv')"
   ]
  },
  {
   "cell_type": "code",
   "execution_count": 25,
   "metadata": {
    "ExecuteTime": {
     "end_time": "2018-07-05T17:55:29.811509Z",
     "start_time": "2018-07-05T17:55:29.800335Z"
    }
   },
   "outputs": [
    {
     "ename": "AttributeError",
     "evalue": "'DataFrame' object has no attribute 'kde'",
     "output_type": "error",
     "traceback": [
      "\u001b[0;31m---------------------------------------------------------------------------\u001b[0m",
      "\u001b[0;31mAttributeError\u001b[0m                            Traceback (most recent call last)",
      "\u001b[0;32m<ipython-input-25-4ad0090f311d>\u001b[0m in \u001b[0;36m<module>\u001b[0;34m()\u001b[0m\n\u001b[0;32m----> 1\u001b[0;31m \u001b[0mzz\u001b[0m \u001b[0;34m=\u001b[0m \u001b[0meval\u001b[0m\u001b[0;34m(\u001b[0m\u001b[0mz\u001b[0m\u001b[0;34m.\u001b[0m\u001b[0mkde\u001b[0m\u001b[0;34m.\u001b[0m\u001b[0miloc\u001b[0m\u001b[0;34m[\u001b[0m\u001b[0;36m0\u001b[0m\u001b[0;34m]\u001b[0m\u001b[0;34m)\u001b[0m\u001b[0;34m\u001b[0m\u001b[0m\n\u001b[0m\u001b[1;32m      2\u001b[0m \u001b[0mtype\u001b[0m\u001b[0;34m(\u001b[0m\u001b[0mzz\u001b[0m\u001b[0;34m)\u001b[0m\u001b[0;34m\u001b[0m\u001b[0m\n",
      "\u001b[0;32m~/anaconda3/lib/python3.6/site-packages/pandas/core/generic.py\u001b[0m in \u001b[0;36m__getattr__\u001b[0;34m(self, name)\u001b[0m\n\u001b[1;32m   4370\u001b[0m             \u001b[0;32mif\u001b[0m \u001b[0mself\u001b[0m\u001b[0;34m.\u001b[0m\u001b[0m_info_axis\u001b[0m\u001b[0;34m.\u001b[0m\u001b[0m_can_hold_identifiers_and_holds_name\u001b[0m\u001b[0;34m(\u001b[0m\u001b[0mname\u001b[0m\u001b[0;34m)\u001b[0m\u001b[0;34m:\u001b[0m\u001b[0;34m\u001b[0m\u001b[0m\n\u001b[1;32m   4371\u001b[0m                 \u001b[0;32mreturn\u001b[0m \u001b[0mself\u001b[0m\u001b[0;34m[\u001b[0m\u001b[0mname\u001b[0m\u001b[0;34m]\u001b[0m\u001b[0;34m\u001b[0m\u001b[0m\n\u001b[0;32m-> 4372\u001b[0;31m             \u001b[0;32mreturn\u001b[0m \u001b[0mobject\u001b[0m\u001b[0;34m.\u001b[0m\u001b[0m__getattribute__\u001b[0m\u001b[0;34m(\u001b[0m\u001b[0mself\u001b[0m\u001b[0;34m,\u001b[0m \u001b[0mname\u001b[0m\u001b[0;34m)\u001b[0m\u001b[0;34m\u001b[0m\u001b[0m\n\u001b[0m\u001b[1;32m   4373\u001b[0m \u001b[0;34m\u001b[0m\u001b[0m\n\u001b[1;32m   4374\u001b[0m     \u001b[0;32mdef\u001b[0m \u001b[0m__setattr__\u001b[0m\u001b[0;34m(\u001b[0m\u001b[0mself\u001b[0m\u001b[0;34m,\u001b[0m \u001b[0mname\u001b[0m\u001b[0;34m,\u001b[0m \u001b[0mvalue\u001b[0m\u001b[0;34m)\u001b[0m\u001b[0;34m:\u001b[0m\u001b[0;34m\u001b[0m\u001b[0m\n",
      "\u001b[0;31mAttributeError\u001b[0m: 'DataFrame' object has no attribute 'kde'"
     ]
    }
   ],
   "source": [
    "zz = eval(z.kde.iloc[0])\n",
    "type(zz)"
   ]
  },
  {
   "cell_type": "code",
   "execution_count": null,
   "metadata": {
    "ExecuteTime": {
     "end_time": "2018-07-01T17:49:46.683923Z",
     "start_time": "2018-07-01T17:49:46.677553Z"
    }
   },
   "outputs": [],
   "source": []
  },
  {
   "cell_type": "code",
   "execution_count": null,
   "metadata": {},
   "outputs": [],
   "source": []
  },
  {
   "cell_type": "code",
   "execution_count": null,
   "metadata": {},
   "outputs": [],
   "source": []
  },
  {
   "cell_type": "code",
   "execution_count": null,
   "metadata": {},
   "outputs": [],
   "source": []
  },
  {
   "cell_type": "code",
   "execution_count": null,
   "metadata": {},
   "outputs": [],
   "source": []
  },
  {
   "cell_type": "code",
   "execution_count": null,
   "metadata": {
    "ExecuteTime": {
     "end_time": "2018-07-01T16:52:13.073850Z",
     "start_time": "2018-07-01T16:52:13.068453Z"
    }
   },
   "outputs": [],
   "source": []
  },
  {
   "cell_type": "code",
   "execution_count": null,
   "metadata": {},
   "outputs": [],
   "source": []
  },
  {
   "cell_type": "code",
   "execution_count": null,
   "metadata": {},
   "outputs": [],
   "source": []
  },
  {
   "cell_type": "code",
   "execution_count": 26,
   "metadata": {
    "ExecuteTime": {
     "end_time": "2018-07-05T17:55:33.240524Z",
     "start_time": "2018-07-05T17:55:33.238164Z"
    }
   },
   "outputs": [],
   "source": [
    "std_ = np.std"
   ]
  },
  {
   "cell_type": "code",
   "execution_count": null,
   "metadata": {},
   "outputs": [],
   "source": []
  },
  {
   "cell_type": "code",
   "execution_count": null,
   "metadata": {},
   "outputs": [],
   "source": []
  },
  {
   "cell_type": "code",
   "execution_count": 27,
   "metadata": {
    "ExecuteTime": {
     "end_time": "2018-07-05T17:55:34.388538Z",
     "start_time": "2018-07-05T17:55:34.385168Z"
    }
   },
   "outputs": [],
   "source": [
    "age = df_demo.wt.dropna()"
   ]
  },
  {
   "cell_type": "code",
   "execution_count": 28,
   "metadata": {
    "ExecuteTime": {
     "end_time": "2018-07-05T17:55:34.930821Z",
     "start_time": "2018-07-05T17:55:34.921496Z"
    }
   },
   "outputs": [],
   "source": [
    "e1 = ECDF(age)\n",
    "x = np.arange(0, 120)\n",
    "y = e1(x)\n"
   ]
  },
  {
   "cell_type": "code",
   "execution_count": null,
   "metadata": {
    "ExecuteTime": {
     "end_time": "2018-07-01T16:49:33.318100Z",
     "start_time": "2018-07-01T16:49:30.856012Z"
    }
   },
   "outputs": [],
   "source": []
  },
  {
   "cell_type": "code",
   "execution_count": 29,
   "metadata": {
    "ExecuteTime": {
     "end_time": "2018-07-05T17:55:35.753693Z",
     "start_time": "2018-07-05T17:55:35.734734Z"
    }
   },
   "outputs": [],
   "source": [
    "kde = KDEUnivariate(np.round(age, 1))\n",
    "kde.fit()\n",
    "pdf = kde.evaluate(x)"
   ]
  },
  {
   "cell_type": "code",
   "execution_count": null,
   "metadata": {},
   "outputs": [],
   "source": []
  },
  {
   "cell_type": "code",
   "execution_count": null,
   "metadata": {},
   "outputs": [],
   "source": []
  },
  {
   "cell_type": "code",
   "execution_count": 30,
   "metadata": {
    "ExecuteTime": {
     "end_time": "2018-07-05T17:55:37.709349Z",
     "start_time": "2018-07-05T17:55:37.601978Z"
    }
   },
   "outputs": [
    {
     "data": {
      "text/plain": [
       "[<matplotlib.lines.Line2D at 0x1a2372b7f0>]"
      ]
     },
     "execution_count": 30,
     "metadata": {},
     "output_type": "execute_result"
    },
    {
     "data": {
      "image/png": "[encoded data removed]",
      "text/plain": [
       "<Figure size 432x288 with 1 Axes>"
      ]
     },
     "metadata": {},
     "output_type": "display_data"
    }
   ],
   "source": [
    "plt.plot(x, pdf, '-', color='C1')"
   ]
  },
  {
   "cell_type": "code",
   "execution_count": 31,
   "metadata": {
    "ExecuteTime": {
     "end_time": "2018-07-05T17:55:39.079006Z",
     "start_time": "2018-07-05T17:55:38.985683Z"
    }
   },
   "outputs": [
    {
     "data": {
      "text/plain": [
       "[<matplotlib.lines.Line2D at 0x1a237f9518>]"
      ]
     },
     "execution_count": 31,
     "metadata": {},
     "output_type": "execute_result"
    },
    {
     "data": {
      "image/png": "[encoded data removed]",
      "text/plain": [
       "<Figure size 432x288 with 1 Axes>"
      ]
     },
     "metadata": {},
     "output_type": "display_data"
    }
   ],
   "source": [
    "plt.plot(x, y, '-')"
   ]
  },
  {
   "cell_type": "code",
   "execution_count": 32,
   "metadata": {
    "ExecuteTime": {
     "end_time": "2018-07-05T17:55:39.355713Z",
     "start_time": "2018-07-05T17:55:39.209723Z"
    }
   },
   "outputs": [
    {
     "data": {
      "text/plain": [
       "[<matplotlib.lines.Line2D at 0x1a23578fd0>]"
      ]
     },
     "execution_count": 32,
     "metadata": {},
     "output_type": "execute_result"
    },
    {
     "data": {
      "image/png": "[encoded data removed]",
      "text/plain": [
       "<Figure size 432x288 with 1 Axes>"
      ]
     },
     "metadata": {},
     "output_type": "display_data"
    }
   ],
   "source": [
    "plt.plot(x[1:], np.diff(y), '-')"
   ]
  },
  {
   "cell_type": "code",
   "execution_count": 33,
   "metadata": {
    "ExecuteTime": {
     "end_time": "2018-07-05T17:55:39.504995Z",
     "start_time": "2018-07-05T17:55:39.415107Z"
    }
   },
   "outputs": [
    {
     "data": {
      "text/plain": [
       "[<matplotlib.lines.Line2D at 0x1a235464a8>]"
      ]
     },
     "execution_count": 33,
     "metadata": {},
     "output_type": "execute_result"
    },
    {
     "data": {
      "image/png": "[encoded data removed]",
      "text/plain": [
       "<Figure size 432x288 with 1 Axes>"
      ]
     },
     "metadata": {},
     "output_type": "display_data"
    }
   ],
   "source": [
    "cdf = pdf.cumsum()\n",
    "plt.plot(cdf)"
   ]
  },
  {
   "cell_type": "code",
   "execution_count": null,
   "metadata": {},
   "outputs": [],
   "source": []
  },
  {
   "cell_type": "code",
   "execution_count": null,
   "metadata": {},
   "outputs": [],
   "source": []
  },
  {
   "cell_type": "code",
   "execution_count": null,
   "metadata": {},
   "outputs": [],
   "source": []
  },
  {
   "cell_type": "code",
   "execution_count": 34,
   "metadata": {
    "ExecuteTime": {
     "end_time": "2018-07-05T17:55:42.049162Z",
     "start_time": "2018-07-05T17:55:42.046234Z"
    }
   },
   "outputs": [],
   "source": [
    "fn_marked = '../data/interim/marked_data/2017q1.csv'\n",
    "fn_demo = '../data/external/faers/demo2017q1.csv.zip'\n",
    "fn_config = '../config/belviq total cartiovascular reactions.json'"
   ]
  },
  {
   "cell_type": "code",
   "execution_count": null,
   "metadata": {
    "ExecuteTime": {
     "end_time": "2018-06-29T07:21:17.302703Z",
     "start_time": "2018-06-29T07:21:17.296395Z"
    },
    "scrolled": true
   },
   "outputs": [],
   "source": [
    "def get_relevant_cases(fn_marked, config, nrows=None):\n",
    "    df_marked = pd.read_csv(\n",
    "        fn_marked,\n",
    "        nrows=nrows\n",
    "    )\n",
    "    columns_bookkeeping = ['caseid', 'q']\n",
    "    columns_info = [c for c in df_marked if c.startswith('drug ') or c.startswith('reaction ')]\n",
    "    dtypes = {c: str for c in columns_bookkeeping}\n",
    "    for c in columns_info:\n",
    "        dtypes[c] = bool\n",
    "    df_marked = pd.read_csv(\n",
    "        fn_marked,\n",
    "        usecols=columns_bookkeeping + columns_info,\n",
    "        dtype=dtypes,\n",
    "        nrows=10000\n",
    "    )\n",
    "    \n",
    "    columns_drugs = [f'drug {d}' for d in config.drugs]\n",
    "    columns_reactions = [f'reaction {r}' for r in config.reactions]\n",
    "    drug_true = df_marked[columns_drugs].any(axis=1)\n",
    "    reaction_true = df_marked[columns_reactions].any(axis=1)\n",
    "    drug_naive = ~df_marked[columns_drugs].any(axis=1)\n",
    "    ret = df_marked[columns_bookkeeping].copy()\n",
    "    ret['true_true'] = (drug_true & reaction_true).values\n",
    "    ret['true_false'] = (drug_true & (~reaction_true)).values\n",
    "    ret['drug_naive_true'] = (drug_naive & reaction_true).values\n",
    "    ret['drug_naive_false'] = (drug_naive & (~reaction_true)).values\n",
    "    return ret.loc[\n",
    "        ret.true_true | ret.true_false | ret.drug_naive_true | ret.drug_naive_false\n",
    "    ]"
   ]
  },
  {
   "cell_type": "code",
   "execution_count": null,
   "metadata": {
    "ExecuteTime": {
     "end_time": "2018-06-29T07:23:42.411794Z",
     "start_time": "2018-06-29T07:23:42.233184Z"
    }
   },
   "outputs": [],
   "source": []
  },
  {
   "cell_type": "code",
   "execution_count": null,
   "metadata": {},
   "outputs": [],
   "source": []
  },
  {
   "cell_type": "code",
   "execution_count": null,
   "metadata": {},
   "outputs": [],
   "source": []
  },
  {
   "cell_type": "code",
   "execution_count": null,
   "metadata": {
    "ExecuteTime": {
     "end_time": "2018-06-29T07:23:49.703880Z",
     "start_time": "2018-06-29T07:23:49.697983Z"
    }
   },
   "outputs": [],
   "source": [
    "def read_demo_data(fn_demo):\n",
    "    dtypes = {\n",
    "        'caseid': str, \n",
    "        'event_dt_num': str,\n",
    "        'age': float,\n",
    "        'age_cod': str,\n",
    "        'sex': str,\n",
    "        'wt': float,\n",
    "        'wt_cod': str\n",
    "    }\n",
    "    df_demo = pd.read_csv(\n",
    "        fn_demo,\n",
    "        dtype=dtypes,\n",
    "        usecols=dtypes.keys()\n",
    "    )\n",
    "\n",
    "    to_year_conversion_factor = {\n",
    "        'YR': 1.0,\n",
    "        'DY': 365.25,\n",
    "        'MON': 12,\n",
    "        'DEC': 0.1,\n",
    "        'WK': 52.2,\n",
    "        'HR': 24 * 365.25\n",
    "    }\n",
    "    to_year_conversion_factor = pd.Series(to_year_conversion_factor)\n",
    "\n",
    "    to_kg_conversion_factor = {\n",
    "        'KG': 1.0,\n",
    "        'LBS': 2.20462\n",
    "    }\n",
    "    to_kg_conversion_factor = pd.Series(to_kg_conversion_factor)\n",
    "    df_demo.wt = df_demo.wt / to_kg_conversion_factor.reindex(df_demo.wt_cod.values).values\n",
    "    df_demo.age = df_demo.age / to_year_conversion_factor.reindex(df_demo.age_cod.values).values\n",
    "    df_demo['event_date'] = pd.to_datetime(df_demo.event_dt_num, dayfirst=False)\n",
    "    df_demo.drop(['age_cod', 'wt_cod', 'event_dt_num'], axis=1, inplace=True)\n",
    "    return df_demo"
   ]
  },
  {
   "cell_type": "code",
   "execution_count": null,
   "metadata": {
    "ExecuteTime": {
     "end_time": "2018-06-29T07:23:53.484166Z",
     "start_time": "2018-06-29T07:23:53.303281Z"
    }
   },
   "outputs": [],
   "source": [
    "\n",
    "df_cases = get_relevant_cases(fn_marked, config, 1000)\n",
    "df_cases.tail()"
   ]
  },
  {
   "cell_type": "code",
   "execution_count": null,
   "metadata": {
    "ExecuteTime": {
     "end_time": "2018-06-29T07:24:17.091097Z",
     "start_time": "2018-06-29T07:24:03.757713Z"
    }
   },
   "outputs": [],
   "source": [
    "df_demo = read_demo_data(fn_demo)"
   ]
  },
  {
   "cell_type": "code",
   "execution_count": null,
   "metadata": {
    "ExecuteTime": {
     "end_time": "2018-06-29T07:24:17.105198Z",
     "start_time": "2018-06-29T07:24:17.093004Z"
    }
   },
   "outputs": [],
   "source": [
    "df_demo.head()"
   ]
  },
  {
   "cell_type": "code",
   "execution_count": null,
   "metadata": {
    "ExecuteTime": {
     "end_time": "2018-06-29T07:43:14.843069Z",
     "start_time": "2018-06-29T07:43:14.710612Z"
    }
   },
   "outputs": [],
   "source": [
    "mrgd = df_cases.merge(\n",
    "    df_demo,\n",
    "    on='caseid',\n",
    "    how='left'\n",
    ")"
   ]
  },
  {
   "cell_type": "code",
   "execution_count": null,
   "metadata": {
    "ExecuteTime": {
     "end_time": "2018-06-29T07:43:19.427433Z",
     "start_time": "2018-06-29T07:43:19.300400Z"
    }
   },
   "outputs": [],
   "source": [
    "mrgd.to_csv('/Users/boris/temp/z.csv.zip', compression='zip', index=False)"
   ]
  },
  {
   "cell_type": "code",
   "execution_count": null,
   "metadata": {
    "ExecuteTime": {
     "end_time": "2018-06-29T07:43:52.375417Z",
     "start_time": "2018-06-29T07:43:52.349573Z"
    }
   },
   "outputs": [],
   "source": [
    "pd.to_datetime(pd.read_csv('/Users/boris/temp/z.csv.zip').event_date)"
   ]
  },
  {
   "cell_type": "code",
   "execution_count": null,
   "metadata": {},
   "outputs": [],
   "source": []
  },
  {
   "cell_type": "code",
   "execution_count": null,
   "metadata": {},
   "outputs": [],
   "source": []
  }
 ],
 "metadata": {
  "kernelspec": {
   "display_name": "Python 3",
   "language": "python",
   "name": "python3"
  },
  "language_info": {
   "codemirror_mode": {
    "name": "ipython",
    "version": 3
   },
   "file_extension": ".py",
   "mimetype": "text/x-python",
   "name": "python",
   "nbconvert_exporter": "python",
   "pygments_lexer": "ipython3",
   "version": "3.6.5"
  }
 },
 "nbformat": 4,
 "nbformat_minor": 2
}
