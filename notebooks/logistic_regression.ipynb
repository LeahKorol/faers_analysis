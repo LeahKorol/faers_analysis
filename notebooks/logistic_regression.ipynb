{
 "cells": [
  {
   "cell_type": "code",
   "execution_count": 1,
   "metadata": {
    "ExecuteTime": {
     "end_time": "2018-07-03T15:48:37.840636Z",
     "start_time": "2018-07-03T15:48:36.086055Z"
    }
   },
   "outputs": [],
   "source": [
    "import pandas as pd\n",
    "import statsmodels.api as sm\n",
    "import numpy as np\n",
    "import pickle\n",
    "from matplotlib import pylab as plt\n",
    "%matplotlib inline\n",
    "from IPython.display import *"
   ]
  },
  {
   "cell_type": "code",
   "execution_count": 37,
   "metadata": {
    "ExecuteTime": {
     "end_time": "2018-07-03T18:43:06.634581Z",
     "start_time": "2018-07-03T18:43:05.746883Z"
    }
   },
   "outputs": [],
   "source": [
    "df_demo = pickle.load(open('/Users/boris/temp/df_demo.pkl', 'rb'))"
   ]
  },
  {
   "cell_type": "code",
   "execution_count": 53,
   "metadata": {
    "ExecuteTime": {
     "end_time": "2018-07-03T18:46:52.908590Z",
     "start_time": "2018-07-03T18:46:52.899459Z"
    }
   },
   "outputs": [],
   "source": [
    "def regression_data(df_demo):\n",
    "    true_true = df_demo.loc[df_demo.true_true][['age', 'wt', 'sex']].dropna()\n",
    "    true_true['side_effect'] = True\n",
    "    true_true['exposure'] = 1\n",
    "\n",
    "    true_false = df_demo.loc[df_demo.true_false][['age', 'wt', 'sex']].dropna()\n",
    "    true_false['side_effect'] = False\n",
    "    true_false['exposure'] = 1\n",
    "\n",
    "    false_true = df_demo.loc[df_demo.drug_naive_true][['age', 'wt', 'sex']].dropna()\n",
    "    false_true['exposure'] = 0\n",
    "    false_true['side_effect'] = 1\n",
    "\n",
    "    false_false = df_demo.loc[df_demo.drug_naive_false][['age', 'wt', 'sex']].dropna()\n",
    "    false_false['exposure'] = 0\n",
    "    false_false['side_effect'] = 0\n",
    "\n",
    "\n",
    "    df_regression = pd.concat([true_true, true_false, false_true, false_false], sort=False).reset_index(drop=True)\n",
    "    df_regression['is_female'] = df_regression['sex'] == 'F'\n",
    "    df_regression.drop('sex', axis=1, inplace=True)\n",
    "    df_regression['intercept'] = 1.0\n",
    "    regression_cols = [c for c in df_regression.columns if c != 'side_effect']\n",
    "    df_regression.side_effect = df_regression.side_effect.astype(int)\n",
    "    df_regression.is_female = df_regression.is_female.astype(int)\n",
    "    return df_regression, regression_cols, 'side_effect'\n",
    "    \n",
    "def regression(df_demo, name):\n",
    "    df_regression, regression_cols, column_y = regression_data(df_demo)\n",
    "\n",
    "    logit = sm.Logit(df_regression[column_y], df_regression[regression_cols])\n",
    "    result = logit.fit()\n",
    "    html_summary = '<h1>' + name + '</h1>\\n' +\\\n",
    "    result.summary2(title=name).as_html() \\\n",
    "        + '\\n<br>\\n' \\\n",
    "    + colinearity_analysis(df_regression=df_regression, regression_cols=regression_cols, name=None)\n",
    "\n",
    "    return html_summary\n",
    "\n"
   ]
  },
  {
   "cell_type": "code",
   "execution_count": 54,
   "metadata": {
    "ExecuteTime": {
     "end_time": "2018-07-03T18:46:57.385968Z",
     "start_time": "2018-07-03T18:46:55.812642Z"
    }
   },
   "outputs": [],
   "source": [
    "df_regression, regression_cols, column_y = regression_data(df_demo)\n",
    "def colinearity_analysis(df_regression, regression_cols, name=None):\n",
    "    rows = []\n",
    "    if name:\n",
    "        row = f'{name}: '\n",
    "    else:\n",
    "        row = ''\n",
    "    rows.append('<b> ' + row + 'variance inflation factors' + '</b>')\n",
    "    rows.append('<table><tbody>')\n",
    "    rows.append('''<tr>\n",
    "\t\t\t<th>variable</th>\n",
    "\t\t\t<th>VIF</th>\n",
    "\t\t</tr>\n",
    "    ''')\n",
    "    \n",
    "    mat = df_regression[regression_cols].values\n",
    "    for i in range(len(regression_cols)):\n",
    "        colname = regression_cols[i]\n",
    "        if colname == 'intercept': \n",
    "            continue\n",
    "        vif = variance_inflation_factor(mat, i)\n",
    "        rows.append(f'<tr><td>{colname:30s}</td><td>{vif:.3f}</td></tr>')\n",
    "    rows.append('</tbody></table>')\n",
    "    return '\\n'.join(rows)"
   ]
  },
  {
   "cell_type": "code",
   "execution_count": 55,
   "metadata": {
    "ExecuteTime": {
     "end_time": "2018-07-03T18:47:04.833592Z",
     "start_time": "2018-07-03T18:47:00.774229Z"
    }
   },
   "outputs": [
    {
     "name": "stdout",
     "output_type": "stream",
     "text": [
      "Optimization terminated successfully.\n",
      "         Current function value: 0.155700\n",
      "         Iterations 8\n"
     ]
    },
    {
     "data": {
      "text/html": [
       "<h1>x</h1>\n",
       "<table class=\"simpletable\">\n",
       "<tr>\n",
       "        <td>Model:</td>              <td>Logit</td>      <td>Pseudo R-squared:</td>    <td>0.012</td>   \n",
       "</tr>\n",
       "<tr>\n",
       "  <td>Dependent Variable:</td>    <td>side_effect</td>         <td>AIC:</td>        <td>287351.9078</td>\n",
       "</tr>\n",
       "<tr>\n",
       "         <td>Date:</td>        <td>2018-07-03 21:47</td>       <td>BIC:</td>        <td>287410.5833</td>\n",
       "</tr>\n",
       "<tr>\n",
       "   <td>No. Observations:</td>       <td>922745</td>       <td>Log-Likelihood:</td>  <td>-1.4367e+05</td>\n",
       "</tr>\n",
       "<tr>\n",
       "       <td>Df Model:</td>              <td>4</td>            <td>LL-Null:</td>      <td>-1.4537e+05</td>\n",
       "</tr>\n",
       "<tr>\n",
       "     <td>Df Residuals:</td>         <td>922740</td>        <td>LLR p-value:</td>      <td>0.0000</td>   \n",
       "</tr>\n",
       "<tr>\n",
       "      <td>Converged:</td>           <td>1.0000</td>           <td>Scale:</td>         <td>1.0000</td>   \n",
       "</tr>\n",
       "<tr>\n",
       "    <td>No. Iterations:</td>        <td>8.0000</td>              <td></td>               <td></td>      \n",
       "</tr>\n",
       "</table>\n",
       "<table class=\"simpletable\">\n",
       "<tr>\n",
       "      <td></td>       <th>Coef.</th>  <th>Std.Err.</th>     <th>z</th>      <th>P>|z|</th> <th>[0.025</th>  <th>0.975]</th> \n",
       "</tr>\n",
       "<tr>\n",
       "  <th>age</th>       <td>0.0000</td>   <td>0.0000</td>   <td>3.8854</td>   <td>0.0001</td> <td>0.0000</td>  <td>0.0000</td> \n",
       "</tr>\n",
       "<tr>\n",
       "  <th>wt</th>        <td>0.0011</td>   <td>0.0002</td>   <td>7.0872</td>   <td>0.0000</td> <td>0.0008</td>  <td>0.0014</td> \n",
       "</tr>\n",
       "<tr>\n",
       "  <th>exposure</th>  <td>-0.0032</td>  <td>0.1654</td>   <td>-0.0193</td>  <td>0.9846</td> <td>-0.3274</td> <td>0.3210</td> \n",
       "</tr>\n",
       "<tr>\n",
       "  <th>is_female</th> <td>-0.6258</td>  <td>0.0112</td>  <td>-55.6263</td>  <td>0.0000</td> <td>-0.6478</td> <td>-0.6037</td>\n",
       "</tr>\n",
       "<tr>\n",
       "  <th>intercept</th> <td>-3.0207</td>  <td>0.0150</td>  <td>-201.1556</td> <td>0.0000</td> <td>-3.0502</td> <td>-2.9913</td>\n",
       "</tr>\n",
       "</table>\n",
       "<br>\n",
       "<b> variance inflation factors</b>\n",
       "<table><tbody>\n",
       "<tr>\n",
       "\t\t\t<th>variable</th>\n",
       "\t\t\t<th>VIF</th>\n",
       "\t\t</tr>\n",
       "    \n",
       "<tr><td>age                           </td><td>1.000</td></tr>\n",
       "<tr><td>wt                            </td><td>1.024</td></tr>\n",
       "<tr><td>exposure                      </td><td>1.001</td></tr>\n",
       "<tr><td>is_female                     </td><td>1.024</td></tr>\n",
       "</tbody></table>"
      ],
      "text/plain": [
       "<IPython.core.display.HTML object>"
      ]
     },
     "execution_count": 55,
     "metadata": {},
     "output_type": "execute_result"
    }
   ],
   "source": [
    "html = regression(df_demo, 'x')\n",
    "HTML(html)"
   ]
  },
  {
   "cell_type": "code",
   "execution_count": 52,
   "metadata": {
    "ExecuteTime": {
     "end_time": "2018-07-03T18:46:24.047125Z",
     "start_time": "2018-07-03T18:46:24.042747Z"
    }
   },
   "outputs": [
    {
     "data": {
      "text/html": [
       "<h1>x</h1>\n",
       "<table class=\"simpletable\">\n",
       "<caption>x</caption>\n",
       "<tr>\n",
       "  <th>Dep. Variable:</th>    <td>side_effect</td>   <th>  No. Observations:  </th>   <td>922745</td>   \n",
       "</tr>\n",
       "<tr>\n",
       "  <th>Model:</th>               <td>Logit</td>      <th>  Df Residuals:      </th>   <td>922740</td>   \n",
       "</tr>\n",
       "<tr>\n",
       "  <th>Method:</th>               <td>MLE</td>       <th>  Df Model:          </th>   <td>     4</td>   \n",
       "</tr>\n",
       "<tr>\n",
       "  <th>Date:</th>          <td>Tue, 03 Jul 2018</td> <th>  Pseudo R-squ.:     </th>   <td>0.01167</td>  \n",
       "</tr>\n",
       "<tr>\n",
       "  <th>Time:</th>              <td>21:46:19</td>     <th>  Log-Likelihood:    </th> <td>-1.4367e+05</td>\n",
       "</tr>\n",
       "<tr>\n",
       "  <th>converged:</th>           <td>True</td>       <th>  LL-Null:           </th> <td>-1.4537e+05</td>\n",
       "</tr>\n",
       "<tr>\n",
       "  <th> </th>                      <td> </td>        <th>  LLR p-value:       </th>   <td> 0.000</td>   \n",
       "</tr>\n",
       "</table>\n",
       "<table class=\"simpletable\">\n",
       "<tr>\n",
       "      <td></td>         <th>coef</th>     <th>std err</th>      <th>z</th>      <th>P>|z|</th>  <th>[0.025</th>    <th>0.975]</th>  \n",
       "</tr>\n",
       "<tr>\n",
       "  <th>age</th>       <td> 2.938e-06</td> <td> 7.56e-07</td> <td>    3.885</td> <td> 0.000</td> <td> 1.46e-06</td> <td> 4.42e-06</td>\n",
       "</tr>\n",
       "<tr>\n",
       "  <th>wt</th>        <td>    0.0011</td> <td>    0.000</td> <td>    7.087</td> <td> 0.000</td> <td>    0.001</td> <td>    0.001</td>\n",
       "</tr>\n",
       "<tr>\n",
       "  <th>exposure</th>  <td>   -0.0032</td> <td>    0.165</td> <td>   -0.019</td> <td> 0.985</td> <td>   -0.327</td> <td>    0.321</td>\n",
       "</tr>\n",
       "<tr>\n",
       "  <th>is_female</th> <td>   -0.6258</td> <td>    0.011</td> <td>  -55.626</td> <td> 0.000</td> <td>   -0.648</td> <td>   -0.604</td>\n",
       "</tr>\n",
       "<tr>\n",
       "  <th>intercept</th> <td>   -3.0207</td> <td>    0.015</td> <td> -201.156</td> <td> 0.000</td> <td>   -3.050</td> <td>   -2.991</td>\n",
       "</tr>\n",
       "</table>\n",
       "<br>\n",
       "<b> variance inflation factors</b>\n",
       "<table><tbody>\n",
       "<tr>\n",
       "\t\t\t<th>variable</th>\n",
       "\t\t\t<th>VIF</th>\n",
       "\t\t</tr>\n",
       "    \n",
       "<tr><td>age                           </td><td>1.000</td></tr>\n",
       "<tr><td>wt                            </td><td>1.024</td></tr>\n",
       "<tr><td>exposure                      </td><td>1.001</td></tr>\n",
       "<tr><td>is_female                     </td><td>1.024</td></tr>\n",
       "</tbody></table>"
      ],
      "text/plain": [
       "<IPython.core.display.HTML object>"
      ]
     },
     "execution_count": 52,
     "metadata": {},
     "output_type": "execute_result"
    }
   ],
   "source": [
    "HTML(html)"
   ]
  },
  {
   "cell_type": "code",
   "execution_count": null,
   "metadata": {},
   "outputs": [],
   "source": []
  },
  {
   "cell_type": "code",
   "execution_count": 26,
   "metadata": {
    "ExecuteTime": {
     "end_time": "2018-07-03T16:05:52.522740Z",
     "start_time": "2018-07-03T16:05:51.944921Z"
    }
   },
   "outputs": [
    {
     "data": {
      "text/html": [
       "<b> variance inflation factors</b>\n",
       "<table><tbody>\n",
       "<tr>\n",
       "\t\t\t<th>variable</th>\n",
       "\t\t\t<th>VIF</th>\n",
       "\t\t</tr>\n",
       "    \n",
       "<tr><td>age                           </td><td>1.000</td></tr>\n",
       "<tr><td>wt                            </td><td>1.024</td></tr>\n",
       "<tr><td>exposure                      </td><td>1.001</td></tr>\n",
       "<tr><td>is_female                     </td><td>1.024</td></tr>\n",
       "</tbody></table>"
      ],
      "text/plain": [
       "<IPython.core.display.HTML object>"
      ]
     },
     "execution_count": 26,
     "metadata": {},
     "output_type": "execute_result"
    }
   ],
   "source": [
    "HTML(colinearity_analysis(df_regression, regression_cols))"
   ]
  },
  {
   "cell_type": "code",
   "execution_count": null,
   "metadata": {},
   "outputs": [],
   "source": []
  },
  {
   "cell_type": "code",
   "execution_count": null,
   "metadata": {},
   "outputs": [],
   "source": []
  },
  {
   "cell_type": "code",
   "execution_count": 5,
   "metadata": {
    "ExecuteTime": {
     "end_time": "2018-07-03T15:50:41.734470Z",
     "start_time": "2018-07-03T15:50:41.730597Z"
    }
   },
   "outputs": [],
   "source": [
    "from statsmodels.stats.outliers_influence import variance_inflation_factor"
   ]
  },
  {
   "cell_type": "code",
   "execution_count": 14,
   "metadata": {
    "ExecuteTime": {
     "end_time": "2018-07-03T15:58:53.004801Z",
     "start_time": "2018-07-03T15:58:52.452409Z"
    }
   },
   "outputs": [
    {
     "name": "stdout",
     "output_type": "stream",
     "text": [
      "age                            1.000\n",
      "wt                             1.024\n",
      "exposure                       1.001\n",
      "is_female                      1.024\n"
     ]
    }
   ],
   "source": [
    "mat = df_regression[regression_cols].values\n",
    "for i in range(len(regression_cols)):\n",
    "    colname = regression_cols[i]\n",
    "    if colname == 'intercept': \n",
    "        continue\n",
    "    vif = variance_inflation_factor(mat, i)\n",
    "    print"
   ]
  },
  {
   "cell_type": "code",
   "execution_count": 13,
   "metadata": {
    "ExecuteTime": {
     "end_time": "2018-07-03T15:56:57.185062Z",
     "start_time": "2018-07-03T15:56:57.159697Z"
    }
   },
   "outputs": [
    {
     "name": "stdout",
     "output_type": "stream",
     "text": [
      "    0 36.130\n",
      "    1 82.763\n",
      "    2 75.398\n",
      "    3 95.318\n",
      "    4 84.452\n",
      "    5 95.172\n",
      "    6 100.898\n",
      "    7 96.693\n",
      "    8 73.240\n",
      "    9 39.070\n",
      "   10 1.220\n"
     ]
    }
   ],
   "source": [
    "N = 100\n",
    "x = np.arange(N)\n",
    "df = pd.DataFrame({'x0': x })\n",
    "for i in range(1, 10):\n",
    "    df[f'x{i}'] = df[f'x{i-1}'] + np.random.randn(N) * 10\n",
    "df['x99'] = np.random.randn(N)\n",
    "mat = df.values\n",
    "for i in range(df.shape[1]):\n",
    "    vif = variance_inflation_factor(mat, i)\n",
    "    print(f'{i:5d} {vif:.3f}')"
   ]
  },
  {
   "cell_type": "code",
   "execution_count": null,
   "metadata": {},
   "outputs": [],
   "source": []
  },
  {
   "cell_type": "code",
   "execution_count": null,
   "metadata": {},
   "outputs": [],
   "source": []
  },
  {
   "cell_type": "code",
   "execution_count": null,
   "metadata": {},
   "outputs": [],
   "source": []
  },
  {
   "cell_type": "code",
   "execution_count": 35,
   "metadata": {
    "ExecuteTime": {
     "end_time": "2018-07-02T19:36:39.710106Z",
     "start_time": "2018-07-02T19:36:39.653196Z"
    }
   },
   "outputs": [
    {
     "data": {
      "text/html": [
       "<table class=\"simpletable\">\n",
       "<caption>abclkj lkj </caption>\n",
       "<tr>\n",
       "  <th>Dep. Variable:</th>    <td>side_effect</td>   <th>  No. Observations:  </th>   <td>922745</td>   \n",
       "</tr>\n",
       "<tr>\n",
       "  <th>Model:</th>               <td>Logit</td>      <th>  Df Residuals:      </th>   <td>922740</td>   \n",
       "</tr>\n",
       "<tr>\n",
       "  <th>Method:</th>               <td>MLE</td>       <th>  Df Model:          </th>   <td>     4</td>   \n",
       "</tr>\n",
       "<tr>\n",
       "  <th>Date:</th>          <td>Mon, 02 Jul 2018</td> <th>  Pseudo R-squ.:     </th>   <td>0.01167</td>  \n",
       "</tr>\n",
       "<tr>\n",
       "  <th>Time:</th>              <td>22:36:39</td>     <th>  Log-Likelihood:    </th> <td>-1.4367e+05</td>\n",
       "</tr>\n",
       "<tr>\n",
       "  <th>converged:</th>           <td>True</td>       <th>  LL-Null:           </th> <td>-1.4537e+05</td>\n",
       "</tr>\n",
       "<tr>\n",
       "  <th> </th>                      <td> </td>        <th>  LLR p-value:       </th>   <td> 0.000</td>   \n",
       "</tr>\n",
       "</table>\n",
       "<table class=\"simpletable\">\n",
       "<tr>\n",
       "      <td></td>         <th>coef</th>     <th>std err</th>      <th>z</th>      <th>P>|z|</th>  <th>[0.025</th>    <th>0.975]</th>  \n",
       "</tr>\n",
       "<tr>\n",
       "  <th>age</th>       <td> 2.938e-06</td> <td> 7.56e-07</td> <td>    3.885</td> <td> 0.000</td> <td> 1.46e-06</td> <td> 4.42e-06</td>\n",
       "</tr>\n",
       "<tr>\n",
       "  <th>wt</th>        <td>    0.0011</td> <td>    0.000</td> <td>    7.087</td> <td> 0.000</td> <td>    0.001</td> <td>    0.001</td>\n",
       "</tr>\n",
       "<tr>\n",
       "  <th>exposure</th>  <td>   -0.0032</td> <td>    0.165</td> <td>   -0.019</td> <td> 0.985</td> <td>   -0.327</td> <td>    0.321</td>\n",
       "</tr>\n",
       "<tr>\n",
       "  <th>is_female</th> <td>   -0.6258</td> <td>    0.011</td> <td>  -55.626</td> <td> 0.000</td> <td>   -0.648</td> <td>   -0.604</td>\n",
       "</tr>\n",
       "<tr>\n",
       "  <th>intercept</th> <td>   -3.0207</td> <td>    0.015</td> <td> -201.156</td> <td> 0.000</td> <td>   -3.050</td> <td>   -2.991</td>\n",
       "</tr>\n",
       "</table>"
      ],
      "text/plain": [
       "<IPython.core.display.HTML object>"
      ]
     },
     "execution_count": 35,
     "metadata": {},
     "output_type": "execute_result"
    }
   ],
   "source": [
    "HTML(result.summary(title='abclkj lkj ').as_html())"
   ]
  },
  {
   "cell_type": "code",
   "execution_count": 39,
   "metadata": {
    "ExecuteTime": {
     "end_time": "2018-07-02T21:11:59.525572Z",
     "start_time": "2018-07-02T21:11:59.476524Z"
    }
   },
   "outputs": [
    {
     "data": {
      "text/html": [
       "<table class=\"simpletable\">\n",
       "<tr>\n",
       "        <td>Model:</td>              <td>Logit</td>      <td>Pseudo R-squared:</td>    <td>0.012</td>   \n",
       "</tr>\n",
       "<tr>\n",
       "  <td>Dependent Variable:</td>    <td>side_effect</td>         <td>AIC:</td>        <td>287351.9078</td>\n",
       "</tr>\n",
       "<tr>\n",
       "         <td>Date:</td>        <td>2018-07-03 00:11</td>       <td>BIC:</td>        <td>287410.5833</td>\n",
       "</tr>\n",
       "<tr>\n",
       "   <td>No. Observations:</td>       <td>922745</td>       <td>Log-Likelihood:</td>  <td>-1.4367e+05</td>\n",
       "</tr>\n",
       "<tr>\n",
       "       <td>Df Model:</td>              <td>4</td>            <td>LL-Null:</td>      <td>-1.4537e+05</td>\n",
       "</tr>\n",
       "<tr>\n",
       "     <td>Df Residuals:</td>         <td>922740</td>        <td>LLR p-value:</td>      <td>0.0000</td>   \n",
       "</tr>\n",
       "<tr>\n",
       "      <td>Converged:</td>           <td>1.0000</td>           <td>Scale:</td>         <td>1.0000</td>   \n",
       "</tr>\n",
       "<tr>\n",
       "    <td>No. Iterations:</td>        <td>8.0000</td>              <td></td>               <td></td>      \n",
       "</tr>\n",
       "</table>\n",
       "<table class=\"simpletable\">\n",
       "<tr>\n",
       "      <td></td>       <th>Coef.</th>  <th>Std.Err.</th>     <th>z</th>      <th>P>|z|</th> <th>[0.025</th>  <th>0.975]</th> \n",
       "</tr>\n",
       "<tr>\n",
       "  <th>age</th>       <td>0.0000</td>   <td>0.0000</td>   <td>3.8854</td>   <td>0.0001</td> <td>0.0000</td>  <td>0.0000</td> \n",
       "</tr>\n",
       "<tr>\n",
       "  <th>wt</th>        <td>0.0011</td>   <td>0.0002</td>   <td>7.0872</td>   <td>0.0000</td> <td>0.0008</td>  <td>0.0014</td> \n",
       "</tr>\n",
       "<tr>\n",
       "  <th>exposure</th>  <td>-0.0032</td>  <td>0.1654</td>   <td>-0.0193</td>  <td>0.9846</td> <td>-0.3274</td> <td>0.3210</td> \n",
       "</tr>\n",
       "<tr>\n",
       "  <th>is_female</th> <td>-0.6258</td>  <td>0.0112</td>  <td>-55.6263</td>  <td>0.0000</td> <td>-0.6478</td> <td>-0.6037</td>\n",
       "</tr>\n",
       "<tr>\n",
       "  <th>intercept</th> <td>-3.0207</td>  <td>0.0150</td>  <td>-201.1556</td> <td>0.0000</td> <td>-3.0502</td> <td>-2.9913</td>\n",
       "</tr>\n",
       "</table>"
      ],
      "text/plain": [
       "<class 'statsmodels.iolib.summary2.Summary'>\n",
       "\"\"\"\n",
       "                          Results: Logit\n",
       "==================================================================\n",
       "Model:              Logit            Pseudo R-squared: 0.012      \n",
       "Dependent Variable: side_effect      AIC:              287351.9078\n",
       "Date:               2018-07-03 00:11 BIC:              287410.5833\n",
       "No. Observations:   922745           Log-Likelihood:   -1.4367e+05\n",
       "Df Model:           4                LL-Null:          -1.4537e+05\n",
       "Df Residuals:       922740           LLR p-value:      0.0000     \n",
       "Converged:          1.0000           Scale:            1.0000     \n",
       "No. Iterations:     8.0000                                        \n",
       "-------------------------------------------------------------------\n",
       "              Coef.   Std.Err.      z      P>|z|    [0.025   0.975]\n",
       "-------------------------------------------------------------------\n",
       "age           0.0000    0.0000     3.8854  0.0001   0.0000   0.0000\n",
       "wt            0.0011    0.0002     7.0872  0.0000   0.0008   0.0014\n",
       "exposure     -0.0032    0.1654    -0.0193  0.9846  -0.3274   0.3210\n",
       "is_female    -0.6258    0.0112   -55.6263  0.0000  -0.6478  -0.6037\n",
       "intercept    -3.0207    0.0150  -201.1556  0.0000  -3.0502  -2.9913\n",
       "==================================================================\n",
       "\n",
       "\"\"\""
      ]
     },
     "execution_count": 39,
     "metadata": {},
     "output_type": "execute_result"
    }
   ],
   "source": [
    "summary = result.summary2()\n",
    "summary"
   ]
  },
  {
   "cell_type": "code",
   "execution_count": 40,
   "metadata": {
    "ExecuteTime": {
     "end_time": "2018-07-02T21:12:49.817264Z",
     "start_time": "2018-07-02T21:12:49.797884Z"
    }
   },
   "outputs": [
    {
     "data": {
      "text/plain": [
       "[                     0                 1                  2            3\n",
       " 0               Model:             Logit  Pseudo R-squared:        0.012\n",
       " 1  Dependent Variable:       side_effect               AIC:  287351.9078\n",
       " 2                Date:  2018-07-03 00:11               BIC:  287410.5833\n",
       " 3    No. Observations:            922745    Log-Likelihood:  -1.4367e+05\n",
       " 4            Df Model:                 4           LL-Null:  -1.4537e+05\n",
       " 5        Df Residuals:            922740       LLR p-value:       0.0000\n",
       " 6           Converged:            1.0000             Scale:       1.0000\n",
       " 7      No. Iterations:            8.0000                                ,\n",
       "               Coef.      Std.Err.           z         P>|z|    [0.025  \\\n",
       " age        0.000003  7.560923e-07    3.885388  1.021666e-04  0.000001   \n",
       " wt         0.001117  1.576570e-04    7.087219  1.368338e-12  0.000808   \n",
       " exposure  -0.003195  1.654145e-01   -0.019315  9.845895e-01 -0.327402   \n",
       " is_female -0.625785  1.124980e-02  -55.626293  0.000000e+00 -0.647834   \n",
       " intercept -3.020718  1.501682e-02 -201.155602  0.000000e+00 -3.050151   \n",
       " \n",
       "              0.975]  \n",
       " age        0.000004  \n",
       " wt         0.001426  \n",
       " exposure   0.321011  \n",
       " is_female -0.603736  \n",
       " intercept -2.991286  ]"
      ]
     },
     "execution_count": 40,
     "metadata": {},
     "output_type": "execute_result"
    }
   ],
   "source": [
    "summary.tables"
   ]
  },
  {
   "cell_type": "code",
   "execution_count": null,
   "metadata": {},
   "outputs": [],
   "source": []
  },
  {
   "cell_type": "code",
   "execution_count": null,
   "metadata": {},
   "outputs": [],
   "source": []
  },
  {
   "cell_type": "code",
   "execution_count": null,
   "metadata": {},
   "outputs": [],
   "source": []
  },
  {
   "cell_type": "code",
   "execution_count": 27,
   "metadata": {
    "ExecuteTime": {
     "end_time": "2018-07-02T19:21:57.092094Z",
     "start_time": "2018-07-02T19:21:57.086976Z"
    }
   },
   "outputs": [
    {
     "data": {
      "text/plain": [
       "age          1.055009\n",
       "wt           1.004223\n",
       "is_female    0.301520\n",
       "intercept    0.001923\n",
       "dtype: float64"
      ]
     },
     "execution_count": 27,
     "metadata": {},
     "output_type": "execute_result"
    }
   ],
   "source": [
    "np.exp(result.params)"
   ]
  },
  {
   "cell_type": "code",
   "execution_count": 6,
   "metadata": {
    "ExecuteTime": {
     "end_time": "2018-07-02T19:08:55.238522Z",
     "start_time": "2018-07-02T19:08:55.234787Z"
    }
   },
   "outputs": [
    {
     "data": {
      "text/plain": [
       "(5385720, 9)"
      ]
     },
     "execution_count": 6,
     "metadata": {},
     "output_type": "execute_result"
    }
   ],
   "source": [
    "df_demo.shape"
   ]
  },
  {
   "cell_type": "code",
   "execution_count": 9,
   "metadata": {
    "ExecuteTime": {
     "end_time": "2018-07-02T19:11:59.567581Z",
     "start_time": "2018-07-02T19:11:59.545427Z"
    }
   },
   "outputs": [
    {
     "data": {
      "text/html": [
       "<div>\n",
       "<style scoped>\n",
       "    .dataframe tbody tr th:only-of-type {\n",
       "        vertical-align: middle;\n",
       "    }\n",
       "\n",
       "    .dataframe tbody tr th {\n",
       "        vertical-align: top;\n",
       "    }\n",
       "\n",
       "    .dataframe thead th {\n",
       "        text-align: right;\n",
       "    }\n",
       "</style>\n",
       "<table border=\"1\" class=\"dataframe\">\n",
       "  <thead>\n",
       "    <tr style=\"text-align: right;\">\n",
       "      <th></th>\n",
       "      <th>caseid</th>\n",
       "      <th>true_true</th>\n",
       "      <th>true_false</th>\n",
       "      <th>drug_naive_true</th>\n",
       "      <th>drug_naive_false</th>\n",
       "      <th>age</th>\n",
       "      <th>sex</th>\n",
       "      <th>wt</th>\n",
       "      <th>event_date</th>\n",
       "    </tr>\n",
       "  </thead>\n",
       "  <tbody>\n",
       "    <tr>\n",
       "      <th>308889</th>\n",
       "      <td>9319489</td>\n",
       "      <td>False</td>\n",
       "      <td>False</td>\n",
       "      <td>False</td>\n",
       "      <td>True</td>\n",
       "      <td>56.763859</td>\n",
       "      <td>F</td>\n",
       "      <td>NaN</td>\n",
       "      <td>2015-08-07</td>\n",
       "    </tr>\n",
       "    <tr>\n",
       "      <th>311975</th>\n",
       "      <td>9319489</td>\n",
       "      <td>False</td>\n",
       "      <td>False</td>\n",
       "      <td>False</td>\n",
       "      <td>True</td>\n",
       "      <td>NaN</td>\n",
       "      <td>NaN</td>\n",
       "      <td>NaN</td>\n",
       "      <td>NaN</td>\n",
       "    </tr>\n",
       "    <tr>\n",
       "      <th>206454</th>\n",
       "      <td>9319489</td>\n",
       "      <td>False</td>\n",
       "      <td>False</td>\n",
       "      <td>False</td>\n",
       "      <td>True</td>\n",
       "      <td>53.000000</td>\n",
       "      <td>F</td>\n",
       "      <td>NaN</td>\n",
       "      <td>NaN</td>\n",
       "    </tr>\n",
       "    <tr>\n",
       "      <th>383668</th>\n",
       "      <td>9319489</td>\n",
       "      <td>False</td>\n",
       "      <td>False</td>\n",
       "      <td>False</td>\n",
       "      <td>True</td>\n",
       "      <td>56.764000</td>\n",
       "      <td>F</td>\n",
       "      <td>NaN</td>\n",
       "      <td>2015-08-07</td>\n",
       "    </tr>\n",
       "    <tr>\n",
       "      <th>122383</th>\n",
       "      <td>9319489</td>\n",
       "      <td>False</td>\n",
       "      <td>False</td>\n",
       "      <td>False</td>\n",
       "      <td>True</td>\n",
       "      <td>53.000000</td>\n",
       "      <td>F</td>\n",
       "      <td>NaN</td>\n",
       "      <td>NaN</td>\n",
       "    </tr>\n",
       "    <tr>\n",
       "      <th>352424</th>\n",
       "      <td>9319489</td>\n",
       "      <td>False</td>\n",
       "      <td>False</td>\n",
       "      <td>False</td>\n",
       "      <td>True</td>\n",
       "      <td>56.763859</td>\n",
       "      <td>F</td>\n",
       "      <td>NaN</td>\n",
       "      <td>2015-08-07</td>\n",
       "    </tr>\n",
       "    <tr>\n",
       "      <th>314841</th>\n",
       "      <td>9319489</td>\n",
       "      <td>False</td>\n",
       "      <td>False</td>\n",
       "      <td>False</td>\n",
       "      <td>True</td>\n",
       "      <td>56.763859</td>\n",
       "      <td>F</td>\n",
       "      <td>NaN</td>\n",
       "      <td>8/7/2015</td>\n",
       "    </tr>\n",
       "    <tr>\n",
       "      <th>363449</th>\n",
       "      <td>9319489</td>\n",
       "      <td>False</td>\n",
       "      <td>False</td>\n",
       "      <td>False</td>\n",
       "      <td>True</td>\n",
       "      <td>56.764000</td>\n",
       "      <td>F</td>\n",
       "      <td>NaN</td>\n",
       "      <td>8/7/2015</td>\n",
       "    </tr>\n",
       "    <tr>\n",
       "      <th>337184</th>\n",
       "      <td>9319489</td>\n",
       "      <td>False</td>\n",
       "      <td>False</td>\n",
       "      <td>False</td>\n",
       "      <td>True</td>\n",
       "      <td>56.763859</td>\n",
       "      <td>F</td>\n",
       "      <td>NaN</td>\n",
       "      <td>2015-08-07</td>\n",
       "    </tr>\n",
       "  </tbody>\n",
       "</table>\n",
       "</div>"
      ],
      "text/plain": [
       "         caseid  true_true  true_false  drug_naive_true  drug_naive_false  \\\n",
       "308889  9319489      False       False            False              True   \n",
       "311975  9319489      False       False            False              True   \n",
       "206454  9319489      False       False            False              True   \n",
       "383668  9319489      False       False            False              True   \n",
       "122383  9319489      False       False            False              True   \n",
       "352424  9319489      False       False            False              True   \n",
       "314841  9319489      False       False            False              True   \n",
       "363449  9319489      False       False            False              True   \n",
       "337184  9319489      False       False            False              True   \n",
       "\n",
       "              age  sex  wt  event_date  \n",
       "308889  56.763859    F NaN  2015-08-07  \n",
       "311975        NaN  NaN NaN         NaN  \n",
       "206454  53.000000    F NaN         NaN  \n",
       "383668  56.764000    F NaN  2015-08-07  \n",
       "122383  53.000000    F NaN         NaN  \n",
       "352424  56.763859    F NaN  2015-08-07  \n",
       "314841  56.763859    F NaN    8/7/2015  \n",
       "363449  56.764000    F NaN    8/7/2015  \n",
       "337184  56.763859    F NaN  2015-08-07  "
      ]
     },
     "execution_count": 9,
     "metadata": {},
     "output_type": "execute_result"
    }
   ],
   "source": [
    "df_demo.loc[df_demo.caseid == 9319489]"
   ]
  },
  {
   "cell_type": "code",
   "execution_count": null,
   "metadata": {},
   "outputs": [],
   "source": []
  }
 ],
 "metadata": {
  "kernelspec": {
   "display_name": "Python 3",
   "language": "python",
   "name": "python3"
  },
  "language_info": {
   "codemirror_mode": {
    "name": "ipython",
    "version": 3
   },
   "file_extension": ".py",
   "mimetype": "text/x-python",
   "name": "python",
   "nbconvert_exporter": "python",
   "pygments_lexer": "ipython3",
   "version": "3.6.5"
  }
 },
 "nbformat": 4,
 "nbformat_minor": 2
}
